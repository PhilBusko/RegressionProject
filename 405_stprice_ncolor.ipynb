{
 "cells": [
  {
   "cell_type": "markdown",
   "metadata": {},
   "source": [
    "# Analysis: Linear Store Price\n",
    "\n",
    "Goal: Use linear regression to create a model for store price.   \n",
    "\n",
    "Difference: Remove <u>number of colors</u> feature due to high colinearity, and over-fitting. "
   ]
  },
  {
   "cell_type": "code",
   "execution_count": 1,
   "metadata": {},
   "outputs": [],
   "source": [
    "import pandas as PD\n",
    "import numpy as NP\n",
    "import sklearn.preprocessing as PP\n",
    "import sklearn.model_selection as MS\n",
    "import sklearn.linear_model as LM\n",
    "import statsmodels.stats as ST  \n",
    "from statsmodels.stats.outliers_influence import variance_inflation_factor as VIF\n",
    "\n",
    "import matplotlib.pyplot as MP\n",
    "import seaborn as SB\n",
    "%matplotlib inline"
   ]
  },
  {
   "cell_type": "code",
   "execution_count": 2,
   "metadata": {},
   "outputs": [],
   "source": [
    "from IPython.core.interactiveshell import InteractiveShell\n",
    "InteractiveShell.ast_node_interactivity = 'all'"
   ]
  },
  {
   "cell_type": "code",
   "execution_count": 3,
   "metadata": {},
   "outputs": [],
   "source": [
    "%load_ext autoreload\n",
    "%autoreload 2         # reload custom py file eveytime a new cell is run\n",
    "\n",
    "#import helper "
   ]
  },
  {
   "cell_type": "markdown",
   "metadata": {},
   "source": [
    "## Prepare Target & Features"
   ]
  },
  {
   "cell_type": "code",
   "execution_count": 4,
   "metadata": {},
   "outputs": [
    {
     "data": {
      "text/html": [
       "<div>\n",
       "<style scoped>\n",
       "    .dataframe tbody tr th:only-of-type {\n",
       "        vertical-align: middle;\n",
       "    }\n",
       "\n",
       "    .dataframe tbody tr th {\n",
       "        vertical-align: top;\n",
       "    }\n",
       "\n",
       "    .dataframe thead th {\n",
       "        text-align: right;\n",
       "    }\n",
       "</style>\n",
       "<table border=\"1\" class=\"dataframe\">\n",
       "  <thead>\n",
       "    <tr style=\"text-align: right;\">\n",
       "      <th></th>\n",
       "      <th>set_no</th>\n",
       "      <th>name</th>\n",
       "      <th>price_store</th>\n",
       "      <th>price_used</th>\n",
       "      <th>popularity</th>\n",
       "      <th>group</th>\n",
       "      <th>year</th>\n",
       "      <th>total_parts</th>\n",
       "      <th>number_parts</th>\n",
       "      <th>number_colors</th>\n",
       "      <th>scolor_1st</th>\n",
       "      <th>scolor_2nd</th>\n",
       "    </tr>\n",
       "  </thead>\n",
       "  <tbody>\n",
       "    <tr>\n",
       "      <th>0</th>\n",
       "      <td>1591-1</td>\n",
       "      <td>Danone Delivery Truck</td>\n",
       "      <td>NaN</td>\n",
       "      <td>28.0</td>\n",
       "      <td>NaN</td>\n",
       "      <td>Modern day</td>\n",
       "      <td>1980.0</td>\n",
       "      <td>40</td>\n",
       "      <td>19</td>\n",
       "      <td>4</td>\n",
       "      <td>White</td>\n",
       "      <td>Blue</td>\n",
       "    </tr>\n",
       "    <tr>\n",
       "      <th>1</th>\n",
       "      <td>1592-1</td>\n",
       "      <td>Town Square - Castle Scene</td>\n",
       "      <td>NaN</td>\n",
       "      <td>235.0</td>\n",
       "      <td>19.2</td>\n",
       "      <td>Modern day</td>\n",
       "      <td>1980.0</td>\n",
       "      <td>495</td>\n",
       "      <td>133</td>\n",
       "      <td>10</td>\n",
       "      <td>Black</td>\n",
       "      <td>Yellow</td>\n",
       "    </tr>\n",
       "    <tr>\n",
       "      <th>2</th>\n",
       "      <td>1651-2</td>\n",
       "      <td>Maersk Line Container Lorry</td>\n",
       "      <td>NaN</td>\n",
       "      <td>444.0</td>\n",
       "      <td>5.0</td>\n",
       "      <td>Modern day</td>\n",
       "      <td>1980.0</td>\n",
       "      <td>305</td>\n",
       "      <td>66</td>\n",
       "      <td>9</td>\n",
       "      <td>Blue</td>\n",
       "      <td>Gray</td>\n",
       "    </tr>\n",
       "    <tr>\n",
       "      <th>3</th>\n",
       "      <td>6305-1</td>\n",
       "      <td>Trees and Flowers</td>\n",
       "      <td>3.75</td>\n",
       "      <td>10.0</td>\n",
       "      <td>17.2</td>\n",
       "      <td>Modern day</td>\n",
       "      <td>1980.0</td>\n",
       "      <td>24</td>\n",
       "      <td>6</td>\n",
       "      <td>4</td>\n",
       "      <td>Green</td>\n",
       "      <td>Red</td>\n",
       "    </tr>\n",
       "    <tr>\n",
       "      <th>4</th>\n",
       "      <td>6306-1</td>\n",
       "      <td>Road Signs</td>\n",
       "      <td>2.50</td>\n",
       "      <td>13.0</td>\n",
       "      <td>12.0</td>\n",
       "      <td>Modern day</td>\n",
       "      <td>1980.0</td>\n",
       "      <td>12</td>\n",
       "      <td>10</td>\n",
       "      <td>1</td>\n",
       "      <td>White</td>\n",
       "      <td>White</td>\n",
       "    </tr>\n",
       "  </tbody>\n",
       "</table>\n",
       "</div>"
      ],
      "text/plain": [
       "   set_no                         name  price_store  price_used  popularity  \\\n",
       "0  1591-1        Danone Delivery Truck          NaN        28.0         NaN   \n",
       "1  1592-1   Town Square - Castle Scene          NaN       235.0        19.2   \n",
       "2  1651-2  Maersk Line Container Lorry          NaN       444.0         5.0   \n",
       "3  6305-1            Trees and Flowers         3.75        10.0        17.2   \n",
       "4  6306-1                   Road Signs         2.50        13.0        12.0   \n",
       "\n",
       "        group    year  total_parts  number_parts  number_colors scolor_1st  \\\n",
       "0  Modern day  1980.0           40            19              4      White   \n",
       "1  Modern day  1980.0          495           133             10      Black   \n",
       "2  Modern day  1980.0          305            66              9       Blue   \n",
       "3  Modern day  1980.0           24             6              4      Green   \n",
       "4  Modern day  1980.0           12            10              1      White   \n",
       "\n",
       "  scolor_2nd  \n",
       "0       Blue  \n",
       "1     Yellow  \n",
       "2       Gray  \n",
       "3        Red  \n",
       "4      White  "
      ]
     },
     "execution_count": 4,
     "metadata": {},
     "output_type": "execute_result"
    },
    {
     "name": "stdout",
     "output_type": "stream",
     "text": [
      "<class 'pandas.core.frame.DataFrame'>\n",
      "RangeIndex: 3213 entries, 0 to 3212\n",
      "Data columns (total 12 columns):\n",
      "set_no           3213 non-null object\n",
      "name             3213 non-null object\n",
      "price_store      2762 non-null float64\n",
      "price_used       3140 non-null float64\n",
      "popularity       3001 non-null float64\n",
      "group            3213 non-null object\n",
      "year             3213 non-null float64\n",
      "total_parts      3213 non-null int64\n",
      "number_parts     3213 non-null int64\n",
      "number_colors    3213 non-null int64\n",
      "scolor_1st       3213 non-null object\n",
      "scolor_2nd       3213 non-null object\n",
      "dtypes: float64(4), int64(3), object(5)\n",
      "memory usage: 301.3+ KB\n"
     ]
    }
   ],
   "source": [
    "FULL_FILE = 'data/brickset_features.csv'\n",
    "full_df = PD.read_csv(FULL_FILE)\n",
    "full_df.head()\n",
    "full_df.info()"
   ]
  },
  {
   "cell_type": "code",
   "execution_count": 5,
   "metadata": {},
   "outputs": [
    {
     "data": {
      "text/plain": [
       "(2762, 12)"
      ]
     },
     "execution_count": 5,
     "metadata": {},
     "output_type": "execute_result"
    }
   ],
   "source": [
    "# filter out rows without store price\n",
    "\n",
    "full_df = full_df.loc[full_df['price_store'].isna()==False]\n",
    "full_df.shape"
   ]
  },
  {
   "cell_type": "code",
   "execution_count": 6,
   "metadata": {},
   "outputs": [
    {
     "data": {
      "text/plain": [
       "(2762,)"
      ]
     },
     "execution_count": 6,
     "metadata": {},
     "output_type": "execute_result"
    }
   ],
   "source": [
    "# target series\n",
    "\n",
    "target_sr = full_df['price_store']\n",
    "target_sr.shape"
   ]
  },
  {
   "cell_type": "code",
   "execution_count": 7,
   "metadata": {
    "scrolled": true
   },
   "outputs": [
    {
     "data": {
      "text/plain": [
       "(2762, 26)"
      ]
     },
     "execution_count": 7,
     "metadata": {},
     "output_type": "execute_result"
    },
    {
     "data": {
      "text/plain": [
       "Index(['year', 'total_parts', 'number_parts', 'group_Historical',\n",
       "       'group_Licensed', 'group_Model making', 'group_Modern day',\n",
       "       'group_Racing', 'scolor_1st_Blue', 'scolor_1st_Brown',\n",
       "       'scolor_1st_Gray', 'scolor_1st_Green', 'scolor_1st_Red',\n",
       "       'scolor_1st_Tan', 'scolor_1st_Transparent', 'scolor_1st_White',\n",
       "       'scolor_1st_Yellow', 'scolor_2nd_Blue', 'scolor_2nd_Brown',\n",
       "       'scolor_2nd_Gray', 'scolor_2nd_Green', 'scolor_2nd_Red',\n",
       "       'scolor_2nd_Tan', 'scolor_2nd_Transparent', 'scolor_2nd_White',\n",
       "       'scolor_2nd_Yellow'],\n",
       "      dtype='object')"
      ]
     },
     "execution_count": 7,
     "metadata": {},
     "output_type": "execute_result"
    }
   ],
   "source": [
    "# feature dataframe with one-hot encoding\n",
    "# remove the 'year' column\n",
    "\n",
    "feature_ls = ['group', 'year', 'total_parts', 'number_parts', 'scolor_1st', 'scolor_2nd']\n",
    "feature_cat_df = full_df[feature_ls]\n",
    "\n",
    "feature_df = PD.get_dummies(feature_cat_df, drop_first= True, \n",
    "               columns=['group', 'scolor_1st', 'scolor_2nd'])\n",
    "feature_df.shape\n",
    "feature_df.columns"
   ]
  },
  {
   "cell_type": "code",
   "execution_count": 8,
   "metadata": {},
   "outputs": [
    {
     "data": {
      "text/plain": [
       "<function statsmodels.stats.outliers_influence.variance_inflation_factor(exog, exog_idx)>"
      ]
     },
     "execution_count": 8,
     "metadata": {},
     "output_type": "execute_result"
    },
    {
     "data": {
      "text/plain": [
       "[('year', 16.497070201039897),\n",
       " ('total_parts', 4.6279487115651525),\n",
       " ('number_parts', 8.044687629703963),\n",
       " ('group_Historical', 1.6186607086351859),\n",
       " ('group_Licensed', 2.889750099541167),\n",
       " ('group_Model making', 1.7343125432401485),\n",
       " ('group_Modern day', 2.80496197706321),\n",
       " ('group_Racing', 1.3695027595433096),\n",
       " ('scolor_1st_Blue', 1.143886572068808),\n",
       " ('scolor_1st_Brown', 1.216028584612779),\n",
       " ('scolor_1st_Gray', 2.0506174044603847),\n",
       " ('scolor_1st_Green', 1.0719913762491622),\n",
       " ('scolor_1st_Red', 1.2638895379782773),\n",
       " ('scolor_1st_Tan', 1.1529644019008247),\n",
       " ('scolor_1st_Transparent', 1.0104838290772222),\n",
       " ('scolor_1st_White', 1.8038016509383155),\n",
       " ('scolor_1st_Yellow', 1.224004611667152),\n",
       " ('scolor_2nd_Blue', 1.291278662146937),\n",
       " ('scolor_2nd_Brown', 1.2523785290626812),\n",
       " ('scolor_2nd_Gray', 3.573048617129724),\n",
       " ('scolor_2nd_Green', 1.1569178609730224),\n",
       " ('scolor_2nd_Red', 1.5803314586159924),\n",
       " ('scolor_2nd_Tan', 1.2376716820134317),\n",
       " ('scolor_2nd_Transparent', 1.0828190822663295),\n",
       " ('scolor_2nd_White', 1.7084502732840283),\n",
       " ('scolor_2nd_Yellow', 1.4261201566846131)]"
      ]
     },
     "execution_count": 8,
     "metadata": {},
     "output_type": "execute_result"
    }
   ],
   "source": [
    "# check for colinearity\n",
    "\n",
    "ST.outliers_influence.variance_inflation_factor\n",
    "vif = [VIF(feature_df.values, i) for i in range(feature_df.shape[1])]\n",
    "list(zip(feature_df.columns, vif))"
   ]
  },
  {
   "cell_type": "code",
   "execution_count": null,
   "metadata": {},
   "outputs": [],
   "source": []
  },
  {
   "cell_type": "code",
   "execution_count": null,
   "metadata": {},
   "outputs": [],
   "source": []
  },
  {
   "cell_type": "markdown",
   "metadata": {},
   "source": [
    "## Split Test & Standardize"
   ]
  },
  {
   "cell_type": "code",
   "execution_count": 9,
   "metadata": {},
   "outputs": [],
   "source": [
    "TEST_SPLIT = 0.2\n",
    "SEED = 1"
   ]
  },
  {
   "cell_type": "code",
   "execution_count": 10,
   "metadata": {},
   "outputs": [
    {
     "data": {
      "text/plain": [
       "19.99    210\n",
       "29.99    165\n",
       "9.99     145\n",
       "39.99    142\n",
       "49.99    140\n",
       "Name: price_store, dtype: int64"
      ]
     },
     "execution_count": 10,
     "metadata": {},
     "output_type": "execute_result"
    },
    {
     "data": {
      "text/plain": [
       "(129,)"
      ]
     },
     "execution_count": 10,
     "metadata": {},
     "output_type": "execute_result"
    }
   ],
   "source": [
    "# not able to stratify the subsets \n",
    "\n",
    "stratify_sr = target_sr.value_counts()\n",
    "stratify_sr = stratify_sr[stratify_sr > 1]\n",
    "stratify_sr.head()\n",
    "stratify_sr.shape"
   ]
  },
  {
   "cell_type": "code",
   "execution_count": 11,
   "metadata": {
    "scrolled": false
   },
   "outputs": [
    {
     "data": {
      "text/plain": [
       "(2209,)"
      ]
     },
     "execution_count": 11,
     "metadata": {},
     "output_type": "execute_result"
    },
    {
     "data": {
      "text/plain": [
       "(553,)"
      ]
     },
     "execution_count": 11,
     "metadata": {},
     "output_type": "execute_result"
    },
    {
     "data": {
      "text/plain": [
       "(2209, 26)"
      ]
     },
     "execution_count": 11,
     "metadata": {},
     "output_type": "execute_result"
    },
    {
     "data": {
      "text/plain": [
       "(553, 26)"
      ]
     },
     "execution_count": 11,
     "metadata": {},
     "output_type": "execute_result"
    }
   ],
   "source": [
    "y_train, y_test, X_train, X_test = MS.train_test_split(target_sr, feature_df, \n",
    "                                                       test_size=TEST_SPLIT, random_state=SEED)\n",
    "\n",
    "y_train.shape\n",
    "y_test.shape \n",
    "X_train.shape\n",
    "X_test.shape"
   ]
  },
  {
   "cell_type": "code",
   "execution_count": 12,
   "metadata": {},
   "outputs": [
    {
     "data": {
      "text/plain": [
       "StandardScaler(copy=True, with_mean=True, with_std=True)"
      ]
     },
     "execution_count": 12,
     "metadata": {},
     "output_type": "execute_result"
    },
    {
     "data": {
      "text/plain": [
       "(26,)"
      ]
     },
     "execution_count": 12,
     "metadata": {},
     "output_type": "execute_result"
    }
   ],
   "source": [
    "# fit the scalers based on the training set\n",
    "# must include all features, including one-hot encoded ones\n",
    "# target variable does not need to be transformed\n",
    "\n",
    "scaler = PP.StandardScaler()\n",
    "scaler.fit(X_train)\n",
    "scaler.mean_.shape"
   ]
  },
  {
   "cell_type": "code",
   "execution_count": 13,
   "metadata": {},
   "outputs": [
    {
     "data": {
      "text/plain": [
       "(2209, 26)"
      ]
     },
     "execution_count": 13,
     "metadata": {},
     "output_type": "execute_result"
    }
   ],
   "source": [
    "# create standardized feature sets\n",
    "\n",
    "X_train_std = scaler.transform(X_train)\n",
    "X_test_std = scaler.transform(X_test)\n",
    "\n",
    "X_train_std.shape"
   ]
  },
  {
   "cell_type": "code",
   "execution_count": 14,
   "metadata": {},
   "outputs": [
    {
     "data": {
      "text/plain": [
       "<matplotlib.axes._subplots.AxesSubplot at 0x10f961a90>"
      ]
     },
     "execution_count": 14,
     "metadata": {},
     "output_type": "execute_result"
    },
    {
     "data": {
      "text/plain": [
       "[Text(0, 0.5, 'Number of Sets'), Text(0.5, 0, 'Total Parts')]"
      ]
     },
     "execution_count": 14,
     "metadata": {},
     "output_type": "execute_result"
    },
    {
     "data": {
      "text/plain": [
       "<matplotlib.axes._subplots.AxesSubplot at 0x1a233aca90>"
      ]
     },
     "execution_count": 14,
     "metadata": {},
     "output_type": "execute_result"
    },
    {
     "data": {
      "text/plain": [
       "[Text(0, 0.5, 'Number of Sets'), Text(0.5, 0, 'Standard Total Parts')]"
      ]
     },
     "execution_count": 14,
     "metadata": {},
     "output_type": "execute_result"
    },
    {
     "data": {
      "image/png": "[encoded data removed]",
      "text/plain": [
       "<Figure size 1152x432 with 2 Axes>"
      ]
     },
     "metadata": {
      "needs_background": "light"
     },
     "output_type": "display_data"
    }
   ],
   "source": [
    "fig, axs = MP.subplots(1, 2, figsize=(16, 6))\n",
    "parts_idx = X_train.columns.get_loc('total_parts')\n",
    "\n",
    "SB.distplot(X_train['total_parts'], ax=axs[0], kde=False, bins=100)\n",
    "axs[0].set(xlabel='Total Parts', ylabel='Number of Sets')\n",
    "\n",
    "SB.distplot(X_train_std[:, parts_idx], ax=axs[1], kde=False, bins=100)\n",
    "axs[1].set(xlabel='Standard Total Parts', ylabel='Number of Sets')\n",
    "\n",
    "MP.show()"
   ]
  },
  {
   "cell_type": "markdown",
   "metadata": {},
   "source": [
    "## Setup Algorithm"
   ]
  },
  {
   "cell_type": "code",
   "execution_count": 15,
   "metadata": {},
   "outputs": [],
   "source": [
    "algorithm_ls = []\n",
    "alpha_ls = [1e-4, 1e-3, 1e-2, 1e-1, 1, 1e1, 1e2, 1e3]\n",
    "\n",
    "def get_adjusted_rsquared(rsquared, size, num_cols):\n",
    "    adj_rsq = 1 - (1 - rsquared) * (size -1) / (size - num_cols -1)\n",
    "    return adj_rsq"
   ]
  },
  {
   "cell_type": "markdown",
   "metadata": {},
   "source": [
    "### Vanilla Linear"
   ]
  },
  {
   "cell_type": "code",
   "execution_count": 16,
   "metadata": {},
   "outputs": [
    {
     "data": {
      "text/plain": [
       "LinearRegression(copy_X=True, fit_intercept=True, n_jobs=None, normalize=False)"
      ]
     },
     "execution_count": 16,
     "metadata": {},
     "output_type": "execute_result"
    },
    {
     "data": {
      "text/plain": [
       "(26,)"
      ]
     },
     "execution_count": 16,
     "metadata": {},
     "output_type": "execute_result"
    },
    {
     "data": {
      "text/plain": [
       "()"
      ]
     },
     "execution_count": 16,
     "metadata": {},
     "output_type": "execute_result"
    }
   ],
   "source": [
    "# get main result\n",
    "# can't use test set until model is chosen\n",
    "\n",
    "linreg = LM.LinearRegression()\n",
    "linreg.fit(X_train_std, y_train)\n",
    "linreg.coef_.shape\n",
    "linreg.intercept_.shape"
   ]
  },
  {
   "cell_type": "code",
   "execution_count": 17,
   "metadata": {},
   "outputs": [
    {
     "data": {
      "text/plain": [
       "0.8819306957128092"
      ]
     },
     "execution_count": 17,
     "metadata": {},
     "output_type": "execute_result"
    }
   ],
   "source": [
    "train_score = linreg.score(X_train_std, y_train)\n",
    "train_score_adj = get_adjusted_rsquared(train_score, X_train_std.shape[0], X_train_std.shape[1])\n",
    "train_score_adj"
   ]
  },
  {
   "cell_type": "code",
   "execution_count": 18,
   "metadata": {},
   "outputs": [
    {
     "data": {
      "text/plain": [
       "{'fit_time': array([0.00628114, 0.02979994, 0.00504208, 0.00529313, 0.0028398 ]),\n",
       " 'score_time': array([0.00213075, 0.00462604, 0.00372005, 0.00085378, 0.00117326]),\n",
       " 'test_score': array([0.88587451, 0.88108601, 0.8743372 , 0.87035144, 0.87167472]),\n",
       " 'train_score': array([0.88183659, 0.88248605, 0.88517151, 0.8854455 , 0.88550941])}"
      ]
     },
     "execution_count": 18,
     "metadata": {},
     "output_type": "execute_result"
    }
   ],
   "source": [
    "# use cross validation to get error\n",
    "\n",
    "cv_results = MS.cross_validate(LM.LinearRegression(), X_train_std, y_train, cv=5, return_train_score=True)\n",
    "cv_results"
   ]
  },
  {
   "cell_type": "code",
   "execution_count": 19,
   "metadata": {},
   "outputs": [
    {
     "data": {
      "text/plain": [
       "{'type': 'baseline',\n",
       " 'lambda': 5e-05,\n",
       " 'cvtrain_score': 0.8840898139552248,\n",
       " 'cvtrain_error': 0.0015919989892760186,\n",
       " 'cvtest_score': 0.8766647756996024,\n",
       " 'cvtest_error': 0.0059083501377987825}"
      ]
     },
     "execution_count": 19,
     "metadata": {},
     "output_type": "execute_result"
    }
   ],
   "source": [
    "# compile algorithm results\n",
    "# ok to use non-adjusted r-sq, use adjusted just for final test\n",
    "\n",
    "new_dx = {\n",
    "    'type': 'baseline',\n",
    "    'lambda': NP.min(alpha_ls) - 0.5 *NP.min(alpha_ls), \n",
    "    'cvtrain_score': cv_results['train_score'].mean(),\n",
    "    'cvtrain_error': cv_results['train_score'].std(),\n",
    "    'cvtest_score': cv_results['test_score'].mean(),\n",
    "    'cvtest_error': cv_results['test_score'].std(),\n",
    "}\n",
    "algorithm_ls.append(new_dx)\n",
    "new_dx"
   ]
  },
  {
   "cell_type": "markdown",
   "metadata": {},
   "source": [
    "### LASSO"
   ]
  },
  {
   "cell_type": "code",
   "execution_count": 20,
   "metadata": {},
   "outputs": [
    {
     "data": {
      "text/plain": [
       "Lasso(alpha=100, copy_X=True, fit_intercept=True, max_iter=1000,\n",
       "      normalize=False, positive=False, precompute=False, random_state=None,\n",
       "      selection='cyclic', tol=0.0001, warm_start=False)"
      ]
     },
     "execution_count": 20,
     "metadata": {},
     "output_type": "execute_result"
    },
    {
     "data": {
      "text/plain": [
       "(26,)"
      ]
     },
     "execution_count": 20,
     "metadata": {},
     "output_type": "execute_result"
    },
    {
     "data": {
      "text/plain": [
       "()"
      ]
     },
     "execution_count": 20,
     "metadata": {},
     "output_type": "execute_result"
    }
   ],
   "source": [
    "lasso = LM.Lasso(alpha=100)\n",
    "lasso.fit(X_train_std, y_train)\n",
    "lasso.coef_.shape\n",
    "lasso.intercept_.shape"
   ]
  },
  {
   "cell_type": "code",
   "execution_count": 21,
   "metadata": {},
   "outputs": [
    {
     "data": {
      "text/plain": [
       "0.0"
      ]
     },
     "execution_count": 21,
     "metadata": {},
     "output_type": "execute_result"
    }
   ],
   "source": [
    "train_score = lasso.score(X_train_std, y_train)\n",
    "train_score"
   ]
  },
  {
   "cell_type": "code",
   "execution_count": 22,
   "metadata": {},
   "outputs": [],
   "source": [
    "for alp in alpha_ls:\n",
    "    \n",
    "    lasso_cv = LM.Lasso(alpha=alp)\n",
    "    cv_results = MS.cross_validate(lasso_cv, X_train_std, y_train, cv=5, return_train_score=True)\n",
    "    \n",
    "    new_dx = {\n",
    "        'type': 'lasso',\n",
    "        'lambda': alp - 0.2 * alp,\n",
    "        'cvtrain_score': cv_results['train_score'].mean(),\n",
    "        'cvtrain_error': cv_results['train_score'].std(),\n",
    "        'cvtest_score': cv_results['test_score'].mean(),\n",
    "        'cvtest_error': cv_results['test_score'].std(),\n",
    "    }\n",
    "    algorithm_ls.append(new_dx)\n"
   ]
  },
  {
   "cell_type": "markdown",
   "metadata": {},
   "source": [
    "### Ridge"
   ]
  },
  {
   "cell_type": "code",
   "execution_count": 23,
   "metadata": {},
   "outputs": [
    {
     "data": {
      "text/plain": [
       "Ridge(alpha=0.01, copy_X=True, fit_intercept=True, max_iter=None,\n",
       "      normalize=False, random_state=None, solver='auto', tol=0.001)"
      ]
     },
     "execution_count": 23,
     "metadata": {},
     "output_type": "execute_result"
    },
    {
     "data": {
      "text/plain": [
       "(26,)"
      ]
     },
     "execution_count": 23,
     "metadata": {},
     "output_type": "execute_result"
    },
    {
     "data": {
      "text/plain": [
       "()"
      ]
     },
     "execution_count": 23,
     "metadata": {},
     "output_type": "execute_result"
    }
   ],
   "source": [
    "ridge = LM.Ridge(alpha=0.01)\n",
    "ridge.fit(X_train_std, y_train)\n",
    "ridge.coef_.shape\n",
    "ridge.intercept_.shape"
   ]
  },
  {
   "cell_type": "code",
   "execution_count": 24,
   "metadata": {},
   "outputs": [
    {
     "data": {
      "text/plain": [
       "0.8833210045233864"
      ]
     },
     "execution_count": 24,
     "metadata": {},
     "output_type": "execute_result"
    }
   ],
   "source": [
    "train_score = ridge.score(X_train_std, y_train)\n",
    "train_score"
   ]
  },
  {
   "cell_type": "code",
   "execution_count": 25,
   "metadata": {},
   "outputs": [],
   "source": [
    "for alp in alpha_ls:\n",
    "    \n",
    "    ridge_cv = LM.Ridge(alpha=alp)\n",
    "    cv_results = MS.cross_validate(ridge_cv, X_train_std, y_train, cv=5, return_train_score=True)\n",
    "    \n",
    "    new_dx = {\n",
    "        'type': 'ridge',\n",
    "        'lambda': alp,\n",
    "        'cvtrain_score': cv_results['train_score'].mean(),\n",
    "        'cvtrain_error': cv_results['train_score'].std(),\n",
    "        'cvtest_score': cv_results['test_score'].mean(),\n",
    "        'cvtest_error': cv_results['test_score'].std(),\n",
    "    }\n",
    "    algorithm_ls.append(new_dx)"
   ]
  },
  {
   "cell_type": "markdown",
   "metadata": {},
   "source": [
    "### Evaluate Results"
   ]
  },
  {
   "cell_type": "code",
   "execution_count": 26,
   "metadata": {},
   "outputs": [
    {
     "data": {
      "text/html": [
       "<div>\n",
       "<style scoped>\n",
       "    .dataframe tbody tr th:only-of-type {\n",
       "        vertical-align: middle;\n",
       "    }\n",
       "\n",
       "    .dataframe tbody tr th {\n",
       "        vertical-align: top;\n",
       "    }\n",
       "\n",
       "    .dataframe thead th {\n",
       "        text-align: right;\n",
       "    }\n",
       "</style>\n",
       "<table border=\"1\" class=\"dataframe\">\n",
       "  <thead>\n",
       "    <tr style=\"text-align: right;\">\n",
       "      <th></th>\n",
       "      <th>cvtest_error</th>\n",
       "      <th>cvtest_score</th>\n",
       "      <th>cvtrain_error</th>\n",
       "      <th>cvtrain_score</th>\n",
       "      <th>lambda</th>\n",
       "      <th>type</th>\n",
       "    </tr>\n",
       "  </thead>\n",
       "  <tbody>\n",
       "    <tr>\n",
       "      <th>0</th>\n",
       "      <td>0.005908</td>\n",
       "      <td>0.876665</td>\n",
       "      <td>0.001592</td>\n",
       "      <td>0.884090</td>\n",
       "      <td>0.00005</td>\n",
       "      <td>baseline</td>\n",
       "    </tr>\n",
       "    <tr>\n",
       "      <th>1</th>\n",
       "      <td>0.005909</td>\n",
       "      <td>0.876665</td>\n",
       "      <td>0.001592</td>\n",
       "      <td>0.884090</td>\n",
       "      <td>0.00008</td>\n",
       "      <td>lasso</td>\n",
       "    </tr>\n",
       "    <tr>\n",
       "      <th>2</th>\n",
       "      <td>0.005913</td>\n",
       "      <td>0.876669</td>\n",
       "      <td>0.001592</td>\n",
       "      <td>0.884090</td>\n",
       "      <td>0.00080</td>\n",
       "      <td>lasso</td>\n",
       "    </tr>\n",
       "    <tr>\n",
       "      <th>3</th>\n",
       "      <td>0.005963</td>\n",
       "      <td>0.876702</td>\n",
       "      <td>0.001592</td>\n",
       "      <td>0.884087</td>\n",
       "      <td>0.00800</td>\n",
       "      <td>lasso</td>\n",
       "    </tr>\n",
       "    <tr>\n",
       "      <th>4</th>\n",
       "      <td>0.006472</td>\n",
       "      <td>0.876852</td>\n",
       "      <td>0.001598</td>\n",
       "      <td>0.883890</td>\n",
       "      <td>0.08000</td>\n",
       "      <td>lasso</td>\n",
       "    </tr>\n",
       "  </tbody>\n",
       "</table>\n",
       "</div>"
      ],
      "text/plain": [
       "   cvtest_error  cvtest_score  cvtrain_error  cvtrain_score   lambda      type\n",
       "0      0.005908      0.876665       0.001592       0.884090  0.00005  baseline\n",
       "1      0.005909      0.876665       0.001592       0.884090  0.00008     lasso\n",
       "2      0.005913      0.876669       0.001592       0.884090  0.00080     lasso\n",
       "3      0.005963      0.876702       0.001592       0.884087  0.00800     lasso\n",
       "4      0.006472      0.876852       0.001598       0.883890  0.08000     lasso"
      ]
     },
     "execution_count": 26,
     "metadata": {},
     "output_type": "execute_result"
    },
    {
     "name": "stdout",
     "output_type": "stream",
     "text": [
      "<class 'pandas.core.frame.DataFrame'>\n",
      "RangeIndex: 17 entries, 0 to 16\n",
      "Data columns (total 6 columns):\n",
      "cvtest_error     17 non-null float64\n",
      "cvtest_score     17 non-null float64\n",
      "cvtrain_error    17 non-null float64\n",
      "cvtrain_score    17 non-null float64\n",
      "lambda           17 non-null float64\n",
      "type             17 non-null object\n",
      "dtypes: float64(5), object(1)\n",
      "memory usage: 896.0+ bytes\n"
     ]
    }
   ],
   "source": [
    "algorithm_df = PD.DataFrame(algorithm_ls)\n",
    "algorithm_df.head()\n",
    "algorithm_df.info()"
   ]
  },
  {
   "cell_type": "code",
   "execution_count": 27,
   "metadata": {},
   "outputs": [],
   "source": [
    "InteractiveShell.ast_node_interactivity = 'last'"
   ]
  },
  {
   "cell_type": "code",
   "execution_count": 28,
   "metadata": {
    "scrolled": false
   },
   "outputs": [
    {
     "data": {
      "image/png": "[encoded data removed]",
      "text/plain": [
       "<Figure size 936x504 with 1 Axes>"
      ]
     },
     "metadata": {
      "needs_background": "light"
     },
     "output_type": "display_data"
    }
   ],
   "source": [
    "fig, axs = MP.subplots(1, 1, figsize=(13, 7))\n",
    "\n",
    "baseline_df = algorithm_df.loc[algorithm_df['type']=='baseline']\n",
    "ebc = axs.errorbar(x=baseline_df['lambda'], y=baseline_df['cvtrain_score'], yerr=baseline_df['cvtrain_error'],\n",
    "             color='orange', label='Baseline Train', marker='o',capsize=6, capthick=2, linestyle='--')\n",
    "ebc[-1][0].set_linestyle('--')\n",
    "axs.errorbar(x=baseline_df['lambda'], y=baseline_df['cvtest_score'], yerr=baseline_df['cvtest_error'],\n",
    "             color='crimson', label='Baseline Test', marker='o',capsize=6, capthick=2)\n",
    "\n",
    "lasso_df = algorithm_df.loc[algorithm_df['type']=='lasso']\n",
    "ebc = axs.errorbar(x=lasso_df['lambda'], y=lasso_df['cvtrain_score'], yerr=lasso_df['cvtrain_error'],\n",
    "             color='lime', label='LASSO Train', marker='o',capsize=6, capthick=2, linestyle='--')\n",
    "ebc[-1][0].set_linestyle('--')\n",
    "axs.errorbar(x=lasso_df['lambda'], y=lasso_df['cvtest_score'], yerr=lasso_df['cvtest_error'],\n",
    "             color='green', label='LASSO Test', marker='o',capsize=6, capthick=2)\n",
    "\n",
    "ridge_df = algorithm_df.loc[algorithm_df['type']=='ridge']\n",
    "ebc = axs.errorbar(x=ridge_df['lambda'], y=ridge_df['cvtrain_score'], yerr=ridge_df['cvtrain_error'],\n",
    "             color='skyblue', label='Ridge Train', marker='o',capsize=6, capthick=2, linestyle='--')\n",
    "ebc[-1][0].set_linestyle('--')\n",
    "axs.errorbar(x=ridge_df['lambda'], y=ridge_df['cvtest_score'], yerr=ridge_df['cvtest_error'],\n",
    "             color='blue', label='Ridge Test', marker='o',capsize=6, capthick=2)\n",
    "\n",
    "axs.set(title='Store Price Algorithms', xlabel='lambda', ylabel='CV Score (R^2)', xscale='log', ylim=(0.86, 0.895))\n",
    "axs.set_xticks(alpha_ls)\n",
    "MP.legend()\n",
    "MP.show()"
   ]
  },
  {
   "cell_type": "markdown",
   "metadata": {},
   "source": [
    "## Choose Best Algorithm"
   ]
  },
  {
   "cell_type": "code",
   "execution_count": 29,
   "metadata": {},
   "outputs": [],
   "source": [
    "InteractiveShell.ast_node_interactivity = 'all'"
   ]
  },
  {
   "cell_type": "code",
   "execution_count": 30,
   "metadata": {},
   "outputs": [
    {
     "data": {
      "text/html": [
       "<div>\n",
       "<style scoped>\n",
       "    .dataframe tbody tr th:only-of-type {\n",
       "        vertical-align: middle;\n",
       "    }\n",
       "\n",
       "    .dataframe tbody tr th {\n",
       "        vertical-align: top;\n",
       "    }\n",
       "\n",
       "    .dataframe thead th {\n",
       "        text-align: right;\n",
       "    }\n",
       "</style>\n",
       "<table border=\"1\" class=\"dataframe\">\n",
       "  <thead>\n",
       "    <tr style=\"text-align: right;\">\n",
       "      <th></th>\n",
       "      <th>cvtest_error</th>\n",
       "      <th>cvtest_score</th>\n",
       "      <th>cvtrain_error</th>\n",
       "      <th>cvtrain_score</th>\n",
       "      <th>lambda</th>\n",
       "      <th>type</th>\n",
       "    </tr>\n",
       "  </thead>\n",
       "  <tbody>\n",
       "    <tr>\n",
       "      <th>14</th>\n",
       "      <td>0.006755</td>\n",
       "      <td>0.876966</td>\n",
       "      <td>0.001596</td>\n",
       "      <td>0.88405</td>\n",
       "      <td>10.0</td>\n",
       "      <td>ridge</td>\n",
       "    </tr>\n",
       "  </tbody>\n",
       "</table>\n",
       "</div>"
      ],
      "text/plain": [
       "    cvtest_error  cvtest_score  cvtrain_error  cvtrain_score  lambda   type\n",
       "14      0.006755      0.876966       0.001596        0.88405    10.0  ridge"
      ]
     },
     "execution_count": 30,
     "metadata": {},
     "output_type": "execute_result"
    }
   ],
   "source": [
    "best_df = algorithm_df.loc[algorithm_df['cvtest_score']==algorithm_df['cvtest_score'].max()]\n",
    "best_df"
   ]
  },
  {
   "cell_type": "code",
   "execution_count": 31,
   "metadata": {},
   "outputs": [
    {
     "data": {
      "text/plain": [
       "Lasso(alpha=0.1, copy_X=True, fit_intercept=True, max_iter=1000,\n",
       "      normalize=False, positive=False, precompute=False, random_state=None,\n",
       "      selection='cyclic', tol=0.0001, warm_start=False)"
      ]
     },
     "execution_count": 31,
     "metadata": {},
     "output_type": "execute_result"
    },
    {
     "data": {
      "text/plain": [
       "(26,)"
      ]
     },
     "execution_count": 31,
     "metadata": {},
     "output_type": "execute_result"
    },
    {
     "data": {
      "text/plain": [
       "289.8462783884876"
      ]
     },
     "execution_count": 31,
     "metadata": {},
     "output_type": "execute_result"
    }
   ],
   "source": [
    "lasso = LM.Lasso(alpha=0.1)\n",
    "lasso.fit(X_train, y_train)\n",
    "lasso.coef_.shape\n",
    "lasso.intercept_"
   ]
  },
  {
   "cell_type": "code",
   "execution_count": 32,
   "metadata": {},
   "outputs": [
    {
     "data": {
      "text/plain": [
       "Index(['year', 'total_parts', 'number_parts', 'group_Historical',\n",
       "       'group_Licensed', 'group_Model making', 'group_Modern day',\n",
       "       'group_Racing', 'scolor_1st_Blue', 'scolor_1st_Brown',\n",
       "       'scolor_1st_Gray', 'scolor_1st_Green', 'scolor_1st_Red',\n",
       "       'scolor_1st_Tan', 'scolor_1st_Transparent', 'scolor_1st_White',\n",
       "       'scolor_1st_Yellow', 'scolor_2nd_Blue', 'scolor_2nd_Brown',\n",
       "       'scolor_2nd_Gray', 'scolor_2nd_Green', 'scolor_2nd_Red',\n",
       "       'scolor_2nd_Tan', 'scolor_2nd_Transparent', 'scolor_2nd_White',\n",
       "       'scolor_2nd_Yellow'],\n",
       "      dtype='object')"
      ]
     },
     "execution_count": 32,
     "metadata": {},
     "output_type": "execute_result"
    }
   ],
   "source": [
    "feature_df.columns"
   ]
  },
  {
   "cell_type": "code",
   "execution_count": 33,
   "metadata": {},
   "outputs": [],
   "source": [
    "beta_year = lasso.coef_[feature_df.columns.get_loc('year')]\n",
    "beta_total_parts = lasso.coef_[feature_df.columns.get_loc('total_parts')]\n",
    "beta_number_parts = lasso.coef_[feature_df.columns.get_loc('number_parts')]\n",
    "#beta_number_colors = lasso.coef_[feature_df.columns.get_loc('number_colors')]\n",
    "beta_group = NP.mean([ lasso.coef_[feature_df.columns.get_loc('group_Historical')],\n",
    "                       lasso.coef_[feature_df.columns.get_loc('group_Licensed')],\n",
    "                       lasso.coef_[feature_df.columns.get_loc('group_Model making')],\n",
    "                       lasso.coef_[feature_df.columns.get_loc('group_Modern day')],\n",
    "                       lasso.coef_[feature_df.columns.get_loc('group_Racing')], ])\n",
    "beta_scolor_1st = NP.mean([ lasso.coef_[feature_df.columns.get_loc('scolor_1st_Blue')],\n",
    "                       lasso.coef_[feature_df.columns.get_loc('scolor_1st_Brown')],\n",
    "                       lasso.coef_[feature_df.columns.get_loc('scolor_1st_Gray')],\n",
    "                       lasso.coef_[feature_df.columns.get_loc('scolor_1st_Green')],\n",
    "                       lasso.coef_[feature_df.columns.get_loc('scolor_1st_Red')],\n",
    "                       lasso.coef_[feature_df.columns.get_loc('scolor_1st_Tan')],\n",
    "                       lasso.coef_[feature_df.columns.get_loc('scolor_1st_Transparent')],\n",
    "                       lasso.coef_[feature_df.columns.get_loc('scolor_1st_White')],\n",
    "                       lasso.coef_[feature_df.columns.get_loc('scolor_1st_Yellow')]  ])\n",
    "beta_scolor_2nd = NP.mean([ lasso.coef_[feature_df.columns.get_loc('scolor_2nd_Blue')],\n",
    "                       lasso.coef_[feature_df.columns.get_loc('scolor_2nd_Brown')],\n",
    "                       lasso.coef_[feature_df.columns.get_loc('scolor_2nd_Gray')],\n",
    "                       lasso.coef_[feature_df.columns.get_loc('scolor_2nd_Green')],\n",
    "                       lasso.coef_[feature_df.columns.get_loc('scolor_2nd_Red')],\n",
    "                       lasso.coef_[feature_df.columns.get_loc('scolor_2nd_Tan')],\n",
    "                       lasso.coef_[feature_df.columns.get_loc('scolor_2nd_Transparent')],\n",
    "                       lasso.coef_[feature_df.columns.get_loc('scolor_2nd_White')],\n",
    "                       lasso.coef_[feature_df.columns.get_loc('scolor_2nd_Yellow')]  ])"
   ]
  },
  {
   "cell_type": "code",
   "execution_count": 34,
   "metadata": {},
   "outputs": [
    {
     "name": "stdout",
     "output_type": "stream",
     "text": [
      "year: -0.1450\n",
      "total_parts:  0.0711\n",
      "number_parts:  0.1038\n",
      "group: -0.3609\n",
      "scolor_1st:  0.1539\n",
      "scolor_2nd:  0.0853\n"
     ]
    }
   ],
   "source": [
    "print(f'year: {beta_year: .4f}')\n",
    "print(f'total_parts: {beta_total_parts: .4f}')\n",
    "print(f'number_parts: {beta_number_parts: .4f}')\n",
    "#print(f'number_colors: {beta_number_colors: .4f}')\n",
    "print(f'group: {beta_group: .4f}')\n",
    "print(f'scolor_1st: {beta_scolor_1st: .4f}')\n",
    "print(f'scolor_2nd: {beta_scolor_2nd: .4f}')"
   ]
  },
  {
   "cell_type": "code",
   "execution_count": null,
   "metadata": {},
   "outputs": [],
   "source": []
  }
 ],
 "metadata": {
  "kernelspec": {
   "display_name": "Python 3",
   "language": "python",
   "name": "python3"
  },
  "language_info": {
   "codemirror_mode": {
    "name": "ipython",
    "version": 3
   },
   "file_extension": ".py",
   "mimetype": "text/x-python",
   "name": "python",
   "nbconvert_exporter": "python",
   "pygments_lexer": "ipython3",
   "version": "3.7.3"
  }
 },
 "nbformat": 4,
 "nbformat_minor": 2
}
