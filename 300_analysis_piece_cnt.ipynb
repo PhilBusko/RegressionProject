{
 "cells": [
  {
   "cell_type": "markdown",
   "metadata": {},
   "source": [
    "# Analysis: Piece Counts by Theme\n",
    "\n",
    "Goal: Run ANOVA and welch tests to investigate if average number of pieces are different by theme.   "
   ]
  },
  {
   "cell_type": "code",
   "execution_count": 20,
   "metadata": {},
   "outputs": [],
   "source": [
    "import os\n",
    "import pandas as pd\n",
    "import numpy as np\n",
    "import matplotlib.pyplot as plt\n",
    "%matplotlib inline\n",
    "import seaborn as sns\n",
    "import scipy.stats as stats"
   ]
  },
  {
   "cell_type": "code",
   "execution_count": 2,
   "metadata": {},
   "outputs": [],
   "source": [
    "from IPython.core.interactiveshell import InteractiveShell\n",
    "InteractiveShell.ast_node_interactivity = 'all'"
   ]
  },
  {
   "cell_type": "code",
   "execution_count": 3,
   "metadata": {},
   "outputs": [],
   "source": [
    "%load_ext autoreload\n",
    "%autoreload 2         # reload custom py file eveytime a new cell is run\n",
    "\n",
    "import brickset_helper as bh"
   ]
  },
  {
   "cell_type": "markdown",
   "metadata": {},
   "source": [
    "## Import Data"
   ]
  },
  {
   "cell_type": "code",
   "execution_count": 4,
   "metadata": {},
   "outputs": [],
   "source": [
    "SET_FILE = 'data/brickset_set_clean.csv'"
   ]
  },
  {
   "cell_type": "code",
   "execution_count": 5,
   "metadata": {
    "scrolled": false
   },
   "outputs": [
    {
     "data": {
      "text/html": [
       "<div>\n",
       "<style scoped>\n",
       "    .dataframe tbody tr th:only-of-type {\n",
       "        vertical-align: middle;\n",
       "    }\n",
       "\n",
       "    .dataframe tbody tr th {\n",
       "        vertical-align: top;\n",
       "    }\n",
       "\n",
       "    .dataframe thead th {\n",
       "        text-align: right;\n",
       "    }\n",
       "</style>\n",
       "<table border=\"1\" class=\"dataframe\">\n",
       "  <thead>\n",
       "    <tr style=\"text-align: right;\">\n",
       "      <th></th>\n",
       "      <th>set_no</th>\n",
       "      <th>name</th>\n",
       "      <th>theme_group</th>\n",
       "      <th>theme</th>\n",
       "      <th>subtheme</th>\n",
       "      <th>year</th>\n",
       "      <th>piece_cnt</th>\n",
       "      <th>minifig_cnt</th>\n",
       "      <th>tags</th>\n",
       "      <th>set_type</th>\n",
       "      <th>packaging</th>\n",
       "    </tr>\n",
       "  </thead>\n",
       "  <tbody>\n",
       "    <tr>\n",
       "      <th>0</th>\n",
       "      <td>722-1</td>\n",
       "      <td>Universal Building Set, 7+</td>\n",
       "      <td>Basic</td>\n",
       "      <td>Basic</td>\n",
       "      <td>NaN</td>\n",
       "      <td>1980.0</td>\n",
       "      <td>301.0</td>\n",
       "      <td>0.0</td>\n",
       "      <td>4X4, Aircraft, Articulated Lorry, Boat, Car, C...</td>\n",
       "      <td>Normal</td>\n",
       "      <td>NaN</td>\n",
       "    </tr>\n",
       "    <tr>\n",
       "      <th>1</th>\n",
       "      <td>733-1</td>\n",
       "      <td>Universal Building Set, 7+</td>\n",
       "      <td>Basic</td>\n",
       "      <td>Basic</td>\n",
       "      <td>NaN</td>\n",
       "      <td>1980.0</td>\n",
       "      <td>533.0</td>\n",
       "      <td>0.0</td>\n",
       "      <td>Articulated Lorry, Base, Baseplate, Crane, For...</td>\n",
       "      <td>Normal</td>\n",
       "      <td>NaN</td>\n",
       "    </tr>\n",
       "    <tr>\n",
       "      <th>2</th>\n",
       "      <td>744-1</td>\n",
       "      <td>Universal Building Set with Motor, 7+</td>\n",
       "      <td>Basic</td>\n",
       "      <td>Basic</td>\n",
       "      <td>NaN</td>\n",
       "      <td>1980.0</td>\n",
       "      <td>537.0</td>\n",
       "      <td>0.0</td>\n",
       "      <td>8 Wheel Vehicle, Crane, Electric Motor, Mobile...</td>\n",
       "      <td>Normal</td>\n",
       "      <td>NaN</td>\n",
       "    </tr>\n",
       "    <tr>\n",
       "      <th>3</th>\n",
       "      <td>820-1</td>\n",
       "      <td>Red Plates Parts Pack</td>\n",
       "      <td>Basic</td>\n",
       "      <td>Basic</td>\n",
       "      <td>Supplementaries</td>\n",
       "      <td>1980.0</td>\n",
       "      <td>34.0</td>\n",
       "      <td>0.0</td>\n",
       "      <td>NaN</td>\n",
       "      <td>Normal</td>\n",
       "      <td>NaN</td>\n",
       "    </tr>\n",
       "    <tr>\n",
       "      <th>4</th>\n",
       "      <td>822-1</td>\n",
       "      <td>Blue Plates Parts Pack</td>\n",
       "      <td>Basic</td>\n",
       "      <td>Basic</td>\n",
       "      <td>Supplementaries</td>\n",
       "      <td>1980.0</td>\n",
       "      <td>34.0</td>\n",
       "      <td>0.0</td>\n",
       "      <td>NaN</td>\n",
       "      <td>Normal</td>\n",
       "      <td>NaN</td>\n",
       "    </tr>\n",
       "  </tbody>\n",
       "</table>\n",
       "</div>"
      ],
      "text/plain": [
       "  set_no                                   name theme_group  theme  \\\n",
       "0  722-1             Universal Building Set, 7+       Basic  Basic   \n",
       "1  733-1             Universal Building Set, 7+       Basic  Basic   \n",
       "2  744-1  Universal Building Set with Motor, 7+       Basic  Basic   \n",
       "3  820-1                  Red Plates Parts Pack       Basic  Basic   \n",
       "4  822-1                 Blue Plates Parts Pack       Basic  Basic   \n",
       "\n",
       "          subtheme    year  piece_cnt  minifig_cnt  \\\n",
       "0              NaN  1980.0      301.0          0.0   \n",
       "1              NaN  1980.0      533.0          0.0   \n",
       "2              NaN  1980.0      537.0          0.0   \n",
       "3  Supplementaries  1980.0       34.0          0.0   \n",
       "4  Supplementaries  1980.0       34.0          0.0   \n",
       "\n",
       "                                                tags set_type packaging  \n",
       "0  4X4, Aircraft, Articulated Lorry, Boat, Car, C...   Normal       NaN  \n",
       "1  Articulated Lorry, Base, Baseplate, Crane, For...   Normal       NaN  \n",
       "2  8 Wheel Vehicle, Crane, Electric Motor, Mobile...   Normal       NaN  \n",
       "3                                                NaN   Normal       NaN  \n",
       "4                                                NaN   Normal       NaN  "
      ]
     },
     "execution_count": 5,
     "metadata": {},
     "output_type": "execute_result"
    },
    {
     "name": "stdout",
     "output_type": "stream",
     "text": [
      "<class 'pandas.core.frame.DataFrame'>\n",
      "RangeIndex: 13754 entries, 0 to 13753\n",
      "Data columns (total 11 columns):\n",
      "set_no         13754 non-null object\n",
      "name           13754 non-null object\n",
      "theme_group    13754 non-null object\n",
      "theme          13754 non-null object\n",
      "subtheme       10040 non-null object\n",
      "year           13754 non-null float64\n",
      "piece_cnt      10858 non-null float64\n",
      "minifig_cnt    13754 non-null float64\n",
      "tags           10265 non-null object\n",
      "set_type       13753 non-null object\n",
      "packaging      8919 non-null object\n",
      "dtypes: float64(3), object(8)\n",
      "memory usage: 1.2+ MB\n"
     ]
    }
   ],
   "source": [
    "set_df = pd.read_csv(SET_FILE)\n",
    "set_df = set_df[['set_no', 'name', 'theme_group', 'theme', 'subtheme', 'year', 'piece_cnt', 'minifig_cnt', \n",
    "                'tags', 'set_type', 'packaging']]\n",
    "set_df.head()\n",
    "set_df.info()"
   ]
  },
  {
   "cell_type": "markdown",
   "metadata": {},
   "source": [
    "## Filter based on each column of interest"
   ]
  },
  {
   "cell_type": "code",
   "execution_count": 6,
   "metadata": {},
   "outputs": [
    {
     "name": "stdout",
     "output_type": "stream",
     "text": [
      "<class 'pandas.core.frame.DataFrame'>\n",
      "Int64Index: 5610 entries, 43 to 13751\n",
      "Data columns (total 11 columns):\n",
      "set_no         5610 non-null object\n",
      "name           5610 non-null object\n",
      "theme_group    5610 non-null object\n",
      "theme          5610 non-null object\n",
      "subtheme       4617 non-null object\n",
      "year           5610 non-null float64\n",
      "piece_cnt      5404 non-null float64\n",
      "minifig_cnt    5610 non-null float64\n",
      "tags           5276 non-null object\n",
      "set_type       5610 non-null object\n",
      "packaging      5181 non-null object\n",
      "dtypes: float64(3), object(8)\n",
      "memory usage: 525.9+ KB\n"
     ]
    }
   ],
   "source": [
    "# filter in bulk by group theme\n",
    "\n",
    "remove_group_ls = ['Basic', 'Constraction', 'Educational', 'Girls', 'Miscellaneous', 'Pre-school', \n",
    "                   'Technical', 'Vintage themes']\n",
    "set_df = set_df.loc[set_df['theme_group'].isin(remove_group_ls)==False]\n",
    "set_df.info()"
   ]
  },
  {
   "cell_type": "code",
   "execution_count": 7,
   "metadata": {
    "scrolled": true
   },
   "outputs": [
    {
     "data": {
      "text/plain": [
       "Exclude-No-Minifigs    1100\n",
       "Licensed-Movie          848\n",
       "Lego-Block              780\n",
       "Town                    662\n",
       "City                    585\n",
       "Exclude                 417\n",
       "Licensed-Other          332\n",
       "Space                   294\n",
       "Castle                  277\n",
       "Historic                173\n",
       "None                    142\n",
       "Name: category, dtype: int64"
      ]
     },
     "execution_count": 7,
     "metadata": {},
     "output_type": "execute_result"
    }
   ],
   "source": [
    "set_df['category'] = set_df['theme'].apply(bh.get_category)\n",
    "set_df['category'].value_counts()"
   ]
  },
  {
   "cell_type": "code",
   "execution_count": 8,
   "metadata": {},
   "outputs": [
    {
     "data": {
      "text/plain": [
       "Dinosaurs                            12\n",
       "Boats                                12\n",
       "Spider-Man                           11\n",
       "Time Cruisers                         9\n",
       "Pharaoh's Quest                       9\n",
       "World Racers                          9\n",
       "The Lone Ranger                       8\n",
       "Vikings                               7\n",
       "Aqua Raiders                          7\n",
       "Dino                                  7\n",
       "Scooby-Doo                            7\n",
       "The Angry Birds Movie                 6\n",
       "Prince of Persia                      6\n",
       "Discovery                             6\n",
       "Dino Attack                           6\n",
       "Mickey Mouse                          5\n",
       "Dino 2010                             5\n",
       "The Simpsons                          2\n",
       "Ghostbusters                          2\n",
       "The Powerpuff Girls                   2\n",
       "Avatar The Last Airbender             2\n",
       "Overwatch                             1\n",
       "The Lego Movie 2: The Second Part     1\n",
       "Name: theme, dtype: int64"
      ]
     },
     "execution_count": 8,
     "metadata": {},
     "output_type": "execute_result"
    }
   ],
   "source": [
    "set_df.loc[set_df['category']=='None']['theme'].value_counts()"
   ]
  },
  {
   "cell_type": "code",
   "execution_count": 9,
   "metadata": {},
   "outputs": [
    {
     "name": "stdout",
     "output_type": "stream",
     "text": [
      "<class 'pandas.core.frame.DataFrame'>\n",
      "Int64Index: 3951 entries, 43 to 13749\n",
      "Data columns (total 12 columns):\n",
      "set_no         3951 non-null object\n",
      "name           3951 non-null object\n",
      "theme_group    3951 non-null object\n",
      "theme          3951 non-null object\n",
      "subtheme       3589 non-null object\n",
      "year           3951 non-null float64\n",
      "piece_cnt      3774 non-null float64\n",
      "minifig_cnt    3951 non-null float64\n",
      "tags           3763 non-null object\n",
      "set_type       3951 non-null object\n",
      "packaging      3737 non-null object\n",
      "category       3951 non-null object\n",
      "dtypes: float64(3), object(9)\n",
      "memory usage: 401.3+ KB\n"
     ]
    }
   ],
   "source": [
    "# filter out themes that are excluded\n",
    "\n",
    "set_df = set_df.loc[set_df['category'].isin(['Exclude', 'Exclude-No-Minifigs', 'None'])==False]\n",
    "set_df.info()"
   ]
  },
  {
   "cell_type": "code",
   "execution_count": 10,
   "metadata": {
    "scrolled": true
   },
   "outputs": [
    {
     "data": {
      "text/plain": [
       "Licensed-Movie    848\n",
       "Lego-Block        780\n",
       "Town              662\n",
       "City              585\n",
       "Licensed-Other    332\n",
       "Space             294\n",
       "Castle            277\n",
       "Historic          173\n",
       "Name: category, dtype: int64"
      ]
     },
     "execution_count": 10,
     "metadata": {},
     "output_type": "execute_result"
    }
   ],
   "source": [
    "set_df['category'].value_counts()"
   ]
  },
  {
   "cell_type": "code",
   "execution_count": 11,
   "metadata": {},
   "outputs": [
    {
     "data": {
      "text/plain": [
       "(3774, 12)"
      ]
     },
     "execution_count": 11,
     "metadata": {},
     "output_type": "execute_result"
    }
   ],
   "source": [
    "# keep only sets with valid piece count\n",
    "\n",
    "set_df = set_df.loc[set_df['piece_cnt'] >= 1]\n",
    "set_df.shape"
   ]
  },
  {
   "cell_type": "code",
   "execution_count": 12,
   "metadata": {},
   "outputs": [
    {
     "data": {
      "text/plain": [
       "(3315, 12)"
      ]
     },
     "execution_count": 12,
     "metadata": {},
     "output_type": "execute_result"
    }
   ],
   "source": [
    "# keep only the normal set types\n",
    "\n",
    "set_df = set_df.loc[set_df['set_type']=='Normal']\n",
    "set_df.shape"
   ]
  },
  {
   "cell_type": "code",
   "execution_count": 13,
   "metadata": {},
   "outputs": [
    {
     "data": {
      "text/plain": [
       "(2700, 12)"
      ]
     },
     "execution_count": 13,
     "metadata": {},
     "output_type": "execute_result"
    }
   ],
   "source": [
    "# keep only the normal set types\n",
    "\n",
    "set_df = set_df.loc[set_df['packaging']=='Box']\n",
    "set_df.shape"
   ]
  },
  {
   "cell_type": "code",
   "execution_count": 14,
   "metadata": {
    "scrolled": false
   },
   "outputs": [
    {
     "data": {
      "text/plain": [
       "Licensed-Movie    563\n",
       "Town              538\n",
       "Lego-Block        421\n",
       "City              396\n",
       "Licensed-Other    230\n",
       "Space             219\n",
       "Castle            186\n",
       "Historic          147\n",
       "Name: category, dtype: int64"
      ]
     },
     "execution_count": 14,
     "metadata": {},
     "output_type": "execute_result"
    }
   ],
   "source": [
    "set_df['category'].value_counts()"
   ]
  },
  {
   "cell_type": "code",
   "execution_count": 51,
   "metadata": {},
   "outputs": [
    {
     "data": {
      "text/html": [
       "<div>\n",
       "<style scoped>\n",
       "    .dataframe tbody tr th:only-of-type {\n",
       "        vertical-align: middle;\n",
       "    }\n",
       "\n",
       "    .dataframe tbody tr th {\n",
       "        vertical-align: top;\n",
       "    }\n",
       "\n",
       "    .dataframe thead th {\n",
       "        text-align: right;\n",
       "    }\n",
       "</style>\n",
       "<table border=\"1\" class=\"dataframe\">\n",
       "  <thead>\n",
       "    <tr style=\"text-align: right;\">\n",
       "      <th></th>\n",
       "      <th>set_no</th>\n",
       "      <th>name</th>\n",
       "      <th>category</th>\n",
       "      <th>theme</th>\n",
       "      <th>year</th>\n",
       "      <th>piece_cnt</th>\n",
       "      <th>minifig_cnt</th>\n",
       "    </tr>\n",
       "  </thead>\n",
       "  <tbody>\n",
       "    <tr>\n",
       "      <th>0</th>\n",
       "      <td>1591-1</td>\n",
       "      <td>Danone Delivery Truck</td>\n",
       "      <td>Town</td>\n",
       "      <td>Town</td>\n",
       "      <td>1980.0</td>\n",
       "      <td>40.0</td>\n",
       "      <td>0.0</td>\n",
       "    </tr>\n",
       "    <tr>\n",
       "      <th>1</th>\n",
       "      <td>1592-1</td>\n",
       "      <td>Town Square - Castle Scene</td>\n",
       "      <td>Town</td>\n",
       "      <td>Town</td>\n",
       "      <td>1980.0</td>\n",
       "      <td>471.0</td>\n",
       "      <td>11.0</td>\n",
       "    </tr>\n",
       "    <tr>\n",
       "      <th>2</th>\n",
       "      <td>1651-2</td>\n",
       "      <td>Maersk Line Container Lorry</td>\n",
       "      <td>Town</td>\n",
       "      <td>Town</td>\n",
       "      <td>1980.0</td>\n",
       "      <td>305.0</td>\n",
       "      <td>1.0</td>\n",
       "    </tr>\n",
       "    <tr>\n",
       "      <th>3</th>\n",
       "      <td>6305-1</td>\n",
       "      <td>Trees and Flowers</td>\n",
       "      <td>Town</td>\n",
       "      <td>Town</td>\n",
       "      <td>1980.0</td>\n",
       "      <td>12.0</td>\n",
       "      <td>0.0</td>\n",
       "    </tr>\n",
       "    <tr>\n",
       "      <th>4</th>\n",
       "      <td>6306-1</td>\n",
       "      <td>Road Signs</td>\n",
       "      <td>Town</td>\n",
       "      <td>Town</td>\n",
       "      <td>1980.0</td>\n",
       "      <td>12.0</td>\n",
       "      <td>0.0</td>\n",
       "    </tr>\n",
       "  </tbody>\n",
       "</table>\n",
       "</div>"
      ],
      "text/plain": [
       "   set_no                         name category theme    year  piece_cnt  \\\n",
       "0  1591-1        Danone Delivery Truck     Town  Town  1980.0       40.0   \n",
       "1  1592-1   Town Square - Castle Scene     Town  Town  1980.0      471.0   \n",
       "2  1651-2  Maersk Line Container Lorry     Town  Town  1980.0      305.0   \n",
       "3  6305-1            Trees and Flowers     Town  Town  1980.0       12.0   \n",
       "4  6306-1                   Road Signs     Town  Town  1980.0       12.0   \n",
       "\n",
       "   minifig_cnt  \n",
       "0          0.0  \n",
       "1         11.0  \n",
       "2          1.0  \n",
       "3          0.0  \n",
       "4          0.0  "
      ]
     },
     "execution_count": 51,
     "metadata": {},
     "output_type": "execute_result"
    }
   ],
   "source": [
    "# do final column re-arrangement\n",
    "\n",
    "set_clean_df = set_df[['set_no', 'name', 'category', 'theme', 'year', 'piece_cnt', 'minifig_cnt']]\n",
    "set_clean_df = set_clean_df.reset_index().drop(columns=['index'])\n",
    "set_clean_df.head()"
   ]
  },
  {
   "cell_type": "markdown",
   "metadata": {},
   "source": [
    "## Run Analysis"
   ]
  },
  {
   "cell_type": "code",
   "execution_count": 52,
   "metadata": {
    "scrolled": false
   },
   "outputs": [
    {
     "data": {
      "text/plain": [
       "<matplotlib.axes._subplots.AxesSubplot at 0x1a33d69e10>"
      ]
     },
     "execution_count": 52,
     "metadata": {},
     "output_type": "execute_result"
    },
    {
     "data": {
      "text/plain": [
       "[Text(0, 0.5, 'Number of Sets'),\n",
       " (0, 1000),\n",
       " Text(0.5, 0, 'Number of Pieces'),\n",
       " Text(0.5, 1.0, 'Population Number of Pieces Distribution')]"
      ]
     },
     "execution_count": 52,
     "metadata": {},
     "output_type": "execute_result"
    },
    {
     "data": {
      "image/png": "[encoded data removed]",
      "text/plain": [
       "<Figure size 648x504 with 1 Axes>"
      ]
     },
     "metadata": {
      "needs_background": "light"
     },
     "output_type": "display_data"
    }
   ],
   "source": [
    "fig, axs = plt.subplots(1,1, figsize=(9, 7))\n",
    "\n",
    "sns.distplot(set_clean_df['piece_cnt'], ax=axs, bins=2000, kde=False, color='#0000ff')\n",
    "axs.set(title='Population Number of Pieces Distribution', xlabel='Number of Pieces', \n",
    "        ylabel='Number of Sets', xlim=[0, 1000])"
   ]
  },
  {
   "cell_type": "code",
   "execution_count": 57,
   "metadata": {
    "scrolled": true
   },
   "outputs": [],
   "source": [
    "#list(set_clean_df.loc[set_clean_df['category']==c, 'piece_cnt'] for c in set_clean_df['category'].unique())"
   ]
  },
  {
   "cell_type": "code",
   "execution_count": 27,
   "metadata": {
    "scrolled": true
   },
   "outputs": [
    {
     "data": {
      "text/plain": [
       "F_onewayResult(statistic=41.39868280806258, pvalue=1.0321030361836583e-55)"
      ]
     },
     "execution_count": 27,
     "metadata": {},
     "output_type": "execute_result"
    }
   ],
   "source": [
    "# anova test is meaningless since normality assumption is violated\n",
    "\n",
    "stats.f_oneway( *(set_clean_df.loc[set_clean_df['category']==c, 'piece_cnt'] \n",
    "                  for c in set_clean_df['category'].unique()) )"
   ]
  },
  {
   "cell_type": "code",
   "execution_count": 92,
   "metadata": {},
   "outputs": [
    {
     "data": {
      "text/plain": [
       "category\n",
       "Castle            186\n",
       "City              396\n",
       "Historic          147\n",
       "Lego-Block        421\n",
       "Licensed-Movie    563\n",
       "Licensed-Other    230\n",
       "Space             219\n",
       "Town              538\n",
       "Name: piece_cnt, dtype: int64"
      ]
     },
     "execution_count": 92,
     "metadata": {},
     "output_type": "execute_result"
    },
    {
     "data": {
      "text/plain": [
       "category\n",
       "Castle            107.5\n",
       "City              232.0\n",
       "Historic           88.0\n",
       "Lego-Block        258.0\n",
       "Licensed-Movie    305.0\n",
       "Licensed-Other    276.0\n",
       "Space             105.0\n",
       "Town               81.0\n",
       "Name: piece_cnt, dtype: float64"
      ]
     },
     "execution_count": 92,
     "metadata": {},
     "output_type": "execute_result"
    },
    {
     "data": {
      "text/plain": [
       "category         \n",
       "Castle          0     21.0\n",
       "City            0    151.0\n",
       "Historic        0     21.0\n",
       "Lego-Block      0     92.0\n",
       "Licensed-Movie  0     82.0\n",
       "Licensed-Other  0     79.0\n",
       "Space           0     23.0\n",
       "Town            0     23.0\n",
       "Name: piece_cnt, dtype: float64"
      ]
     },
     "execution_count": 92,
     "metadata": {},
     "output_type": "execute_result"
    }
   ],
   "source": [
    "# samples are not normally distributed, can't run welch test\n",
    "\n",
    "size_sr = set_clean_df.groupby('category').count()['piece_cnt']\n",
    "median_sr = set_clean_df.groupby('category').quantile(0.5)['piece_cnt']\n",
    "mode_sr = set_clean_df.groupby('category')['piece_cnt'].apply(lambda x: x.mode())\n",
    "\n",
    "size_sr\n",
    "median_sr\n",
    "mode_sr"
   ]
  },
  {
   "cell_type": "code",
   "execution_count": null,
   "metadata": {},
   "outputs": [],
   "source": [
    "stats.ttest_ind(region_MW_sr, region_NE_sr)"
   ]
  },
  {
   "cell_type": "markdown",
   "metadata": {},
   "source": [
    "## Export to csv"
   ]
  },
  {
   "cell_type": "code",
   "execution_count": 18,
   "metadata": {},
   "outputs": [
    {
     "data": {
      "text/plain": [
       "'0.17 mb'"
      ]
     },
     "execution_count": 18,
     "metadata": {},
     "output_type": "execute_result"
    }
   ],
   "source": [
    "save_path = r'data/brickset_anova.csv'\n",
    "#set_df.to_csv(save_path, index=False)\n",
    "f'{round(os.path.getsize(save_path) /1e6, 2)} mb'"
   ]
  },
  {
   "cell_type": "code",
   "execution_count": null,
   "metadata": {},
   "outputs": [],
   "source": []
  }
 ],
 "metadata": {
  "kernelspec": {
   "display_name": "Python 3",
   "language": "python",
   "name": "python3"
  },
  "language_info": {
   "codemirror_mode": {
    "name": "ipython",
    "version": 3
   },
   "file_extension": ".py",
   "mimetype": "text/x-python",
   "name": "python",
   "nbconvert_exporter": "python",
   "pygments_lexer": "ipython3",
   "version": "3.7.3"
  }
 },
 "nbformat": 4,
 "nbformat_minor": 2
}
