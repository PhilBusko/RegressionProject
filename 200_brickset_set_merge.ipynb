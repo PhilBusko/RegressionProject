{
 "cells": [
  {
   "cell_type": "markdown",
   "metadata": {},
   "source": [
    "# Brickset Merge Job Files & Clean \n",
    "\n",
    "Workflow: 3   \n",
    "Goal: To concatenate the job files with the raw data, do some cleaning, and export entire dataset into csv.   "
   ]
  },
  {
   "cell_type": "code",
   "execution_count": 1,
   "metadata": {},
   "outputs": [],
   "source": [
    "import os\n",
    "import pandas as pd\n",
    "import numpy as np\n",
    "import matplotlib.pyplot as plt\n",
    "%matplotlib inline\n",
    "import seaborn as sns"
   ]
  },
  {
   "cell_type": "code",
   "execution_count": 2,
   "metadata": {},
   "outputs": [],
   "source": [
    "from IPython.core.interactiveshell import InteractiveShell\n",
    "InteractiveShell.ast_node_interactivity = 'all'"
   ]
  },
  {
   "cell_type": "code",
   "execution_count": 3,
   "metadata": {},
   "outputs": [],
   "source": [
    "%load_ext autoreload\n",
    "%autoreload 2            # reload custom py file eveytime a new cell is run\n",
    "\n",
    "import lego_helper as lh"
   ]
  },
  {
   "cell_type": "markdown",
   "metadata": {},
   "source": [
    "## Merge Job Files"
   ]
  },
  {
   "cell_type": "code",
   "execution_count": 4,
   "metadata": {},
   "outputs": [],
   "source": [
    "SET_0_FILE = 'data/brickset_set_data_0k.csv'\n",
    "SET_3_FILE = 'data/brickset_set_data_3k.csv'\n",
    "SET_7_FILE = 'data/brickset_set_data_7k.csv'\n",
    "SET_10_FILE = 'data/brickset_set_data_10k.csv'"
   ]
  },
  {
   "cell_type": "code",
   "execution_count": 5,
   "metadata": {},
   "outputs": [
    {
     "data": {
      "text/plain": [
       "(3499, 19)"
      ]
     },
     "execution_count": 5,
     "metadata": {},
     "output_type": "execute_result"
    },
    {
     "data": {
      "text/plain": [
       "(3499, 19)"
      ]
     },
     "execution_count": 5,
     "metadata": {},
     "output_type": "execute_result"
    },
    {
     "data": {
      "text/plain": [
       "(3491, 19)"
      ]
     },
     "execution_count": 5,
     "metadata": {},
     "output_type": "execute_result"
    },
    {
     "data": {
      "text/plain": [
       "(3399, 19)"
      ]
     },
     "execution_count": 5,
     "metadata": {},
     "output_type": "execute_result"
    }
   ],
   "source": [
    "set_0_df = pd.read_csv(SET_0_FILE)\n",
    "set_3_df = pd.read_csv(SET_3_FILE)\n",
    "set_7_df = pd.read_csv(SET_7_FILE)\n",
    "set_10_df = pd.read_csv(SET_10_FILE)\n",
    "\n",
    "set_0_df.shape\n",
    "set_3_df.shape\n",
    "set_7_df.shape\n",
    "set_10_df.shape"
   ]
  },
  {
   "cell_type": "code",
   "execution_count": 6,
   "metadata": {},
   "outputs": [
    {
     "data": {
      "text/html": [
       "<div>\n",
       "<style scoped>\n",
       "    .dataframe tbody tr th:only-of-type {\n",
       "        vertical-align: middle;\n",
       "    }\n",
       "\n",
       "    .dataframe tbody tr th {\n",
       "        vertical-align: top;\n",
       "    }\n",
       "\n",
       "    .dataframe thead th {\n",
       "        text-align: right;\n",
       "    }\n",
       "</style>\n",
       "<table border=\"1\" class=\"dataframe\">\n",
       "  <thead>\n",
       "    <tr style=\"text-align: right;\">\n",
       "      <th></th>\n",
       "      <th>set_no</th>\n",
       "      <th>name</th>\n",
       "      <th>url</th>\n",
       "      <th>theme_group</th>\n",
       "      <th>theme</th>\n",
       "      <th>subtheme</th>\n",
       "      <th>year</th>\n",
       "      <th>piece_cnt</th>\n",
       "      <th>minifig_cnt</th>\n",
       "      <th>inventory_url</th>\n",
       "      <th>minifig_url</th>\n",
       "      <th>store_price</th>\n",
       "      <th>current_price</th>\n",
       "      <th>rating_value</th>\n",
       "      <th>rating_votes</th>\n",
       "      <th>tags</th>\n",
       "      <th>set_type</th>\n",
       "      <th>packaging</th>\n",
       "      <th>notes</th>\n",
       "    </tr>\n",
       "  </thead>\n",
       "  <tbody>\n",
       "    <tr>\n",
       "      <th>0</th>\n",
       "      <td>722-1</td>\n",
       "      <td>Universal Building Set, 7+</td>\n",
       "      <td>/sets/722-1/Universal-Building-Set-7</td>\n",
       "      <td>Basic</td>\n",
       "      <td>Basic</td>\n",
       "      <td>NaN</td>\n",
       "      <td>1980.0</td>\n",
       "      <td>301.0</td>\n",
       "      <td>0.0</td>\n",
       "      <td>NaN</td>\n",
       "      <td>NaN</td>\n",
       "      <td>$20.00</td>\n",
       "      <td>New: $200, Used: $78</td>\n",
       "      <td>4.4</td>\n",
       "      <td>5</td>\n",
       "      <td>4X4, Aircraft, Articulated Lorry, Boat, Car, C...</td>\n",
       "      <td>Normal</td>\n",
       "      <td>NaN</td>\n",
       "      <td>NaN</td>\n",
       "    </tr>\n",
       "    <tr>\n",
       "      <th>1</th>\n",
       "      <td>733-1</td>\n",
       "      <td>Universal Building Set, 7+</td>\n",
       "      <td>/sets/733-1/Universal-Building-Set-7</td>\n",
       "      <td>Basic</td>\n",
       "      <td>Basic</td>\n",
       "      <td>NaN</td>\n",
       "      <td>1980.0</td>\n",
       "      <td>533.0</td>\n",
       "      <td>0.0</td>\n",
       "      <td>NaN</td>\n",
       "      <td>NaN</td>\n",
       "      <td>$39.00</td>\n",
       "      <td>New: $566, Used: $109</td>\n",
       "      <td>4.5</td>\n",
       "      <td>2</td>\n",
       "      <td>Articulated Lorry, Base, Baseplate, Crane, For...</td>\n",
       "      <td>Normal</td>\n",
       "      <td>NaN</td>\n",
       "      <td>NaN</td>\n",
       "    </tr>\n",
       "    <tr>\n",
       "      <th>2</th>\n",
       "      <td>744-1</td>\n",
       "      <td>Universal Building Set with Motor, 7+</td>\n",
       "      <td>/sets/744-1/Universal-Building-Set-with-Motor-7</td>\n",
       "      <td>Basic</td>\n",
       "      <td>Basic</td>\n",
       "      <td>NaN</td>\n",
       "      <td>1980.0</td>\n",
       "      <td>537.0</td>\n",
       "      <td>0.0</td>\n",
       "      <td>NaN</td>\n",
       "      <td>NaN</td>\n",
       "      <td>$59.00</td>\n",
       "      <td>New: $252, Used: $97</td>\n",
       "      <td>5.0</td>\n",
       "      <td>2</td>\n",
       "      <td>8 Wheel Vehicle, Crane, Electric Motor, Mobile...</td>\n",
       "      <td>Normal</td>\n",
       "      <td>NaN</td>\n",
       "      <td>NaN</td>\n",
       "    </tr>\n",
       "    <tr>\n",
       "      <th>3</th>\n",
       "      <td>820-1</td>\n",
       "      <td>Red Plates Parts Pack</td>\n",
       "      <td>/sets/820-1/Red-Plates-Parts-Pack</td>\n",
       "      <td>Basic</td>\n",
       "      <td>Basic</td>\n",
       "      <td>Supplementaries</td>\n",
       "      <td>1980.0</td>\n",
       "      <td>34.0</td>\n",
       "      <td>0.0</td>\n",
       "      <td>NaN</td>\n",
       "      <td>NaN</td>\n",
       "      <td>$4.75</td>\n",
       "      <td>New: Not known, Used: Not known</td>\n",
       "      <td>NaN</td>\n",
       "      <td>NaN</td>\n",
       "      <td>NaN</td>\n",
       "      <td>Normal</td>\n",
       "      <td>NaN</td>\n",
       "      <td>NaN</td>\n",
       "    </tr>\n",
       "    <tr>\n",
       "      <th>4</th>\n",
       "      <td>822-1</td>\n",
       "      <td>Blue Plates Parts Pack</td>\n",
       "      <td>/sets/822-1/Blue-Plates-Parts-Pack</td>\n",
       "      <td>Basic</td>\n",
       "      <td>Basic</td>\n",
       "      <td>Supplementaries</td>\n",
       "      <td>1980.0</td>\n",
       "      <td>34.0</td>\n",
       "      <td>0.0</td>\n",
       "      <td>NaN</td>\n",
       "      <td>NaN</td>\n",
       "      <td>$4.75</td>\n",
       "      <td>New: $29, Used: $5</td>\n",
       "      <td>NaN</td>\n",
       "      <td>NaN</td>\n",
       "      <td>NaN</td>\n",
       "      <td>Normal</td>\n",
       "      <td>NaN</td>\n",
       "      <td>NaN</td>\n",
       "    </tr>\n",
       "  </tbody>\n",
       "</table>\n",
       "</div>"
      ],
      "text/plain": [
       "  set_no                                   name  \\\n",
       "0  722-1             Universal Building Set, 7+   \n",
       "1  733-1             Universal Building Set, 7+   \n",
       "2  744-1  Universal Building Set with Motor, 7+   \n",
       "3  820-1                  Red Plates Parts Pack   \n",
       "4  822-1                 Blue Plates Parts Pack   \n",
       "\n",
       "                                               url theme_group  theme  \\\n",
       "0             /sets/722-1/Universal-Building-Set-7       Basic  Basic   \n",
       "1             /sets/733-1/Universal-Building-Set-7       Basic  Basic   \n",
       "2  /sets/744-1/Universal-Building-Set-with-Motor-7       Basic  Basic   \n",
       "3                /sets/820-1/Red-Plates-Parts-Pack       Basic  Basic   \n",
       "4               /sets/822-1/Blue-Plates-Parts-Pack       Basic  Basic   \n",
       "\n",
       "          subtheme    year  piece_cnt  minifig_cnt inventory_url minifig_url  \\\n",
       "0              NaN  1980.0      301.0          0.0           NaN         NaN   \n",
       "1              NaN  1980.0      533.0          0.0           NaN         NaN   \n",
       "2              NaN  1980.0      537.0          0.0           NaN         NaN   \n",
       "3  Supplementaries  1980.0       34.0          0.0           NaN         NaN   \n",
       "4  Supplementaries  1980.0       34.0          0.0           NaN         NaN   \n",
       "\n",
       "  store_price                    current_price  rating_value rating_votes  \\\n",
       "0      $20.00             New: $200, Used: $78           4.4            5   \n",
       "1      $39.00            New: $566, Used: $109           4.5            2   \n",
       "2      $59.00             New: $252, Used: $97           5.0            2   \n",
       "3       $4.75  New: Not known, Used: Not known           NaN          NaN   \n",
       "4       $4.75               New: $29, Used: $5           NaN          NaN   \n",
       "\n",
       "                                                tags set_type packaging notes  \n",
       "0  4X4, Aircraft, Articulated Lorry, Boat, Car, C...   Normal       NaN   NaN  \n",
       "1  Articulated Lorry, Base, Baseplate, Crane, For...   Normal       NaN   NaN  \n",
       "2  8 Wheel Vehicle, Crane, Electric Motor, Mobile...   Normal       NaN   NaN  \n",
       "3                                                NaN   Normal       NaN   NaN  \n",
       "4                                                NaN   Normal       NaN   NaN  "
      ]
     },
     "execution_count": 6,
     "metadata": {},
     "output_type": "execute_result"
    },
    {
     "name": "stdout",
     "output_type": "stream",
     "text": [
      "<class 'pandas.core.frame.DataFrame'>\n",
      "RangeIndex: 13888 entries, 0 to 13887\n",
      "Data columns (total 19 columns):\n",
      "set_no           13887 non-null object\n",
      "name             13887 non-null object\n",
      "url              13887 non-null object\n",
      "theme_group      13887 non-null object\n",
      "theme            13887 non-null object\n",
      "subtheme         10161 non-null object\n",
      "year             13887 non-null float64\n",
      "piece_cnt        10948 non-null float64\n",
      "minifig_cnt      13887 non-null float64\n",
      "inventory_url    7018 non-null object\n",
      "minifig_url      6295 non-null object\n",
      "store_price      9280 non-null object\n",
      "current_price    13887 non-null object\n",
      "rating_value     6870 non-null float64\n",
      "rating_votes     6870 non-null object\n",
      "tags             10358 non-null object\n",
      "set_type         13886 non-null object\n",
      "packaging        9017 non-null object\n",
      "notes            5288 non-null object\n",
      "dtypes: float64(4), object(15)\n",
      "memory usage: 2.0+ MB\n"
     ]
    }
   ],
   "source": [
    "set_df = pd.concat([set_0_df, set_3_df, set_7_df, set_10_df], ignore_index=True)\n",
    "set_df.head()\n",
    "set_df.info()"
   ]
  },
  {
   "cell_type": "code",
   "execution_count": 7,
   "metadata": {},
   "outputs": [
    {
     "name": "stdout",
     "output_type": "stream",
     "text": [
      "<class 'pandas.core.frame.DataFrame'>\n",
      "RangeIndex: 13887 entries, 0 to 13886\n",
      "Data columns (total 19 columns):\n",
      "set_no           13887 non-null object\n",
      "name             13887 non-null object\n",
      "url              13887 non-null object\n",
      "theme_group      13887 non-null object\n",
      "theme            13887 non-null object\n",
      "subtheme         10161 non-null object\n",
      "year             13887 non-null float64\n",
      "piece_cnt        10948 non-null float64\n",
      "minifig_cnt      13887 non-null float64\n",
      "inventory_url    7018 non-null object\n",
      "minifig_url      6295 non-null object\n",
      "store_price      9280 non-null object\n",
      "current_price    13887 non-null object\n",
      "rating_value     6870 non-null float64\n",
      "rating_votes     6870 non-null object\n",
      "tags             10358 non-null object\n",
      "set_type         13886 non-null object\n",
      "packaging        9017 non-null object\n",
      "notes            5288 non-null object\n",
      "dtypes: float64(4), object(15)\n",
      "memory usage: 2.0+ MB\n"
     ]
    }
   ],
   "source": [
    "# drop the sets that errored out from url search\n",
    "\n",
    "set_df = set_df.dropna(subset=['set_no']).reset_index().drop(columns=['index'])\n",
    "set_df.info()"
   ]
  },
  {
   "cell_type": "code",
   "execution_count": 8,
   "metadata": {},
   "outputs": [
    {
     "data": {
      "text/html": [
       "<div>\n",
       "<style scoped>\n",
       "    .dataframe tbody tr th:only-of-type {\n",
       "        vertical-align: middle;\n",
       "    }\n",
       "\n",
       "    .dataframe tbody tr th {\n",
       "        vertical-align: top;\n",
       "    }\n",
       "\n",
       "    .dataframe thead th {\n",
       "        text-align: right;\n",
       "    }\n",
       "</style>\n",
       "<table border=\"1\" class=\"dataframe\">\n",
       "  <thead>\n",
       "    <tr style=\"text-align: right;\">\n",
       "      <th></th>\n",
       "      <th>set_no</th>\n",
       "      <th>name</th>\n",
       "      <th>url</th>\n",
       "      <th>theme_group</th>\n",
       "      <th>theme</th>\n",
       "      <th>subtheme</th>\n",
       "      <th>year</th>\n",
       "      <th>piece_cnt</th>\n",
       "      <th>minifig_cnt</th>\n",
       "      <th>inventory_url</th>\n",
       "      <th>minifig_url</th>\n",
       "      <th>store_price</th>\n",
       "      <th>current_price</th>\n",
       "      <th>rating_value</th>\n",
       "      <th>rating_votes</th>\n",
       "      <th>tags</th>\n",
       "      <th>set_type</th>\n",
       "      <th>packaging</th>\n",
       "      <th>notes</th>\n",
       "    </tr>\n",
       "  </thead>\n",
       "  <tbody>\n",
       "    <tr>\n",
       "      <th>7179</th>\n",
       "      <td>10287-1</td>\n",
       "      <td>Intelligent NXT Brick (Black)</td>\n",
       "      <td>/sets/10287-1/Intelligent-NXT-Brick-(Black)</td>\n",
       "      <td>Technical</td>\n",
       "      <td>Mindstorms</td>\n",
       "      <td>NXT</td>\n",
       "      <td>2009.0</td>\n",
       "      <td>1.0</td>\n",
       "      <td>0.0</td>\n",
       "      <td>NaN</td>\n",
       "      <td>NaN</td>\n",
       "      <td>£107.65, $169.99</td>\n",
       "      <td>New: $99, Used: $230</td>\n",
       "      <td>NaN</td>\n",
       "      <td>NaN</td>\n",
       "      <td>NaN</td>\n",
       "      <td>Normal</td>\n",
       "      <td>NaN</td>\n",
       "      <td>NaN</td>\n",
       "    </tr>\n",
       "    <tr>\n",
       "      <th>7084</th>\n",
       "      <td>10287-1</td>\n",
       "      <td>Intelligent NXT Brick (Black)</td>\n",
       "      <td>/sets/10287-1/Intelligent-NXT-Brick-(Black)</td>\n",
       "      <td>Technical</td>\n",
       "      <td>Mindstorms</td>\n",
       "      <td>NXT</td>\n",
       "      <td>2009.0</td>\n",
       "      <td>1.0</td>\n",
       "      <td>0.0</td>\n",
       "      <td>NaN</td>\n",
       "      <td>NaN</td>\n",
       "      <td>£107.65, $169.99</td>\n",
       "      <td>New: $99, Used: $230</td>\n",
       "      <td>NaN</td>\n",
       "      <td>NaN</td>\n",
       "      <td>NaN</td>\n",
       "      <td>Normal</td>\n",
       "      <td>NaN</td>\n",
       "      <td>NaN</td>\n",
       "    </tr>\n",
       "    <tr>\n",
       "      <th>7180</th>\n",
       "      <td>20007-1</td>\n",
       "      <td>Republic Attack Cruiser</td>\n",
       "      <td>/sets/20007-1/Republic-Attack-Cruiser</td>\n",
       "      <td>Licensed</td>\n",
       "      <td>Star Wars</td>\n",
       "      <td>The Clone Wars</td>\n",
       "      <td>2009.0</td>\n",
       "      <td>84.0</td>\n",
       "      <td>0.0</td>\n",
       "      <td>/inventories/20007-1</td>\n",
       "      <td>NaN</td>\n",
       "      <td>NaN</td>\n",
       "      <td>New: $30, Used: $13</td>\n",
       "      <td>4.5</td>\n",
       "      <td>6</td>\n",
       "      <td>Brickmaster, Cartoon, Cartoon Network, Galacti...</td>\n",
       "      <td>Normal</td>\n",
       "      <td>Polybag</td>\n",
       "      <td>[US] BrickMaster exclusive.</td>\n",
       "    </tr>\n",
       "    <tr>\n",
       "      <th>7085</th>\n",
       "      <td>20007-1</td>\n",
       "      <td>Republic Attack Cruiser</td>\n",
       "      <td>/sets/20007-1/Republic-Attack-Cruiser</td>\n",
       "      <td>Licensed</td>\n",
       "      <td>Star Wars</td>\n",
       "      <td>The Clone Wars</td>\n",
       "      <td>2009.0</td>\n",
       "      <td>84.0</td>\n",
       "      <td>0.0</td>\n",
       "      <td>/inventories/20007-1</td>\n",
       "      <td>NaN</td>\n",
       "      <td>NaN</td>\n",
       "      <td>New: $30, Used: $13</td>\n",
       "      <td>4.5</td>\n",
       "      <td>6</td>\n",
       "      <td>Brickmaster, Cartoon, Cartoon Network, Galacti...</td>\n",
       "      <td>Normal</td>\n",
       "      <td>Polybag</td>\n",
       "      <td>[US] BrickMaster exclusive.</td>\n",
       "    </tr>\n",
       "  </tbody>\n",
       "</table>\n",
       "</div>"
      ],
      "text/plain": [
       "       set_no                           name  \\\n",
       "7179  10287-1  Intelligent NXT Brick (Black)   \n",
       "7084  10287-1  Intelligent NXT Brick (Black)   \n",
       "7180  20007-1        Republic Attack Cruiser   \n",
       "7085  20007-1        Republic Attack Cruiser   \n",
       "\n",
       "                                              url theme_group       theme  \\\n",
       "7179  /sets/10287-1/Intelligent-NXT-Brick-(Black)   Technical  Mindstorms   \n",
       "7084  /sets/10287-1/Intelligent-NXT-Brick-(Black)   Technical  Mindstorms   \n",
       "7180        /sets/20007-1/Republic-Attack-Cruiser    Licensed   Star Wars   \n",
       "7085        /sets/20007-1/Republic-Attack-Cruiser    Licensed   Star Wars   \n",
       "\n",
       "            subtheme    year  piece_cnt  minifig_cnt         inventory_url  \\\n",
       "7179             NXT  2009.0        1.0          0.0                   NaN   \n",
       "7084             NXT  2009.0        1.0          0.0                   NaN   \n",
       "7180  The Clone Wars  2009.0       84.0          0.0  /inventories/20007-1   \n",
       "7085  The Clone Wars  2009.0       84.0          0.0  /inventories/20007-1   \n",
       "\n",
       "     minifig_url       store_price         current_price  rating_value  \\\n",
       "7179         NaN  £107.65, $169.99  New: $99, Used: $230           NaN   \n",
       "7084         NaN  £107.65, $169.99  New: $99, Used: $230           NaN   \n",
       "7180         NaN               NaN   New: $30, Used: $13           4.5   \n",
       "7085         NaN               NaN   New: $30, Used: $13           4.5   \n",
       "\n",
       "     rating_votes                                               tags set_type  \\\n",
       "7179          NaN                                                NaN   Normal   \n",
       "7084          NaN                                                NaN   Normal   \n",
       "7180            6  Brickmaster, Cartoon, Cartoon Network, Galacti...   Normal   \n",
       "7085            6  Brickmaster, Cartoon, Cartoon Network, Galacti...   Normal   \n",
       "\n",
       "     packaging                        notes  \n",
       "7179       NaN                          NaN  \n",
       "7084       NaN                          NaN  \n",
       "7180   Polybag  [US] BrickMaster exclusive.  \n",
       "7085   Polybag  [US] BrickMaster exclusive.  "
      ]
     },
     "execution_count": 8,
     "metadata": {},
     "output_type": "execute_result"
    },
    {
     "data": {
      "text/plain": [
       "(266, 19)"
      ]
     },
     "execution_count": 8,
     "metadata": {},
     "output_type": "execute_result"
    }
   ],
   "source": [
    "# remove duplicates\n",
    "\n",
    "doop_flag = set_df.duplicated(subset=['set_no'], keep=False)\n",
    "doop_df = set_df.loc[ doop_flag ].sort_values('set_no')\n",
    "doop_df.head(4)\n",
    "doop_df.shape"
   ]
  },
  {
   "cell_type": "code",
   "execution_count": 9,
   "metadata": {},
   "outputs": [
    {
     "data": {
      "text/plain": [
       "(13754, 19)"
      ]
     },
     "execution_count": 9,
     "metadata": {},
     "output_type": "execute_result"
    }
   ],
   "source": [
    "set_df = set_df.drop_duplicates(subset=['set_no']).reset_index().drop(columns=['index'])\n",
    "set_df.shape"
   ]
  },
  {
   "cell_type": "markdown",
   "metadata": {},
   "source": [
    "## Investigate the Columns"
   ]
  },
  {
   "cell_type": "code",
   "execution_count": 10,
   "metadata": {},
   "outputs": [
    {
     "data": {
      "text/plain": [
       "19    1041\n",
       "20    1050\n",
       "23    1076\n",
       "41    1129\n",
       "45    1651\n",
       "Name: set_no, dtype: object"
      ]
     },
     "execution_count": 10,
     "metadata": {},
     "output_type": "execute_result"
    }
   ],
   "source": [
    "# investigate set-no\n",
    "\n",
    "offno_df = set_df.loc[set_df['set_no'].str.contains('-1') == False]\n",
    "offno_ls = offno_df['set_no'].apply(lambda s: s[:-2])\n",
    "offno_ls[:5]"
   ]
  },
  {
   "cell_type": "code",
   "execution_count": 11,
   "metadata": {},
   "outputs": [
    {
     "data": {
      "text/plain": [
       "(3145, 19)"
      ]
     },
     "execution_count": 11,
     "metadata": {},
     "output_type": "execute_result"
    }
   ],
   "source": [
    "set_df.loc[set_df['set_no'].str.contains('|'.join(offno_ls))].sort_values('set_no').shape"
   ]
  },
  {
   "cell_type": "code",
   "execution_count": 12,
   "metadata": {
    "scrolled": true
   },
   "outputs": [
    {
     "data": {
      "text/plain": [
       "Miscellaneous       4119\n",
       "Licensed            1605\n",
       "Modern day          1498\n",
       "Pre-school          1359\n",
       "Action/Adventure    1068\n",
       "Basic                750\n",
       "Girls                539\n",
       "Model making         513\n",
       "Constraction         501\n",
       "Technical            467\n",
       "Historical           466\n",
       "Educational          406\n",
       "Racing               247\n",
       "Junior               213\n",
       "Vintage themes         3\n",
       "Name: theme_group, dtype: int64"
      ]
     },
     "execution_count": 12,
     "metadata": {},
     "output_type": "execute_result"
    }
   ],
   "source": [
    "# group themes are too broad\n",
    "\n",
    "set_df['theme_group'].value_counts()"
   ]
  },
  {
   "cell_type": "code",
   "execution_count": 13,
   "metadata": {},
   "outputs": [
    {
     "data": {
      "text/plain": [
       "Gear                       2063\n",
       "Duplo                      1117\n",
       "Star Wars                   662\n",
       "Town                        594\n",
       "Collectable Minifigures     547\n",
       "City                        547\n",
       "Promotional                 418\n",
       "Bionicle                    389\n",
       "Creator                     388\n",
       "Basic                       370\n",
       "Service Packs               365\n",
       "Technic                     360\n",
       "Friends                     303\n",
       "Space                       294\n",
       "Castle                      277\n",
       "Books                       265\n",
       "Ninjago                     242\n",
       "Education                   230\n",
       "Racers                      225\n",
       "Seasonal                    146\n",
       "Name: theme, dtype: int64"
      ]
     },
     "execution_count": 13,
     "metadata": {},
     "output_type": "execute_result"
    }
   ],
   "source": [
    "# theme is the best way of categorizing\n",
    "\n",
    "set_df['theme'].value_counts().head(20)"
   ]
  },
  {
   "cell_type": "code",
   "execution_count": 14,
   "metadata": {},
   "outputs": [
    {
     "data": {
      "text/plain": [
       "Product Collection          346\n",
       "Watches/Clocks              233\n",
       "Magazine Gift               145\n",
       "Trains                      140\n",
       "Miscellaneous               140\n",
       "Promotional                 132\n",
       "Monthly Mini Model Build    129\n",
       "Housewares                  121\n",
       "Technic                     111\n",
       "Stationery                  105\n",
       "Name: subtheme, dtype: int64"
      ]
     },
     "execution_count": 14,
     "metadata": {},
     "output_type": "execute_result"
    }
   ],
   "source": [
    "# subtheme does not appear useful\n",
    "\n",
    "set_df['subtheme'].value_counts().head(10)"
   ]
  },
  {
   "cell_type": "code",
   "execution_count": 15,
   "metadata": {},
   "outputs": [],
   "source": [
    "InteractiveShell.ast_node_interactivity = 'last'"
   ]
  },
  {
   "cell_type": "code",
   "execution_count": 16,
   "metadata": {},
   "outputs": [
    {
     "data": {
      "image/png": "[encoded data removed]",
      "text/plain": [
       "<Figure size 1008x432 with 1 Axes>"
      ]
     },
     "metadata": {
      "needs_background": "light"
     },
     "output_type": "display_data"
    }
   ],
   "source": [
    "# plot number of set per year\n",
    "\n",
    "fig, axs = plt.subplots(1, 1, figsize=(14, 6))\n",
    "axs.hist(set_df['year'].values, bins=set_df['year'].unique().shape[0])\n",
    "axs.set(xlabel='Year', ylabel='No Sets')\n",
    "plt.show()"
   ]
  },
  {
   "cell_type": "code",
   "execution_count": 17,
   "metadata": {},
   "outputs": [
    {
     "name": "stderr",
     "output_type": "stream",
     "text": [
      "/Users/philbert/anaconda3/lib/python3.7/site-packages/numpy/lib/histograms.py:824: RuntimeWarning: invalid value encountered in greater_equal\n",
      "  keep = (tmp_a >= first_edge)\n",
      "/Users/philbert/anaconda3/lib/python3.7/site-packages/numpy/lib/histograms.py:825: RuntimeWarning: invalid value encountered in less_equal\n",
      "  keep &= (tmp_a <= last_edge)\n"
     ]
    },
    {
     "data": {
      "image/png": "[encoded data removed]",
      "text/plain": [
       "<Figure size 1008x432 with 1 Axes>"
      ]
     },
     "metadata": {
      "needs_background": "light"
     },
     "output_type": "display_data"
    }
   ],
   "source": [
    "# plot the piece count distribution\n",
    "\n",
    "fig, axs = plt.subplots(1, 1, figsize=(14, 6))\n",
    "axs.hist(set_df['piece_cnt'].values, bins=100)\n",
    "axs.set(xlabel='No Pieces', ylabel='Total of Sets')\n",
    "plt.show()"
   ]
  },
  {
   "cell_type": "code",
   "execution_count": 18,
   "metadata": {},
   "outputs": [
    {
     "data": {
      "text/plain": [
       "(10503, 19)"
      ]
     },
     "execution_count": 18,
     "metadata": {},
     "output_type": "execute_result"
    }
   ],
   "source": [
    "piece_df = set_df.loc[(set_df['piece_cnt'] >= 1) & (set_df['piece_cnt'] < 1000)]\n",
    "piece_df.shape"
   ]
  },
  {
   "cell_type": "code",
   "execution_count": 19,
   "metadata": {},
   "outputs": [
    {
     "data": {
      "image/png": "[encoded data removed]",
      "text/plain": [
       "<Figure size 1008x432 with 1 Axes>"
      ]
     },
     "metadata": {
      "needs_background": "light"
     },
     "output_type": "display_data"
    }
   ],
   "source": [
    "fig, axs = plt.subplots(1, 1, figsize=(14, 6))\n",
    "axs.hist(piece_df['piece_cnt'].values, bins=100)\n",
    "axs.set(xlabel='No Pieces', ylabel='Total of Sets')\n",
    "plt.show()"
   ]
  },
  {
   "cell_type": "code",
   "execution_count": 20,
   "metadata": {},
   "outputs": [
    {
     "data": {
      "image/png": "[encoded data removed]",
      "text/plain": [
       "<Figure size 1008x432 with 1 Axes>"
      ]
     },
     "metadata": {
      "needs_background": "light"
     },
     "output_type": "display_data"
    }
   ],
   "source": [
    "# plot the minifig count distribution\n",
    "\n",
    "minifig_df = set_df.loc[(set_df['minifig_cnt'] >= 1) & (set_df['minifig_cnt'] <= 20)]\n",
    "\n",
    "fig, axs = plt.subplots(1, 1, figsize=(14, 6))\n",
    "axs.hist(minifig_df['minifig_cnt'].values, bins=20)\n",
    "axs.set(xlabel='# Minifigs', ylabel='Total of Sets', xlim=(0, 21))\n",
    "axs.set_xticklabels(range(0, 22, 2))\n",
    "\n",
    "plt.show()"
   ]
  },
  {
   "cell_type": "code",
   "execution_count": 21,
   "metadata": {},
   "outputs": [
    {
     "data": {
      "text/html": [
       "<div>\n",
       "<style scoped>\n",
       "    .dataframe tbody tr th:only-of-type {\n",
       "        vertical-align: middle;\n",
       "    }\n",
       "\n",
       "    .dataframe tbody tr th {\n",
       "        vertical-align: top;\n",
       "    }\n",
       "\n",
       "    .dataframe thead th {\n",
       "        text-align: right;\n",
       "    }\n",
       "</style>\n",
       "<table border=\"1\" class=\"dataframe\">\n",
       "  <thead>\n",
       "    <tr style=\"text-align: right;\">\n",
       "      <th></th>\n",
       "      <th>set_no</th>\n",
       "      <th>name</th>\n",
       "      <th>store_price</th>\n",
       "      <th>price_store</th>\n",
       "    </tr>\n",
       "  </thead>\n",
       "  <tbody>\n",
       "    <tr>\n",
       "      <th>1305</th>\n",
       "      <td>2780-1</td>\n",
       "      <td>Complete Playhouse</td>\n",
       "      <td>NaN</td>\n",
       "      <td>NaN</td>\n",
       "    </tr>\n",
       "    <tr>\n",
       "      <th>1306</th>\n",
       "      <td>4011-1</td>\n",
       "      <td>Cabin Cruiser</td>\n",
       "      <td>$19.75</td>\n",
       "      <td>19.75</td>\n",
       "    </tr>\n",
       "    <tr>\n",
       "      <th>1307</th>\n",
       "      <td>4021-1</td>\n",
       "      <td>Police Patrol</td>\n",
       "      <td>$34.00</td>\n",
       "      <td>34.00</td>\n",
       "    </tr>\n",
       "    <tr>\n",
       "      <th>1308</th>\n",
       "      <td>4031-1</td>\n",
       "      <td>Firefighter</td>\n",
       "      <td>$52.00</td>\n",
       "      <td>52.00</td>\n",
       "    </tr>\n",
       "    <tr>\n",
       "      <th>1309</th>\n",
       "      <td>4515-1</td>\n",
       "      <td>Straight Rails</td>\n",
       "      <td>£11.99, $12.99</td>\n",
       "      <td>12.99</td>\n",
       "    </tr>\n",
       "    <tr>\n",
       "      <th>1310</th>\n",
       "      <td>4520-1</td>\n",
       "      <td>Curved Rails</td>\n",
       "      <td>£11.99, $12.99</td>\n",
       "      <td>12.99</td>\n",
       "    </tr>\n",
       "    <tr>\n",
       "      <th>1311</th>\n",
       "      <td>4531-1</td>\n",
       "      <td>Manual Points with Track</td>\n",
       "      <td>$27.99</td>\n",
       "      <td>27.99</td>\n",
       "    </tr>\n",
       "    <tr>\n",
       "      <th>1312</th>\n",
       "      <td>4536-1</td>\n",
       "      <td>Blue Hopper Car</td>\n",
       "      <td>$15.00</td>\n",
       "      <td>15.00</td>\n",
       "    </tr>\n",
       "    <tr>\n",
       "      <th>1313</th>\n",
       "      <td>4539-1</td>\n",
       "      <td>Manual Level Crossing</td>\n",
       "      <td>$25.00</td>\n",
       "      <td>25.00</td>\n",
       "    </tr>\n",
       "    <tr>\n",
       "      <th>1314</th>\n",
       "      <td>4543-1</td>\n",
       "      <td>Railroad Tractor Flatbed</td>\n",
       "      <td>$22.00</td>\n",
       "      <td>22.00</td>\n",
       "    </tr>\n",
       "  </tbody>\n",
       "</table>\n",
       "</div>"
      ],
      "text/plain": [
       "      set_no                      name     store_price  price_store\n",
       "1305  2780-1        Complete Playhouse             NaN          NaN\n",
       "1306  4011-1             Cabin Cruiser          $19.75        19.75\n",
       "1307  4021-1             Police Patrol          $34.00        34.00\n",
       "1308  4031-1               Firefighter          $52.00        52.00\n",
       "1309  4515-1            Straight Rails  £11.99, $12.99        12.99\n",
       "1310  4520-1              Curved Rails  £11.99, $12.99        12.99\n",
       "1311  4531-1  Manual Points with Track          $27.99        27.99\n",
       "1312  4536-1           Blue Hopper Car          $15.00        15.00\n",
       "1313  4539-1     Manual Level Crossing          $25.00        25.00\n",
       "1314  4543-1  Railroad Tractor Flatbed          $22.00        22.00"
      ]
     },
     "execution_count": 21,
     "metadata": {},
     "output_type": "execute_result"
    }
   ],
   "source": [
    "# clean up the store price\n",
    "\n",
    "set_df['price_store'] = set_df['store_price'].apply(lh.clean_price)\n",
    "set_df[['set_no', 'name', 'store_price', 'price_store']][1305:1315]"
   ]
  },
  {
   "cell_type": "code",
   "execution_count": 22,
   "metadata": {},
   "outputs": [
    {
     "data": {
      "image/png": "[encoded data removed]",
      "text/plain": [
       "<Figure size 1008x432 with 1 Axes>"
      ]
     },
     "metadata": {
      "needs_background": "light"
     },
     "output_type": "display_data"
    }
   ],
   "source": [
    "fig, axs = plt.subplots(1, 1, figsize=(14, 6))\n",
    "axs.hist(set_df['price_store'].values, bins=100)\n",
    "axs.set(xlabel='Store Price', ylabel='Total of Sets', xlim=(0, 200))\n",
    "\n",
    "plt.show()"
   ]
  },
  {
   "cell_type": "code",
   "execution_count": 23,
   "metadata": {},
   "outputs": [
    {
     "data": {
      "text/html": [
       "<div>\n",
       "<style scoped>\n",
       "    .dataframe tbody tr th:only-of-type {\n",
       "        vertical-align: middle;\n",
       "    }\n",
       "\n",
       "    .dataframe tbody tr th {\n",
       "        vertical-align: top;\n",
       "    }\n",
       "\n",
       "    .dataframe thead th {\n",
       "        text-align: right;\n",
       "    }\n",
       "</style>\n",
       "<table border=\"1\" class=\"dataframe\">\n",
       "  <thead>\n",
       "    <tr style=\"text-align: right;\">\n",
       "      <th></th>\n",
       "      <th>set_no</th>\n",
       "      <th>name</th>\n",
       "      <th>current_price</th>\n",
       "      <th>price_used</th>\n",
       "      <th>price_new</th>\n",
       "    </tr>\n",
       "  </thead>\n",
       "  <tbody>\n",
       "    <tr>\n",
       "      <th>2205</th>\n",
       "      <td>2161-1</td>\n",
       "      <td>Aqua Dozer</td>\n",
       "      <td>New: $90, Used: $22</td>\n",
       "      <td>22.0</td>\n",
       "      <td>90.0</td>\n",
       "    </tr>\n",
       "    <tr>\n",
       "      <th>2206</th>\n",
       "      <td>2162-1</td>\n",
       "      <td>Hydro Reef Wrecker</td>\n",
       "      <td>New: $89, Used: $44</td>\n",
       "      <td>44.0</td>\n",
       "      <td>89.0</td>\n",
       "    </tr>\n",
       "    <tr>\n",
       "      <th>2207</th>\n",
       "      <td>2163-1</td>\n",
       "      <td>Toucan</td>\n",
       "      <td>New: $1, Used: $0</td>\n",
       "      <td>0.0</td>\n",
       "      <td>1.0</td>\n",
       "    </tr>\n",
       "    <tr>\n",
       "      <th>2208</th>\n",
       "      <td>2164-1</td>\n",
       "      <td>Whale</td>\n",
       "      <td>New: $2, Used: $1</td>\n",
       "      <td>1.0</td>\n",
       "      <td>2.0</td>\n",
       "    </tr>\n",
       "    <tr>\n",
       "      <th>2209</th>\n",
       "      <td>2165-1</td>\n",
       "      <td>Rhinocerous</td>\n",
       "      <td>New: $2, Used: Not known</td>\n",
       "      <td>NaN</td>\n",
       "      <td>2.0</td>\n",
       "    </tr>\n",
       "    <tr>\n",
       "      <th>2210</th>\n",
       "      <td>2166-1</td>\n",
       "      <td>Elephant</td>\n",
       "      <td>New: $3, Used: Not known</td>\n",
       "      <td>NaN</td>\n",
       "      <td>3.0</td>\n",
       "    </tr>\n",
       "    <tr>\n",
       "      <th>2211</th>\n",
       "      <td>2167-1</td>\n",
       "      <td>Penguin</td>\n",
       "      <td>New: $2, Used: Not known</td>\n",
       "      <td>NaN</td>\n",
       "      <td>2.0</td>\n",
       "    </tr>\n",
       "    <tr>\n",
       "      <th>2212</th>\n",
       "      <td>2168-1</td>\n",
       "      <td>Rattle</td>\n",
       "      <td>New: $5, Used: Not known</td>\n",
       "      <td>NaN</td>\n",
       "      <td>5.0</td>\n",
       "    </tr>\n",
       "    <tr>\n",
       "      <th>2213</th>\n",
       "      <td>2181-1</td>\n",
       "      <td>Infomaniac</td>\n",
       "      <td>New: $270, Used: $45</td>\n",
       "      <td>45.0</td>\n",
       "      <td>270.0</td>\n",
       "    </tr>\n",
       "    <tr>\n",
       "      <th>2214</th>\n",
       "      <td>2184-1</td>\n",
       "      <td>XL Bulk Bucket</td>\n",
       "      <td>New: Not known, Used: Not known</td>\n",
       "      <td>NaN</td>\n",
       "      <td>NaN</td>\n",
       "    </tr>\n",
       "  </tbody>\n",
       "</table>\n",
       "</div>"
      ],
      "text/plain": [
       "      set_no                name                    current_price  price_used  \\\n",
       "2205  2161-1          Aqua Dozer              New: $90, Used: $22        22.0   \n",
       "2206  2162-1  Hydro Reef Wrecker              New: $89, Used: $44        44.0   \n",
       "2207  2163-1              Toucan                New: $1, Used: $0         0.0   \n",
       "2208  2164-1               Whale                New: $2, Used: $1         1.0   \n",
       "2209  2165-1         Rhinocerous         New: $2, Used: Not known         NaN   \n",
       "2210  2166-1            Elephant         New: $3, Used: Not known         NaN   \n",
       "2211  2167-1             Penguin         New: $2, Used: Not known         NaN   \n",
       "2212  2168-1              Rattle         New: $5, Used: Not known         NaN   \n",
       "2213  2181-1          Infomaniac             New: $270, Used: $45        45.0   \n",
       "2214  2184-1      XL Bulk Bucket  New: Not known, Used: Not known         NaN   \n",
       "\n",
       "      price_new  \n",
       "2205       90.0  \n",
       "2206       89.0  \n",
       "2207        1.0  \n",
       "2208        2.0  \n",
       "2209        2.0  \n",
       "2210        3.0  \n",
       "2211        2.0  \n",
       "2212        5.0  \n",
       "2213      270.0  \n",
       "2214        NaN  "
      ]
     },
     "execution_count": 23,
     "metadata": {},
     "output_type": "execute_result"
    }
   ],
   "source": [
    "# create 2 new columns for current price\n",
    "\n",
    "set_df['price_used'] = set_df['current_price'].apply(lh.get_price_used)\n",
    "set_df['price_new'] = set_df['current_price'].apply(lh.get_price_new)\n",
    "set_df[['set_no', 'name', 'current_price', 'price_used', 'price_new']][2205:2215]"
   ]
  },
  {
   "cell_type": "code",
   "execution_count": 24,
   "metadata": {},
   "outputs": [
    {
     "data": {
      "image/png": "[encoded data removed]",
      "text/plain": [
       "<Figure size 1008x432 with 1 Axes>"
      ]
     },
     "metadata": {
      "needs_background": "light"
     },
     "output_type": "display_data"
    }
   ],
   "source": [
    "fig, axs = plt.subplots(1, 1, figsize=(14, 6))\n",
    "axs.hist(set_df['price_used'].values, bins=200)\n",
    "axs.set(xlabel='Used Price', ylabel='Total of Sets', xlim=(0, 200))\n",
    "\n",
    "plt.show()"
   ]
  },
  {
   "cell_type": "code",
   "execution_count": 25,
   "metadata": {},
   "outputs": [
    {
     "data": {
      "text/html": [
       "<div>\n",
       "<style scoped>\n",
       "    .dataframe tbody tr th:only-of-type {\n",
       "        vertical-align: middle;\n",
       "    }\n",
       "\n",
       "    .dataframe tbody tr th {\n",
       "        vertical-align: top;\n",
       "    }\n",
       "\n",
       "    .dataframe thead th {\n",
       "        text-align: right;\n",
       "    }\n",
       "</style>\n",
       "<table border=\"1\" class=\"dataframe\">\n",
       "  <thead>\n",
       "    <tr style=\"text-align: right;\">\n",
       "      <th></th>\n",
       "      <th>set_no</th>\n",
       "      <th>name</th>\n",
       "      <th>rating_votes</th>\n",
       "      <th>rating_votes_cl</th>\n",
       "    </tr>\n",
       "  </thead>\n",
       "  <tbody>\n",
       "    <tr>\n",
       "      <th>2205</th>\n",
       "      <td>2161-1</td>\n",
       "      <td>Aqua Dozer</td>\n",
       "      <td>6</td>\n",
       "      <td>6.0</td>\n",
       "    </tr>\n",
       "    <tr>\n",
       "      <th>2206</th>\n",
       "      <td>2162-1</td>\n",
       "      <td>Hydro Reef Wrecker</td>\n",
       "      <td>3</td>\n",
       "      <td>3.0</td>\n",
       "    </tr>\n",
       "    <tr>\n",
       "      <th>2207</th>\n",
       "      <td>2163-1</td>\n",
       "      <td>Toucan</td>\n",
       "      <td>NaN</td>\n",
       "      <td>NaN</td>\n",
       "    </tr>\n",
       "    <tr>\n",
       "      <th>2208</th>\n",
       "      <td>2164-1</td>\n",
       "      <td>Whale</td>\n",
       "      <td>NaN</td>\n",
       "      <td>NaN</td>\n",
       "    </tr>\n",
       "    <tr>\n",
       "      <th>2209</th>\n",
       "      <td>2165-1</td>\n",
       "      <td>Rhinocerous</td>\n",
       "      <td>NaN</td>\n",
       "      <td>NaN</td>\n",
       "    </tr>\n",
       "    <tr>\n",
       "      <th>2210</th>\n",
       "      <td>2166-1</td>\n",
       "      <td>Elephant</td>\n",
       "      <td>NaN</td>\n",
       "      <td>NaN</td>\n",
       "    </tr>\n",
       "    <tr>\n",
       "      <th>2211</th>\n",
       "      <td>2167-1</td>\n",
       "      <td>Penguin</td>\n",
       "      <td>1review</td>\n",
       "      <td>1.0</td>\n",
       "    </tr>\n",
       "    <tr>\n",
       "      <th>2212</th>\n",
       "      <td>2168-1</td>\n",
       "      <td>Rattle</td>\n",
       "      <td>NaN</td>\n",
       "      <td>NaN</td>\n",
       "    </tr>\n",
       "    <tr>\n",
       "      <th>2213</th>\n",
       "      <td>2181-1</td>\n",
       "      <td>Infomaniac</td>\n",
       "      <td>2</td>\n",
       "      <td>2.0</td>\n",
       "    </tr>\n",
       "    <tr>\n",
       "      <th>2214</th>\n",
       "      <td>2184-1</td>\n",
       "      <td>XL Bulk Bucket</td>\n",
       "      <td>NaN</td>\n",
       "      <td>NaN</td>\n",
       "    </tr>\n",
       "  </tbody>\n",
       "</table>\n",
       "</div>"
      ],
      "text/plain": [
       "      set_no                name rating_votes  rating_votes_cl\n",
       "2205  2161-1          Aqua Dozer            6              6.0\n",
       "2206  2162-1  Hydro Reef Wrecker            3              3.0\n",
       "2207  2163-1              Toucan          NaN              NaN\n",
       "2208  2164-1               Whale          NaN              NaN\n",
       "2209  2165-1         Rhinocerous          NaN              NaN\n",
       "2210  2166-1            Elephant          NaN              NaN\n",
       "2211  2167-1             Penguin      1review              1.0\n",
       "2212  2168-1              Rattle          NaN              NaN\n",
       "2213  2181-1          Infomaniac            2              2.0\n",
       "2214  2184-1      XL Bulk Bucket          NaN              NaN"
      ]
     },
     "execution_count": 25,
     "metadata": {},
     "output_type": "execute_result"
    }
   ],
   "source": [
    "# clean the ratings votes column\n",
    "\n",
    "set_df['rating_votes_cl'] = set_df['rating_votes'].apply(lh.clean_votes).astype('float')\n",
    "set_df[['set_no', 'name', 'rating_votes', 'rating_votes_cl']][2205:2215]"
   ]
  },
  {
   "cell_type": "code",
   "execution_count": 26,
   "metadata": {
    "scrolled": false
   },
   "outputs": [
    {
     "data": {
      "image/png": "[encoded data removed]",
      "text/plain": [
       "<Figure size 1008x432 with 1 Axes>"
      ]
     },
     "metadata": {
      "needs_background": "light"
     },
     "output_type": "display_data"
    }
   ],
   "source": [
    "# since there aren't a lot of sets with high votes, the ratings aren't very reliable\n",
    "\n",
    "fig, axs = plt.subplots(1, 1, figsize=(14, 6))\n",
    "axs.hist(set_df['rating_votes_cl'].values, bins=100)\n",
    "axs.set(xlabel='Number of Votes', ylabel='Total of Sets', xlim=(0, 30))  # most votes ~100\n",
    "\n",
    "plt.show()"
   ]
  },
  {
   "cell_type": "code",
   "execution_count": 27,
   "metadata": {},
   "outputs": [
    {
     "data": {
      "text/plain": [
       "array(['4X4, Aircraft, Articulated Lorry, Boat, Car, Crane, Helicopter, Steam Roller, Trailer, Truck',\n",
       "       'Articulated Lorry, Base, Baseplate, Crane, Formula 1, Helicopter, Pickup Truck, Racing, Racing Car, Truck',\n",
       "       '8 Wheel Vehicle, Crane, Electric Motor, Mobile Base, Mobile Crane, Truck, Windmill',\n",
       "       'Baseplate', 'Baseplate'], dtype=object)"
      ]
     },
     "execution_count": 27,
     "metadata": {},
     "output_type": "execute_result"
    }
   ],
   "source": [
    "# investigate the tags \n",
    "\n",
    "tag_raw_ls = set_df.loc[set_df['tags'].isna()==False]['tags'].values\n",
    "tag_raw_ls[:5]"
   ]
  },
  {
   "cell_type": "code",
   "execution_count": 28,
   "metadata": {},
   "outputs": [
    {
     "data": {
      "text/html": [
       "<div>\n",
       "<style scoped>\n",
       "    .dataframe tbody tr th:only-of-type {\n",
       "        vertical-align: middle;\n",
       "    }\n",
       "\n",
       "    .dataframe tbody tr th {\n",
       "        vertical-align: top;\n",
       "    }\n",
       "\n",
       "    .dataframe thead th {\n",
       "        text-align: right;\n",
       "    }\n",
       "</style>\n",
       "<table border=\"1\" class=\"dataframe\">\n",
       "  <thead>\n",
       "    <tr style=\"text-align: right;\">\n",
       "      <th></th>\n",
       "      <th>tag</th>\n",
       "      <th>count</th>\n",
       "    </tr>\n",
       "  </thead>\n",
       "  <tbody>\n",
       "    <tr>\n",
       "      <th>0</th>\n",
       "      <td>Polybag</td>\n",
       "      <td>1739</td>\n",
       "    </tr>\n",
       "    <tr>\n",
       "      <th>1</th>\n",
       "      <td>Aircraft</td>\n",
       "      <td>715</td>\n",
       "    </tr>\n",
       "    <tr>\n",
       "      <th>2</th>\n",
       "      <td>Microscale</td>\n",
       "      <td>675</td>\n",
       "    </tr>\n",
       "    <tr>\n",
       "      <th>3</th>\n",
       "      <td>Brick Built Animals</td>\n",
       "      <td>527</td>\n",
       "    </tr>\n",
       "    <tr>\n",
       "      <th>4</th>\n",
       "      <td>Car</td>\n",
       "      <td>506</td>\n",
       "    </tr>\n",
       "  </tbody>\n",
       "</table>\n",
       "</div>"
      ],
      "text/plain": [
       "                   tag  count\n",
       "0              Polybag   1739\n",
       "1             Aircraft    715\n",
       "2           Microscale    675\n",
       "3  Brick Built Animals    527\n",
       "4                  Car    506"
      ]
     },
     "execution_count": 28,
     "metadata": {},
     "output_type": "execute_result"
    }
   ],
   "source": [
    "tag_ls = lh.count_in_lists(list(tag_raw_ls))\n",
    "tag_df = pd.DataFrame(tag_ls).sort_values('count', ascending=False).reset_index()\n",
    "tag_df = tag_df[['tag', 'count']]\n",
    "tag_df.head()"
   ]
  },
  {
   "cell_type": "code",
   "execution_count": 29,
   "metadata": {},
   "outputs": [
    {
     "data": {
      "text/plain": [
       "(3361, 2)"
      ]
     },
     "execution_count": 29,
     "metadata": {},
     "output_type": "execute_result"
    }
   ],
   "source": [
    "tag_df.shape"
   ]
  },
  {
   "cell_type": "code",
   "execution_count": 30,
   "metadata": {},
   "outputs": [
    {
     "data": {
      "text/plain": [
       "Normal        9909\n",
       "Gear          2063\n",
       "Other          645\n",
       "Collection     488\n",
       "Extended       347\n",
       "Book           265\n",
       "Random          36\n",
       "Name: set_type, dtype: int64"
      ]
     },
     "execution_count": 30,
     "metadata": {},
     "output_type": "execute_result"
    }
   ],
   "source": [
    "# set type\n",
    "\n",
    "set_df['set_type'].value_counts()"
   ]
  },
  {
   "cell_type": "code",
   "execution_count": 31,
   "metadata": {},
   "outputs": [
    {
     "data": {
      "text/plain": [
       "Box                      5306\n",
       "Polybag                  1732\n",
       "Foil pack                 853\n",
       "Blister pack              218\n",
       "None (loose parts)        173\n",
       "Bucket                    129\n",
       "Other                     120\n",
       "Tag                       114\n",
       "Canister                   73\n",
       "Tub                        66\n",
       "Plastic box                58\n",
       "Shrink-wrapped             25\n",
       "Box with backing card      23\n",
       "Box with handle            14\n",
       "Zip-lock bag                9\n",
       "Plastic canister            6\n",
       "Name: packaging, dtype: int64"
      ]
     },
     "execution_count": 31,
     "metadata": {},
     "output_type": "execute_result"
    }
   ],
   "source": [
    "# packaging \n",
    "\n",
    "set_df['packaging'].value_counts()"
   ]
  },
  {
   "cell_type": "code",
   "execution_count": 32,
   "metadata": {},
   "outputs": [
    {
     "data": {
      "text/plain": [
       "(49, 4)"
      ]
     },
     "execution_count": 32,
     "metadata": {},
     "output_type": "execute_result"
    }
   ],
   "source": [
    "# notes - several keywords are avaialble, but they are not more useful than existing columns\n",
    "# there are only 49 re-released sets, which all have their own fields, so keeping them as is is fine\n",
    "\n",
    "note_df = set_df.loc[set_df['notes'].isna()==False]\n",
    "note_df.loc[note_df['notes'].str.contains('Re-released version')][['set_no', 'name', 'url', 'notes']].shape"
   ]
  },
  {
   "cell_type": "code",
   "execution_count": 33,
   "metadata": {
    "scrolled": false
   },
   "outputs": [
    {
     "data": {
      "text/html": [
       "<div>\n",
       "<style scoped>\n",
       "    .dataframe tbody tr th:only-of-type {\n",
       "        vertical-align: middle;\n",
       "    }\n",
       "\n",
       "    .dataframe tbody tr th {\n",
       "        vertical-align: top;\n",
       "    }\n",
       "\n",
       "    .dataframe thead th {\n",
       "        text-align: right;\n",
       "    }\n",
       "</style>\n",
       "<table border=\"1\" class=\"dataframe\">\n",
       "  <thead>\n",
       "    <tr style=\"text-align: right;\">\n",
       "      <th></th>\n",
       "      <th>set_no</th>\n",
       "      <th>name</th>\n",
       "      <th>url</th>\n",
       "      <th>theme_group</th>\n",
       "      <th>theme</th>\n",
       "      <th>subtheme</th>\n",
       "      <th>year</th>\n",
       "      <th>piece_cnt</th>\n",
       "      <th>minifig_cnt</th>\n",
       "      <th>inventory_url</th>\n",
       "      <th>...</th>\n",
       "      <th>rating_value</th>\n",
       "      <th>rating_votes</th>\n",
       "      <th>tags</th>\n",
       "      <th>set_type</th>\n",
       "      <th>packaging</th>\n",
       "      <th>notes</th>\n",
       "      <th>price_store</th>\n",
       "      <th>price_used</th>\n",
       "      <th>price_new</th>\n",
       "      <th>rating_votes_cl</th>\n",
       "    </tr>\n",
       "  </thead>\n",
       "  <tbody>\n",
       "    <tr>\n",
       "      <th>6494</th>\n",
       "      <td>4999-1</td>\n",
       "      <td>Vestas Wind Turbine</td>\n",
       "      <td>/sets/4999-1/Vestas-Wind-Turbine</td>\n",
       "      <td>Model making</td>\n",
       "      <td>Creator Expert</td>\n",
       "      <td>Vestas</td>\n",
       "      <td>2008.0</td>\n",
       "      <td>815.0</td>\n",
       "      <td>3.0</td>\n",
       "      <td>/inventories/4999-1</td>\n",
       "      <td>...</td>\n",
       "      <td>5.0</td>\n",
       "      <td>4</td>\n",
       "      <td>Baseplate, Dog, Electric, House, Power Functio...</td>\n",
       "      <td>Normal</td>\n",
       "      <td>Box</td>\n",
       "      <td>Limited edition set released in conjunction wi...</td>\n",
       "      <td>NaN</td>\n",
       "      <td>233.0</td>\n",
       "      <td>351.0</td>\n",
       "      <td>4.0</td>\n",
       "    </tr>\n",
       "  </tbody>\n",
       "</table>\n",
       "<p>1 rows × 23 columns</p>\n",
       "</div>"
      ],
      "text/plain": [
       "      set_no                 name                               url  \\\n",
       "6494  4999-1  Vestas Wind Turbine  /sets/4999-1/Vestas-Wind-Turbine   \n",
       "\n",
       "       theme_group           theme subtheme    year  piece_cnt  minifig_cnt  \\\n",
       "6494  Model making  Creator Expert   Vestas  2008.0      815.0          3.0   \n",
       "\n",
       "            inventory_url  ... rating_value rating_votes  \\\n",
       "6494  /inventories/4999-1  ...          5.0            4   \n",
       "\n",
       "                                                   tags  set_type packaging  \\\n",
       "6494  Baseplate, Dog, Electric, House, Power Functio...    Normal       Box   \n",
       "\n",
       "                                                  notes price_store  \\\n",
       "6494  Limited edition set released in conjunction wi...         NaN   \n",
       "\n",
       "     price_used price_new  rating_votes_cl  \n",
       "6494      233.0     351.0              4.0  \n",
       "\n",
       "[1 rows x 23 columns]"
      ]
     },
     "execution_count": 33,
     "metadata": {},
     "output_type": "execute_result"
    }
   ],
   "source": [
    "set_df.loc[set_df['set_no']=='4999-1']"
   ]
  },
  {
   "cell_type": "code",
   "execution_count": 34,
   "metadata": {
    "scrolled": true
   },
   "outputs": [
    {
     "data": {
      "text/html": [
       "<div>\n",
       "<style scoped>\n",
       "    .dataframe tbody tr th:only-of-type {\n",
       "        vertical-align: middle;\n",
       "    }\n",
       "\n",
       "    .dataframe tbody tr th {\n",
       "        vertical-align: top;\n",
       "    }\n",
       "\n",
       "    .dataframe thead th {\n",
       "        text-align: right;\n",
       "    }\n",
       "</style>\n",
       "<table border=\"1\" class=\"dataframe\">\n",
       "  <thead>\n",
       "    <tr style=\"text-align: right;\">\n",
       "      <th></th>\n",
       "      <th>set_no</th>\n",
       "      <th>name</th>\n",
       "      <th>url</th>\n",
       "      <th>theme_group</th>\n",
       "      <th>theme</th>\n",
       "      <th>subtheme</th>\n",
       "      <th>year</th>\n",
       "      <th>piece_cnt</th>\n",
       "      <th>minifig_cnt</th>\n",
       "      <th>inventory_url</th>\n",
       "      <th>...</th>\n",
       "      <th>rating_value</th>\n",
       "      <th>rating_votes</th>\n",
       "      <th>tags</th>\n",
       "      <th>set_type</th>\n",
       "      <th>packaging</th>\n",
       "      <th>notes</th>\n",
       "      <th>price_store</th>\n",
       "      <th>price_used</th>\n",
       "      <th>price_new</th>\n",
       "      <th>rating_votes_cl</th>\n",
       "    </tr>\n",
       "  </thead>\n",
       "  <tbody>\n",
       "    <tr>\n",
       "      <th>12970</th>\n",
       "      <td>10268-1</td>\n",
       "      <td>Vestas Wind Turbine</td>\n",
       "      <td>/sets/10268-1/Vestas-Wind-Turbine</td>\n",
       "      <td>Model making</td>\n",
       "      <td>Creator Expert</td>\n",
       "      <td>Vestas</td>\n",
       "      <td>2018.0</td>\n",
       "      <td>826.0</td>\n",
       "      <td>3.0</td>\n",
       "      <td>/inventories/10268-1</td>\n",
       "      <td>...</td>\n",
       "      <td>5.0</td>\n",
       "      <td>1review</td>\n",
       "      <td>Baseplate, D2c, Dog, Electric, House, Power Fu...</td>\n",
       "      <td>Normal</td>\n",
       "      <td>Box</td>\n",
       "      <td>Re-released version of 4999-1</td>\n",
       "      <td>199.99</td>\n",
       "      <td>169.0</td>\n",
       "      <td>138.0</td>\n",
       "      <td>1.0</td>\n",
       "    </tr>\n",
       "  </tbody>\n",
       "</table>\n",
       "<p>1 rows × 23 columns</p>\n",
       "</div>"
      ],
      "text/plain": [
       "        set_no                 name                                url  \\\n",
       "12970  10268-1  Vestas Wind Turbine  /sets/10268-1/Vestas-Wind-Turbine   \n",
       "\n",
       "        theme_group           theme subtheme    year  piece_cnt  minifig_cnt  \\\n",
       "12970  Model making  Creator Expert   Vestas  2018.0      826.0          3.0   \n",
       "\n",
       "              inventory_url  ... rating_value rating_votes  \\\n",
       "12970  /inventories/10268-1  ...          5.0      1review   \n",
       "\n",
       "                                                    tags  set_type packaging  \\\n",
       "12970  Baseplate, D2c, Dog, Electric, House, Power Fu...    Normal       Box   \n",
       "\n",
       "                                notes price_store price_used price_new  \\\n",
       "12970  Re-released version of 4999-1       199.99      169.0     138.0   \n",
       "\n",
       "       rating_votes_cl  \n",
       "12970              1.0  \n",
       "\n",
       "[1 rows x 23 columns]"
      ]
     },
     "execution_count": 34,
     "metadata": {},
     "output_type": "execute_result"
    }
   ],
   "source": [
    "set_df.loc[set_df['set_no']=='10268-1']"
   ]
  },
  {
   "cell_type": "code",
   "execution_count": 35,
   "metadata": {},
   "outputs": [
    {
     "name": "stdout",
     "output_type": "stream",
     "text": [
      "<class 'pandas.core.frame.DataFrame'>\n",
      "RangeIndex: 13754 entries, 0 to 13753\n",
      "Data columns (total 23 columns):\n",
      "set_no             13754 non-null object\n",
      "name               13754 non-null object\n",
      "url                13754 non-null object\n",
      "theme_group        13754 non-null object\n",
      "theme              13754 non-null object\n",
      "subtheme           10040 non-null object\n",
      "year               13754 non-null float64\n",
      "piece_cnt          10858 non-null float64\n",
      "minifig_cnt        13754 non-null float64\n",
      "inventory_url      6958 non-null object\n",
      "minifig_url        6264 non-null object\n",
      "store_price        9182 non-null object\n",
      "current_price      13754 non-null object\n",
      "rating_value       6813 non-null float64\n",
      "rating_votes       6813 non-null object\n",
      "tags               10265 non-null object\n",
      "set_type           13753 non-null object\n",
      "packaging          8919 non-null object\n",
      "notes              5231 non-null object\n",
      "price_store        8378 non-null float64\n",
      "price_used         7015 non-null float64\n",
      "price_new          8516 non-null float64\n",
      "rating_votes_cl    6813 non-null float64\n",
      "dtypes: float64(8), object(15)\n",
      "memory usage: 2.4+ MB\n"
     ]
    }
   ],
   "source": [
    "set_df.info()"
   ]
  },
  {
   "cell_type": "code",
   "execution_count": 36,
   "metadata": {},
   "outputs": [
    {
     "data": {
      "text/html": [
       "<div>\n",
       "<style scoped>\n",
       "    .dataframe tbody tr th:only-of-type {\n",
       "        vertical-align: middle;\n",
       "    }\n",
       "\n",
       "    .dataframe tbody tr th {\n",
       "        vertical-align: top;\n",
       "    }\n",
       "\n",
       "    .dataframe thead th {\n",
       "        text-align: right;\n",
       "    }\n",
       "</style>\n",
       "<table border=\"1\" class=\"dataframe\">\n",
       "  <thead>\n",
       "    <tr style=\"text-align: right;\">\n",
       "      <th></th>\n",
       "      <th>set_no</th>\n",
       "      <th>name</th>\n",
       "      <th>url</th>\n",
       "      <th>theme_group</th>\n",
       "      <th>theme</th>\n",
       "      <th>subtheme</th>\n",
       "      <th>year</th>\n",
       "      <th>piece_cnt</th>\n",
       "      <th>minifig_cnt</th>\n",
       "      <th>inventory_url</th>\n",
       "      <th>minifig_url</th>\n",
       "      <th>price_store</th>\n",
       "      <th>price_new</th>\n",
       "      <th>price_used</th>\n",
       "      <th>rating_value</th>\n",
       "      <th>rating_votes</th>\n",
       "      <th>tags</th>\n",
       "      <th>set_type</th>\n",
       "      <th>packaging</th>\n",
       "    </tr>\n",
       "  </thead>\n",
       "  <tbody>\n",
       "    <tr>\n",
       "      <th>0</th>\n",
       "      <td>722-1</td>\n",
       "      <td>Universal Building Set, 7+</td>\n",
       "      <td>/sets/722-1/Universal-Building-Set-7</td>\n",
       "      <td>Basic</td>\n",
       "      <td>Basic</td>\n",
       "      <td>NaN</td>\n",
       "      <td>1980.0</td>\n",
       "      <td>301.0</td>\n",
       "      <td>0.0</td>\n",
       "      <td>NaN</td>\n",
       "      <td>NaN</td>\n",
       "      <td>20.00</td>\n",
       "      <td>200.0</td>\n",
       "      <td>78.0</td>\n",
       "      <td>4.4</td>\n",
       "      <td>5.0</td>\n",
       "      <td>4X4, Aircraft, Articulated Lorry, Boat, Car, C...</td>\n",
       "      <td>Normal</td>\n",
       "      <td>NaN</td>\n",
       "    </tr>\n",
       "    <tr>\n",
       "      <th>1</th>\n",
       "      <td>733-1</td>\n",
       "      <td>Universal Building Set, 7+</td>\n",
       "      <td>/sets/733-1/Universal-Building-Set-7</td>\n",
       "      <td>Basic</td>\n",
       "      <td>Basic</td>\n",
       "      <td>NaN</td>\n",
       "      <td>1980.0</td>\n",
       "      <td>533.0</td>\n",
       "      <td>0.0</td>\n",
       "      <td>NaN</td>\n",
       "      <td>NaN</td>\n",
       "      <td>39.00</td>\n",
       "      <td>566.0</td>\n",
       "      <td>109.0</td>\n",
       "      <td>4.5</td>\n",
       "      <td>2.0</td>\n",
       "      <td>Articulated Lorry, Base, Baseplate, Crane, For...</td>\n",
       "      <td>Normal</td>\n",
       "      <td>NaN</td>\n",
       "    </tr>\n",
       "    <tr>\n",
       "      <th>2</th>\n",
       "      <td>744-1</td>\n",
       "      <td>Universal Building Set with Motor, 7+</td>\n",
       "      <td>/sets/744-1/Universal-Building-Set-with-Motor-7</td>\n",
       "      <td>Basic</td>\n",
       "      <td>Basic</td>\n",
       "      <td>NaN</td>\n",
       "      <td>1980.0</td>\n",
       "      <td>537.0</td>\n",
       "      <td>0.0</td>\n",
       "      <td>NaN</td>\n",
       "      <td>NaN</td>\n",
       "      <td>59.00</td>\n",
       "      <td>252.0</td>\n",
       "      <td>97.0</td>\n",
       "      <td>5.0</td>\n",
       "      <td>2.0</td>\n",
       "      <td>8 Wheel Vehicle, Crane, Electric Motor, Mobile...</td>\n",
       "      <td>Normal</td>\n",
       "      <td>NaN</td>\n",
       "    </tr>\n",
       "    <tr>\n",
       "      <th>3</th>\n",
       "      <td>820-1</td>\n",
       "      <td>Red Plates Parts Pack</td>\n",
       "      <td>/sets/820-1/Red-Plates-Parts-Pack</td>\n",
       "      <td>Basic</td>\n",
       "      <td>Basic</td>\n",
       "      <td>Supplementaries</td>\n",
       "      <td>1980.0</td>\n",
       "      <td>34.0</td>\n",
       "      <td>0.0</td>\n",
       "      <td>NaN</td>\n",
       "      <td>NaN</td>\n",
       "      <td>4.75</td>\n",
       "      <td>NaN</td>\n",
       "      <td>NaN</td>\n",
       "      <td>NaN</td>\n",
       "      <td>NaN</td>\n",
       "      <td>NaN</td>\n",
       "      <td>Normal</td>\n",
       "      <td>NaN</td>\n",
       "    </tr>\n",
       "    <tr>\n",
       "      <th>4</th>\n",
       "      <td>822-1</td>\n",
       "      <td>Blue Plates Parts Pack</td>\n",
       "      <td>/sets/822-1/Blue-Plates-Parts-Pack</td>\n",
       "      <td>Basic</td>\n",
       "      <td>Basic</td>\n",
       "      <td>Supplementaries</td>\n",
       "      <td>1980.0</td>\n",
       "      <td>34.0</td>\n",
       "      <td>0.0</td>\n",
       "      <td>NaN</td>\n",
       "      <td>NaN</td>\n",
       "      <td>4.75</td>\n",
       "      <td>29.0</td>\n",
       "      <td>5.0</td>\n",
       "      <td>NaN</td>\n",
       "      <td>NaN</td>\n",
       "      <td>NaN</td>\n",
       "      <td>Normal</td>\n",
       "      <td>NaN</td>\n",
       "    </tr>\n",
       "  </tbody>\n",
       "</table>\n",
       "</div>"
      ],
      "text/plain": [
       "  set_no                                   name  \\\n",
       "0  722-1             Universal Building Set, 7+   \n",
       "1  733-1             Universal Building Set, 7+   \n",
       "2  744-1  Universal Building Set with Motor, 7+   \n",
       "3  820-1                  Red Plates Parts Pack   \n",
       "4  822-1                 Blue Plates Parts Pack   \n",
       "\n",
       "                                               url theme_group  theme  \\\n",
       "0             /sets/722-1/Universal-Building-Set-7       Basic  Basic   \n",
       "1             /sets/733-1/Universal-Building-Set-7       Basic  Basic   \n",
       "2  /sets/744-1/Universal-Building-Set-with-Motor-7       Basic  Basic   \n",
       "3                /sets/820-1/Red-Plates-Parts-Pack       Basic  Basic   \n",
       "4               /sets/822-1/Blue-Plates-Parts-Pack       Basic  Basic   \n",
       "\n",
       "          subtheme    year  piece_cnt  minifig_cnt inventory_url minifig_url  \\\n",
       "0              NaN  1980.0      301.0          0.0           NaN         NaN   \n",
       "1              NaN  1980.0      533.0          0.0           NaN         NaN   \n",
       "2              NaN  1980.0      537.0          0.0           NaN         NaN   \n",
       "3  Supplementaries  1980.0       34.0          0.0           NaN         NaN   \n",
       "4  Supplementaries  1980.0       34.0          0.0           NaN         NaN   \n",
       "\n",
       "   price_store  price_new  price_used  rating_value  rating_votes  \\\n",
       "0        20.00      200.0        78.0           4.4           5.0   \n",
       "1        39.00      566.0       109.0           4.5           2.0   \n",
       "2        59.00      252.0        97.0           5.0           2.0   \n",
       "3         4.75        NaN         NaN           NaN           NaN   \n",
       "4         4.75       29.0         5.0           NaN           NaN   \n",
       "\n",
       "                                                tags set_type packaging  \n",
       "0  4X4, Aircraft, Articulated Lorry, Boat, Car, C...   Normal       NaN  \n",
       "1  Articulated Lorry, Base, Baseplate, Crane, For...   Normal       NaN  \n",
       "2  8 Wheel Vehicle, Crane, Electric Motor, Mobile...   Normal       NaN  \n",
       "3                                                NaN   Normal       NaN  \n",
       "4                                                NaN   Normal       NaN  "
      ]
     },
     "execution_count": 36,
     "metadata": {},
     "output_type": "execute_result"
    }
   ],
   "source": [
    "set_clean_df = set_df[['set_no', 'name', 'url', \n",
    "                 'theme_group', 'theme', 'subtheme',\n",
    "                 'year', 'piece_cnt', 'minifig_cnt', 'inventory_url', 'minifig_url',\n",
    "                 'price_store', 'price_new', 'price_used', 'rating_value', 'rating_votes_cl', \n",
    "                 'tags', 'set_type', 'packaging']]\n",
    "set_clean_df = set_clean_df.rename(columns={'rating_votes_cl': 'rating_votes'})\n",
    "set_clean_df.head()"
   ]
  },
  {
   "cell_type": "code",
   "execution_count": 37,
   "metadata": {},
   "outputs": [
    {
     "name": "stdout",
     "output_type": "stream",
     "text": [
      "<class 'pandas.core.frame.DataFrame'>\n",
      "RangeIndex: 13754 entries, 0 to 13753\n",
      "Data columns (total 19 columns):\n",
      "set_no           13754 non-null object\n",
      "name             13754 non-null object\n",
      "url              13754 non-null object\n",
      "theme_group      13754 non-null object\n",
      "theme            13754 non-null object\n",
      "subtheme         10040 non-null object\n",
      "year             13754 non-null float64\n",
      "piece_cnt        10858 non-null float64\n",
      "minifig_cnt      13754 non-null float64\n",
      "inventory_url    6958 non-null object\n",
      "minifig_url      6264 non-null object\n",
      "price_store      8378 non-null float64\n",
      "price_new        8516 non-null float64\n",
      "price_used       7015 non-null float64\n",
      "rating_value     6813 non-null float64\n",
      "rating_votes     6813 non-null float64\n",
      "tags             10265 non-null object\n",
      "set_type         13753 non-null object\n",
      "packaging        8919 non-null object\n",
      "dtypes: float64(8), object(11)\n",
      "memory usage: 2.0+ MB\n"
     ]
    }
   ],
   "source": [
    "set_clean_df.info()"
   ]
  },
  {
   "cell_type": "markdown",
   "metadata": {},
   "source": [
    "## Export to csv"
   ]
  },
  {
   "cell_type": "code",
   "execution_count": 38,
   "metadata": {},
   "outputs": [
    {
     "data": {
      "text/plain": [
       "'2.7 mb'"
      ]
     },
     "execution_count": 38,
     "metadata": {},
     "output_type": "execute_result"
    }
   ],
   "source": [
    "save_path = r'data/brickset_set_clean.csv'\n",
    "set_clean_df.to_csv(save_path, index=False)\n",
    "f'{round(os.path.getsize(save_path) /1e6, 2)} mb'"
   ]
  }
 ],
 "metadata": {
  "kernelspec": {
   "display_name": "Python 3",
   "language": "python",
   "name": "python3"
  },
  "language_info": {
   "codemirror_mode": {
    "name": "ipython",
    "version": 3
   },
   "file_extension": ".py",
   "mimetype": "text/x-python",
   "name": "python",
   "nbconvert_exporter": "python",
   "pygments_lexer": "ipython3",
   "version": "3.7.3"
  }
 },
 "nbformat": 4,
 "nbformat_minor": 2
}
