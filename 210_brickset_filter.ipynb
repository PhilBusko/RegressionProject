{
 "cells": [
  {
   "cell_type": "markdown",
   "metadata": {},
   "source": [
    "# Brickset Set Filter\n",
    "\n",
    "Workflow: 2.1    \n",
    "Goal: Start with the full cleaned brickset sets file (brickset_set_clean.csv), and remove sets which are not appropriate for regression analysis (because it would be comparing apples to oranges).     \n",
    "Result: Creates the file brickset_filter.csv."
   ]
  },
  {
   "cell_type": "code",
   "execution_count": 1,
   "metadata": {},
   "outputs": [],
   "source": [
    "import os\n",
    "import pandas as pd\n",
    "import numpy as np\n",
    "import matplotlib.pyplot as plt\n",
    "%matplotlib inline\n",
    "import seaborn as sns\n",
    "import scipy.stats as stats"
   ]
  },
  {
   "cell_type": "code",
   "execution_count": 2,
   "metadata": {},
   "outputs": [],
   "source": [
    "from IPython.core.interactiveshell import InteractiveShell\n",
    "InteractiveShell.ast_node_interactivity = 'all'"
   ]
  },
  {
   "cell_type": "code",
   "execution_count": 3,
   "metadata": {},
   "outputs": [],
   "source": [
    "%load_ext autoreload\n",
    "%autoreload 2         # reload custom py file eveytime a new cell is run\n",
    "\n",
    "import brickset_helper as lh"
   ]
  },
  {
   "cell_type": "markdown",
   "metadata": {},
   "source": [
    "## Import Data"
   ]
  },
  {
   "cell_type": "code",
   "execution_count": 4,
   "metadata": {},
   "outputs": [],
   "source": [
    "SET_FILE = 'data/brickset_set_clean.csv'"
   ]
  },
  {
   "cell_type": "code",
   "execution_count": 5,
   "metadata": {
    "scrolled": false
   },
   "outputs": [
    {
     "data": {
      "text/html": [
       "<div>\n",
       "<style scoped>\n",
       "    .dataframe tbody tr th:only-of-type {\n",
       "        vertical-align: middle;\n",
       "    }\n",
       "\n",
       "    .dataframe tbody tr th {\n",
       "        vertical-align: top;\n",
       "    }\n",
       "\n",
       "    .dataframe thead th {\n",
       "        text-align: right;\n",
       "    }\n",
       "</style>\n",
       "<table border=\"1\" class=\"dataframe\">\n",
       "  <thead>\n",
       "    <tr style=\"text-align: right;\">\n",
       "      <th></th>\n",
       "      <th>set_no</th>\n",
       "      <th>name</th>\n",
       "      <th>url</th>\n",
       "      <th>theme_group</th>\n",
       "      <th>theme</th>\n",
       "      <th>subtheme</th>\n",
       "      <th>year</th>\n",
       "      <th>piece_cnt</th>\n",
       "      <th>minifig_cnt</th>\n",
       "      <th>inventory_url</th>\n",
       "      <th>minifig_url</th>\n",
       "      <th>price_store</th>\n",
       "      <th>price_new</th>\n",
       "      <th>price_used</th>\n",
       "      <th>rating_value</th>\n",
       "      <th>rating_votes</th>\n",
       "      <th>tags</th>\n",
       "      <th>set_type</th>\n",
       "      <th>packaging</th>\n",
       "    </tr>\n",
       "  </thead>\n",
       "  <tbody>\n",
       "    <tr>\n",
       "      <th>0</th>\n",
       "      <td>722-1</td>\n",
       "      <td>Universal Building Set, 7+</td>\n",
       "      <td>/sets/722-1/Universal-Building-Set-7</td>\n",
       "      <td>Basic</td>\n",
       "      <td>Basic</td>\n",
       "      <td>NaN</td>\n",
       "      <td>1980.0</td>\n",
       "      <td>301.0</td>\n",
       "      <td>0.0</td>\n",
       "      <td>NaN</td>\n",
       "      <td>NaN</td>\n",
       "      <td>20.00</td>\n",
       "      <td>200.0</td>\n",
       "      <td>78.0</td>\n",
       "      <td>4.4</td>\n",
       "      <td>5.0</td>\n",
       "      <td>4X4, Aircraft, Articulated Lorry, Boat, Car, C...</td>\n",
       "      <td>Normal</td>\n",
       "      <td>NaN</td>\n",
       "    </tr>\n",
       "    <tr>\n",
       "      <th>1</th>\n",
       "      <td>733-1</td>\n",
       "      <td>Universal Building Set, 7+</td>\n",
       "      <td>/sets/733-1/Universal-Building-Set-7</td>\n",
       "      <td>Basic</td>\n",
       "      <td>Basic</td>\n",
       "      <td>NaN</td>\n",
       "      <td>1980.0</td>\n",
       "      <td>533.0</td>\n",
       "      <td>0.0</td>\n",
       "      <td>NaN</td>\n",
       "      <td>NaN</td>\n",
       "      <td>39.00</td>\n",
       "      <td>566.0</td>\n",
       "      <td>109.0</td>\n",
       "      <td>4.5</td>\n",
       "      <td>2.0</td>\n",
       "      <td>Articulated Lorry, Base, Baseplate, Crane, For...</td>\n",
       "      <td>Normal</td>\n",
       "      <td>NaN</td>\n",
       "    </tr>\n",
       "    <tr>\n",
       "      <th>2</th>\n",
       "      <td>744-1</td>\n",
       "      <td>Universal Building Set with Motor, 7+</td>\n",
       "      <td>/sets/744-1/Universal-Building-Set-with-Motor-7</td>\n",
       "      <td>Basic</td>\n",
       "      <td>Basic</td>\n",
       "      <td>NaN</td>\n",
       "      <td>1980.0</td>\n",
       "      <td>537.0</td>\n",
       "      <td>0.0</td>\n",
       "      <td>NaN</td>\n",
       "      <td>NaN</td>\n",
       "      <td>59.00</td>\n",
       "      <td>252.0</td>\n",
       "      <td>97.0</td>\n",
       "      <td>5.0</td>\n",
       "      <td>2.0</td>\n",
       "      <td>8 Wheel Vehicle, Crane, Electric Motor, Mobile...</td>\n",
       "      <td>Normal</td>\n",
       "      <td>NaN</td>\n",
       "    </tr>\n",
       "    <tr>\n",
       "      <th>3</th>\n",
       "      <td>820-1</td>\n",
       "      <td>Red Plates Parts Pack</td>\n",
       "      <td>/sets/820-1/Red-Plates-Parts-Pack</td>\n",
       "      <td>Basic</td>\n",
       "      <td>Basic</td>\n",
       "      <td>Supplementaries</td>\n",
       "      <td>1980.0</td>\n",
       "      <td>34.0</td>\n",
       "      <td>0.0</td>\n",
       "      <td>NaN</td>\n",
       "      <td>NaN</td>\n",
       "      <td>4.75</td>\n",
       "      <td>NaN</td>\n",
       "      <td>NaN</td>\n",
       "      <td>NaN</td>\n",
       "      <td>NaN</td>\n",
       "      <td>NaN</td>\n",
       "      <td>Normal</td>\n",
       "      <td>NaN</td>\n",
       "    </tr>\n",
       "    <tr>\n",
       "      <th>4</th>\n",
       "      <td>822-1</td>\n",
       "      <td>Blue Plates Parts Pack</td>\n",
       "      <td>/sets/822-1/Blue-Plates-Parts-Pack</td>\n",
       "      <td>Basic</td>\n",
       "      <td>Basic</td>\n",
       "      <td>Supplementaries</td>\n",
       "      <td>1980.0</td>\n",
       "      <td>34.0</td>\n",
       "      <td>0.0</td>\n",
       "      <td>NaN</td>\n",
       "      <td>NaN</td>\n",
       "      <td>4.75</td>\n",
       "      <td>29.0</td>\n",
       "      <td>5.0</td>\n",
       "      <td>NaN</td>\n",
       "      <td>NaN</td>\n",
       "      <td>NaN</td>\n",
       "      <td>Normal</td>\n",
       "      <td>NaN</td>\n",
       "    </tr>\n",
       "  </tbody>\n",
       "</table>\n",
       "</div>"
      ],
      "text/plain": [
       "  set_no                                   name  \\\n",
       "0  722-1             Universal Building Set, 7+   \n",
       "1  733-1             Universal Building Set, 7+   \n",
       "2  744-1  Universal Building Set with Motor, 7+   \n",
       "3  820-1                  Red Plates Parts Pack   \n",
       "4  822-1                 Blue Plates Parts Pack   \n",
       "\n",
       "                                               url theme_group  theme  \\\n",
       "0             /sets/722-1/Universal-Building-Set-7       Basic  Basic   \n",
       "1             /sets/733-1/Universal-Building-Set-7       Basic  Basic   \n",
       "2  /sets/744-1/Universal-Building-Set-with-Motor-7       Basic  Basic   \n",
       "3                /sets/820-1/Red-Plates-Parts-Pack       Basic  Basic   \n",
       "4               /sets/822-1/Blue-Plates-Parts-Pack       Basic  Basic   \n",
       "\n",
       "          subtheme    year  piece_cnt  minifig_cnt inventory_url minifig_url  \\\n",
       "0              NaN  1980.0      301.0          0.0           NaN         NaN   \n",
       "1              NaN  1980.0      533.0          0.0           NaN         NaN   \n",
       "2              NaN  1980.0      537.0          0.0           NaN         NaN   \n",
       "3  Supplementaries  1980.0       34.0          0.0           NaN         NaN   \n",
       "4  Supplementaries  1980.0       34.0          0.0           NaN         NaN   \n",
       "\n",
       "   price_store  price_new  price_used  rating_value  rating_votes  \\\n",
       "0        20.00      200.0        78.0           4.4           5.0   \n",
       "1        39.00      566.0       109.0           4.5           2.0   \n",
       "2        59.00      252.0        97.0           5.0           2.0   \n",
       "3         4.75        NaN         NaN           NaN           NaN   \n",
       "4         4.75       29.0         5.0           NaN           NaN   \n",
       "\n",
       "                                                tags set_type packaging  \n",
       "0  4X4, Aircraft, Articulated Lorry, Boat, Car, C...   Normal       NaN  \n",
       "1  Articulated Lorry, Base, Baseplate, Crane, For...   Normal       NaN  \n",
       "2  8 Wheel Vehicle, Crane, Electric Motor, Mobile...   Normal       NaN  \n",
       "3                                                NaN   Normal       NaN  \n",
       "4                                                NaN   Normal       NaN  "
      ]
     },
     "execution_count": 5,
     "metadata": {},
     "output_type": "execute_result"
    },
    {
     "name": "stdout",
     "output_type": "stream",
     "text": [
      "<class 'pandas.core.frame.DataFrame'>\n",
      "RangeIndex: 13754 entries, 0 to 13753\n",
      "Data columns (total 19 columns):\n",
      "set_no           13754 non-null object\n",
      "name             13754 non-null object\n",
      "url              13754 non-null object\n",
      "theme_group      13754 non-null object\n",
      "theme            13754 non-null object\n",
      "subtheme         10040 non-null object\n",
      "year             13754 non-null float64\n",
      "piece_cnt        10858 non-null float64\n",
      "minifig_cnt      13754 non-null float64\n",
      "inventory_url    6958 non-null object\n",
      "minifig_url      6264 non-null object\n",
      "price_store      8378 non-null float64\n",
      "price_new        8516 non-null float64\n",
      "price_used       7015 non-null float64\n",
      "rating_value     6813 non-null float64\n",
      "rating_votes     6813 non-null float64\n",
      "tags             10265 non-null object\n",
      "set_type         13753 non-null object\n",
      "packaging        8919 non-null object\n",
      "dtypes: float64(8), object(11)\n",
      "memory usage: 2.0+ MB\n"
     ]
    }
   ],
   "source": [
    "set_df = pd.read_csv(SET_FILE)\n",
    "set_df.head()\n",
    "set_df.info()"
   ]
  },
  {
   "cell_type": "code",
   "execution_count": 6,
   "metadata": {},
   "outputs": [
    {
     "data": {
      "text/html": [
       "<div>\n",
       "<style scoped>\n",
       "    .dataframe tbody tr th:only-of-type {\n",
       "        vertical-align: middle;\n",
       "    }\n",
       "\n",
       "    .dataframe tbody tr th {\n",
       "        vertical-align: top;\n",
       "    }\n",
       "\n",
       "    .dataframe thead th {\n",
       "        text-align: right;\n",
       "    }\n",
       "</style>\n",
       "<table border=\"1\" class=\"dataframe\">\n",
       "  <thead>\n",
       "    <tr style=\"text-align: right;\">\n",
       "      <th></th>\n",
       "      <th>set_no</th>\n",
       "      <th>name</th>\n",
       "      <th>theme_group</th>\n",
       "      <th>theme</th>\n",
       "      <th>subtheme</th>\n",
       "      <th>year</th>\n",
       "      <th>piece_cnt</th>\n",
       "      <th>minifig_cnt</th>\n",
       "      <th>price_store</th>\n",
       "      <th>price_new</th>\n",
       "      <th>price_used</th>\n",
       "      <th>rating_value</th>\n",
       "      <th>rating_votes</th>\n",
       "      <th>tags</th>\n",
       "      <th>set_type</th>\n",
       "      <th>packaging</th>\n",
       "    </tr>\n",
       "  </thead>\n",
       "  <tbody>\n",
       "    <tr>\n",
       "      <th>0</th>\n",
       "      <td>722-1</td>\n",
       "      <td>Universal Building Set, 7+</td>\n",
       "      <td>Basic</td>\n",
       "      <td>Basic</td>\n",
       "      <td>NaN</td>\n",
       "      <td>1980.0</td>\n",
       "      <td>301.0</td>\n",
       "      <td>0.0</td>\n",
       "      <td>20.00</td>\n",
       "      <td>200.0</td>\n",
       "      <td>78.0</td>\n",
       "      <td>4.4</td>\n",
       "      <td>5.0</td>\n",
       "      <td>4X4, Aircraft, Articulated Lorry, Boat, Car, C...</td>\n",
       "      <td>Normal</td>\n",
       "      <td>NaN</td>\n",
       "    </tr>\n",
       "    <tr>\n",
       "      <th>1</th>\n",
       "      <td>733-1</td>\n",
       "      <td>Universal Building Set, 7+</td>\n",
       "      <td>Basic</td>\n",
       "      <td>Basic</td>\n",
       "      <td>NaN</td>\n",
       "      <td>1980.0</td>\n",
       "      <td>533.0</td>\n",
       "      <td>0.0</td>\n",
       "      <td>39.00</td>\n",
       "      <td>566.0</td>\n",
       "      <td>109.0</td>\n",
       "      <td>4.5</td>\n",
       "      <td>2.0</td>\n",
       "      <td>Articulated Lorry, Base, Baseplate, Crane, For...</td>\n",
       "      <td>Normal</td>\n",
       "      <td>NaN</td>\n",
       "    </tr>\n",
       "    <tr>\n",
       "      <th>2</th>\n",
       "      <td>744-1</td>\n",
       "      <td>Universal Building Set with Motor, 7+</td>\n",
       "      <td>Basic</td>\n",
       "      <td>Basic</td>\n",
       "      <td>NaN</td>\n",
       "      <td>1980.0</td>\n",
       "      <td>537.0</td>\n",
       "      <td>0.0</td>\n",
       "      <td>59.00</td>\n",
       "      <td>252.0</td>\n",
       "      <td>97.0</td>\n",
       "      <td>5.0</td>\n",
       "      <td>2.0</td>\n",
       "      <td>8 Wheel Vehicle, Crane, Electric Motor, Mobile...</td>\n",
       "      <td>Normal</td>\n",
       "      <td>NaN</td>\n",
       "    </tr>\n",
       "    <tr>\n",
       "      <th>3</th>\n",
       "      <td>820-1</td>\n",
       "      <td>Red Plates Parts Pack</td>\n",
       "      <td>Basic</td>\n",
       "      <td>Basic</td>\n",
       "      <td>Supplementaries</td>\n",
       "      <td>1980.0</td>\n",
       "      <td>34.0</td>\n",
       "      <td>0.0</td>\n",
       "      <td>4.75</td>\n",
       "      <td>NaN</td>\n",
       "      <td>NaN</td>\n",
       "      <td>NaN</td>\n",
       "      <td>NaN</td>\n",
       "      <td>NaN</td>\n",
       "      <td>Normal</td>\n",
       "      <td>NaN</td>\n",
       "    </tr>\n",
       "    <tr>\n",
       "      <th>4</th>\n",
       "      <td>822-1</td>\n",
       "      <td>Blue Plates Parts Pack</td>\n",
       "      <td>Basic</td>\n",
       "      <td>Basic</td>\n",
       "      <td>Supplementaries</td>\n",
       "      <td>1980.0</td>\n",
       "      <td>34.0</td>\n",
       "      <td>0.0</td>\n",
       "      <td>4.75</td>\n",
       "      <td>29.0</td>\n",
       "      <td>5.0</td>\n",
       "      <td>NaN</td>\n",
       "      <td>NaN</td>\n",
       "      <td>NaN</td>\n",
       "      <td>Normal</td>\n",
       "      <td>NaN</td>\n",
       "    </tr>\n",
       "  </tbody>\n",
       "</table>\n",
       "</div>"
      ],
      "text/plain": [
       "  set_no                                   name theme_group  theme  \\\n",
       "0  722-1             Universal Building Set, 7+       Basic  Basic   \n",
       "1  733-1             Universal Building Set, 7+       Basic  Basic   \n",
       "2  744-1  Universal Building Set with Motor, 7+       Basic  Basic   \n",
       "3  820-1                  Red Plates Parts Pack       Basic  Basic   \n",
       "4  822-1                 Blue Plates Parts Pack       Basic  Basic   \n",
       "\n",
       "          subtheme    year  piece_cnt  minifig_cnt  price_store  price_new  \\\n",
       "0              NaN  1980.0      301.0          0.0        20.00      200.0   \n",
       "1              NaN  1980.0      533.0          0.0        39.00      566.0   \n",
       "2              NaN  1980.0      537.0          0.0        59.00      252.0   \n",
       "3  Supplementaries  1980.0       34.0          0.0         4.75        NaN   \n",
       "4  Supplementaries  1980.0       34.0          0.0         4.75       29.0   \n",
       "\n",
       "   price_used  rating_value  rating_votes  \\\n",
       "0        78.0           4.4           5.0   \n",
       "1       109.0           4.5           2.0   \n",
       "2        97.0           5.0           2.0   \n",
       "3         NaN           NaN           NaN   \n",
       "4         5.0           NaN           NaN   \n",
       "\n",
       "                                                tags set_type packaging  \n",
       "0  4X4, Aircraft, Articulated Lorry, Boat, Car, C...   Normal       NaN  \n",
       "1  Articulated Lorry, Base, Baseplate, Crane, For...   Normal       NaN  \n",
       "2  8 Wheel Vehicle, Crane, Electric Motor, Mobile...   Normal       NaN  \n",
       "3                                                NaN   Normal       NaN  \n",
       "4                                                NaN   Normal       NaN  "
      ]
     },
     "execution_count": 6,
     "metadata": {},
     "output_type": "execute_result"
    }
   ],
   "source": [
    "# remove columns that definitely won't be used downstream\n",
    "\n",
    "set_df = set_df[['set_no', 'name', 'theme_group', 'theme', 'subtheme', 'year', 'piece_cnt', 'minifig_cnt', \n",
    "                'price_store', 'price_new', 'price_used', 'rating_value', 'rating_votes', \n",
    "                'tags', 'set_type', 'packaging']]\n",
    "set_df.head()"
   ]
  },
  {
   "cell_type": "markdown",
   "metadata": {},
   "source": [
    "## Filter based on different columns"
   ]
  },
  {
   "cell_type": "code",
   "execution_count": 7,
   "metadata": {
    "scrolled": true
   },
   "outputs": [
    {
     "data": {
      "text/plain": [
       "(7117, 16)"
      ]
     },
     "execution_count": 7,
     "metadata": {},
     "output_type": "execute_result"
    }
   ],
   "source": [
    "# filter by group theme to get rid of clothing, books, basic-size sets, etc\n",
    "\n",
    "remove_group_ls = ['Basic', 'Educational', 'Miscellaneous', 'Pre-school', 'Vintage themes']\n",
    "set_df = set_df.loc[set_df['theme_group'].isin(remove_group_ls)==False]\n",
    "set_df.shape"
   ]
  },
  {
   "cell_type": "code",
   "execution_count": 8,
   "metadata": {},
   "outputs": [
    {
     "data": {
      "text/plain": [
       "(5397, 16)"
      ]
     },
     "execution_count": 8,
     "metadata": {},
     "output_type": "execute_result"
    }
   ],
   "source": [
    "# also remove the groups that have different piece size ratio (not minifig scale)\n",
    "\n",
    "remove_group_ls = ['Constraction', 'Girls', 'Junior', 'Technical']\n",
    "set_df = set_df.loc[set_df['theme_group'].isin(remove_group_ls)==False]\n",
    "set_df.shape"
   ]
  },
  {
   "cell_type": "code",
   "execution_count": 9,
   "metadata": {},
   "outputs": [],
   "source": [
    "# remove sets that aren't minifig scale\n",
    "\n",
    "#set_df = set_df.loc[set_df['minifig_cnt']>=1]\n",
    "#set_df.shape\n",
    "\n",
    "# this cuts out 1700 sets\n",
    "# it's actually ok to keep them, the piece-size ratio is comparable with minifig-scale (unlike technic, basic, etc)"
   ]
  },
  {
   "cell_type": "code",
   "execution_count": 10,
   "metadata": {},
   "outputs": [
    {
     "data": {
      "text/plain": [
       "(4686, 16)"
      ]
     },
     "execution_count": 10,
     "metadata": {},
     "output_type": "execute_result"
    }
   ],
   "source": [
    "# keep only the normal set types (collections are redundant with included sets)\n",
    "\n",
    "set_df = set_df.loc[set_df['set_type']=='Normal']\n",
    "set_df.shape"
   ]
  },
  {
   "cell_type": "code",
   "execution_count": 11,
   "metadata": {},
   "outputs": [
    {
     "data": {
      "text/plain": [
       "(3595, 16)"
      ]
     },
     "execution_count": 11,
     "metadata": {},
     "output_type": "execute_result"
    }
   ],
   "source": [
    "# keep only the sets that come in box (polybag, blister pack, bucket sets are different from boxes)\n",
    "\n",
    "set_df = set_df.loc[set_df['packaging']=='Box']\n",
    "set_df.shape"
   ]
  },
  {
   "cell_type": "code",
   "execution_count": 12,
   "metadata": {
    "scrolled": true
   },
   "outputs": [
    {
     "name": "stdout",
     "output_type": "stream",
     "text": [
      "<class 'pandas.core.frame.DataFrame'>\n",
      "Int64Index: 3595 entries, 43 to 13605\n",
      "Data columns (total 13 columns):\n",
      "set_no          3595 non-null object\n",
      "name            3595 non-null object\n",
      "theme_group     3595 non-null object\n",
      "theme           3595 non-null object\n",
      "subtheme        2985 non-null object\n",
      "year            3595 non-null float64\n",
      "piece_cnt       3591 non-null float64\n",
      "minifig_cnt     3595 non-null float64\n",
      "price_store     3122 non-null float64\n",
      "price_new       3474 non-null float64\n",
      "price_used      3405 non-null float64\n",
      "rating_value    3262 non-null float64\n",
      "rating_votes    3262 non-null float64\n",
      "dtypes: float64(8), object(5)\n",
      "memory usage: 393.2+ KB\n"
     ]
    }
   ],
   "source": [
    "# remove columns that won't be used for analysis\n",
    "\n",
    "set_df = set_df[['set_no', 'name', 'theme_group', 'theme', 'subtheme', 'year', 'piece_cnt', 'minifig_cnt', \n",
    "                'price_store', 'price_new', 'price_used', 'rating_value', 'rating_votes']]\n",
    "set_df.info()"
   ]
  },
  {
   "cell_type": "code",
   "execution_count": 13,
   "metadata": {},
   "outputs": [
    {
     "data": {
      "text/plain": [
       "Modern day          1090\n",
       "Licensed            1042\n",
       "Action/Adventure     642\n",
       "Historical           346\n",
       "Model making         314\n",
       "Racing               161\n",
       "Name: theme_group, dtype: int64"
      ]
     },
     "execution_count": 13,
     "metadata": {},
     "output_type": "execute_result"
    }
   ],
   "source": [
    "# spot check\n",
    "\n",
    "set_df['theme_group'].value_counts()"
   ]
  },
  {
   "cell_type": "code",
   "execution_count": 14,
   "metadata": {},
   "outputs": [],
   "source": [
    "#set_df['theme'].value_counts()"
   ]
  },
  {
   "cell_type": "markdown",
   "metadata": {},
   "source": [
    "## Export to csv"
   ]
  },
  {
   "cell_type": "code",
   "execution_count": 15,
   "metadata": {},
   "outputs": [
    {
     "data": {
      "text/plain": [
       "'0.34 mb'"
      ]
     },
     "execution_count": 15,
     "metadata": {},
     "output_type": "execute_result"
    }
   ],
   "source": [
    "save_path = r'data/brickset_filter.csv'\n",
    "set_df.to_csv(save_path, index=False)\n",
    "f'{round(os.path.getsize(save_path) /1e6, 2)} mb'"
   ]
  },
  {
   "cell_type": "code",
   "execution_count": null,
   "metadata": {},
   "outputs": [],
   "source": []
  }
 ],
 "metadata": {
  "kernelspec": {
   "display_name": "Python 3",
   "language": "python",
   "name": "python3"
  },
  "language_info": {
   "codemirror_mode": {
    "name": "ipython",
    "version": 3
   },
   "file_extension": ".py",
   "mimetype": "text/x-python",
   "name": "python",
   "nbconvert_exporter": "python",
   "pygments_lexer": "ipython3",
   "version": "3.7.3"
  }
 },
 "nbformat": 4,
 "nbformat_minor": 2
}
