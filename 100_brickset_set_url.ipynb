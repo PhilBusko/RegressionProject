{
 "cells": [
  {
   "cell_type": "markdown",
   "metadata": {},
   "source": [
    "# Brickset Sets URL\n",
    "\n",
    "Workflow: 1   \n",
    "Goal: Make csv file with set url, traversing the site based on year.      "
   ]
  },
  {
   "cell_type": "code",
   "execution_count": 1,
   "metadata": {},
   "outputs": [],
   "source": [
    "import os\n",
    "import pandas as pd"
   ]
  },
  {
   "cell_type": "code",
   "execution_count": 2,
   "metadata": {},
   "outputs": [],
   "source": [
    "from IPython.core.interactiveshell import InteractiveShell\n",
    "InteractiveShell.ast_node_interactivity = \"all\"\n",
    "pd.set_option('display.max_colwidth', -1)"
   ]
  },
  {
   "cell_type": "code",
   "execution_count": 3,
   "metadata": {},
   "outputs": [],
   "source": [
    "%load_ext autoreload\n",
    "%autoreload 2\n",
    "\n",
    "import lego_helper as lh"
   ]
  },
  {
   "cell_type": "markdown",
   "metadata": {},
   "source": [
    "## Scrape Data By Year"
   ]
  },
  {
   "cell_type": "code",
   "execution_count": 4,
   "metadata": {
    "scrolled": true
   },
   "outputs": [
    {
     "name": "stdout",
     "output_type": "stream",
     "text": [
      "year: 2017\n",
      "page no: 10\n",
      "page no: 20\n",
      "page no: 30\n",
      "pagination stopped at: 34\n"
     ]
    },
    {
     "data": {
      "text/plain": [
       "[{'set_no': '10255',\n",
       "  'name': 'Assembly Square',\n",
       "  'url': '/sets/10255-1/Assembly-Square'},\n",
       " {'set_no': '10256', 'name': 'Taj Mahal', 'url': '/sets/10256-1/Taj-Mahal'}]"
      ]
     },
     "execution_count": 4,
     "metadata": {},
     "output_type": "execute_result"
    }
   ],
   "source": [
    "set_ls = lh.get_year('2017')\n",
    "set_ls[:2]"
   ]
  },
  {
   "cell_type": "code",
   "execution_count": 5,
   "metadata": {
    "scrolled": true
   },
   "outputs": [
    {
     "data": {
      "text/html": [
       "<div>\n",
       "<style scoped>\n",
       "    .dataframe tbody tr th:only-of-type {\n",
       "        vertical-align: middle;\n",
       "    }\n",
       "\n",
       "    .dataframe tbody tr th {\n",
       "        vertical-align: top;\n",
       "    }\n",
       "\n",
       "    .dataframe thead th {\n",
       "        text-align: right;\n",
       "    }\n",
       "</style>\n",
       "<table border=\"1\" class=\"dataframe\">\n",
       "  <thead>\n",
       "    <tr style=\"text-align: right;\">\n",
       "      <th></th>\n",
       "      <th>set_no</th>\n",
       "      <th>name</th>\n",
       "      <th>url</th>\n",
       "    </tr>\n",
       "  </thead>\n",
       "  <tbody>\n",
       "    <tr>\n",
       "      <th>0</th>\n",
       "      <td>10255</td>\n",
       "      <td>Assembly Square</td>\n",
       "      <td>/sets/10255-1/Assembly-Square</td>\n",
       "    </tr>\n",
       "    <tr>\n",
       "      <th>1</th>\n",
       "      <td>10256</td>\n",
       "      <td>Taj Mahal</td>\n",
       "      <td>/sets/10256-1/Taj-Mahal</td>\n",
       "    </tr>\n",
       "    <tr>\n",
       "      <th>2</th>\n",
       "      <td>10257</td>\n",
       "      <td>Carousel</td>\n",
       "      <td>/sets/10257-1/Carousel</td>\n",
       "    </tr>\n",
       "    <tr>\n",
       "      <th>3</th>\n",
       "      <td>10258</td>\n",
       "      <td>London Bus</td>\n",
       "      <td>/sets/10258-1/London-Bus</td>\n",
       "    </tr>\n",
       "    <tr>\n",
       "      <th>4</th>\n",
       "      <td>10259</td>\n",
       "      <td>Winter Village Station</td>\n",
       "      <td>/sets/10259-1/Winter-Village-Station</td>\n",
       "    </tr>\n",
       "  </tbody>\n",
       "</table>\n",
       "</div>"
      ],
      "text/plain": [
       "  set_no                    name                                   url\n",
       "0  10255  Assembly Square         /sets/10255-1/Assembly-Square       \n",
       "1  10256  Taj Mahal               /sets/10256-1/Taj-Mahal             \n",
       "2  10257  Carousel                /sets/10257-1/Carousel              \n",
       "3  10258  London Bus              /sets/10258-1/London-Bus            \n",
       "4  10259  Winter Village Station  /sets/10259-1/Winter-Village-Station"
      ]
     },
     "execution_count": 5,
     "metadata": {},
     "output_type": "execute_result"
    },
    {
     "name": "stdout",
     "output_type": "stream",
     "text": [
      "<class 'pandas.core.frame.DataFrame'>\n",
      "RangeIndex: 839 entries, 0 to 838\n",
      "Data columns (total 3 columns):\n",
      "set_no    839 non-null object\n",
      "name      839 non-null object\n",
      "url       839 non-null object\n",
      "dtypes: object(3)\n",
      "memory usage: 19.7+ KB\n"
     ]
    }
   ],
   "source": [
    "set_df = pd.DataFrame(set_ls)\n",
    "set_df = set_df[['set_no', 'name', 'url']]\n",
    "set_df.head()\n",
    "set_df.info()"
   ]
  },
  {
   "cell_type": "code",
   "execution_count": 6,
   "metadata": {},
   "outputs": [
    {
     "data": {
      "text/plain": [
       "'0.05 mb'"
      ]
     },
     "execution_count": 6,
     "metadata": {},
     "output_type": "execute_result"
    }
   ],
   "source": [
    "save_path = r'data/set_url_2017.csv'\n",
    "set_df.to_csv(save_path, index=False)\n",
    "f'{round(os.path.getsize(save_path) /1e6, 2)} mb'"
   ]
  },
  {
   "cell_type": "markdown",
   "metadata": {},
   "source": [
    "## Scrape All Years"
   ]
  },
  {
   "cell_type": "code",
   "execution_count": 7,
   "metadata": {},
   "outputs": [
    {
     "name": "stdout",
     "output_type": "stream",
     "text": [
      "year: 1980\n",
      "pagination stopped at: 5\n",
      "year: 1981\n",
      "pagination stopped at: 3\n",
      "year: 1982\n",
      "pagination stopped at: 3\n",
      "year: 1983\n",
      "pagination stopped at: 4\n",
      "year: 1984\n",
      "pagination stopped at: 4\n",
      "year: 1985\n",
      "pagination stopped at: 6\n",
      "year: 1986\n",
      "pagination stopped at: 6\n",
      "year: 1987\n",
      "pagination stopped at: 8\n",
      "year: 1988\n",
      "pagination stopped at: 3\n",
      "year: 1989\n",
      "pagination stopped at: 6\n",
      "year: 1990\n",
      "pagination stopped at: 6\n",
      "year: 1991\n",
      "pagination stopped at: 6\n",
      "year: 1992\n",
      "pagination stopped at: 5\n",
      "year: 1993\n",
      "pagination stopped at: 7\n",
      "year: 1994\n",
      "pagination stopped at: 6\n",
      "year: 1995\n",
      "pagination stopped at: 7\n",
      "year: 1996\n",
      "page no: 10\n",
      "pagination stopped at: 9\n",
      "year: 1997\n",
      "page no: 10\n",
      "pagination stopped at: 11\n",
      "year: 1998\n",
      "page no: 10\n",
      "pagination stopped at: 15\n",
      "year: 1999\n",
      "page no: 10\n",
      "pagination stopped at: 14\n",
      "year: 2000\n",
      "page no: 10\n",
      "pagination stopped at: 16\n",
      "year: 2001\n",
      "page no: 10\n",
      "pagination stopped at: 17\n",
      "year: 2002\n",
      "page no: 10\n",
      "pagination stopped at: 18\n",
      "year: 2003\n",
      "page no: 10\n",
      "pagination stopped at: 18\n",
      "year: 2004\n",
      "page no: 10\n",
      "pagination stopped at: 17\n",
      "year: 2005\n",
      "page no: 10\n",
      "pagination stopped at: 16\n",
      "year: 2006\n",
      "page no: 10\n",
      "page no: 20\n",
      "pagination stopped at: 19\n",
      "year: 2007\n",
      "page no: 10\n",
      "pagination stopped at: 18\n",
      "year: 2008\n",
      "page no: 10\n",
      "pagination stopped at: 18\n",
      "year: 2009\n",
      "page no: 10\n",
      "page no: 20\n",
      "pagination stopped at: 20\n",
      "year: 2010\n",
      "page no: 10\n",
      "page no: 20\n",
      "pagination stopped at: 21\n",
      "year: 2011\n",
      "page no: 10\n",
      "page no: 20\n",
      "pagination stopped at: 24\n",
      "year: 2012\n",
      "page no: 10\n",
      "page no: 20\n",
      "pagination stopped at: 28\n",
      "year: 2013\n",
      "page no: 10\n",
      "page no: 20\n",
      "page no: 30\n",
      "pagination stopped at: 29\n",
      "year: 2014\n",
      "page no: 10\n",
      "page no: 20\n",
      "page no: 30\n",
      "pagination stopped at: 30\n",
      "year: 2015\n",
      "page no: 10\n",
      "page no: 20\n",
      "page no: 30\n",
      "pagination stopped at: 32\n",
      "year: 2016\n",
      "page no: 10\n",
      "page no: 20\n",
      "page no: 30\n",
      "pagination stopped at: 34\n",
      "year: 2017\n",
      "page no: 10\n",
      "page no: 20\n",
      "page no: 30\n",
      "pagination stopped at: 34\n",
      "year: 2018\n",
      "page no: 10\n",
      "page no: 20\n",
      "page no: 30\n",
      "pagination stopped at: 32\n"
     ]
    },
    {
     "data": {
      "text/plain": [
       "[{'set_no': '722',\n",
       "  'name': 'Universal Building Set, 7+',\n",
       "  'url': '/sets/722-1/Universal-Building-Set-7'},\n",
       " {'set_no': '733',\n",
       "  'name': 'Universal Building Set, 7+',\n",
       "  'url': '/sets/733-1/Universal-Building-Set-7'}]"
      ]
     },
     "execution_count": 7,
     "metadata": {},
     "output_type": "execute_result"
    }
   ],
   "source": [
    "cyear = 1980\n",
    "set_ls = []\n",
    "\n",
    "while cyear <= 2018:\n",
    "    cset_ls = lh.get_year(str(cyear))\n",
    "    set_ls += cset_ls\n",
    "    cyear += 1\n",
    "\n",
    "set_ls[:2]"
   ]
  },
  {
   "cell_type": "code",
   "execution_count": 8,
   "metadata": {},
   "outputs": [
    {
     "data": {
      "text/html": [
       "<div>\n",
       "<style scoped>\n",
       "    .dataframe tbody tr th:only-of-type {\n",
       "        vertical-align: middle;\n",
       "    }\n",
       "\n",
       "    .dataframe tbody tr th {\n",
       "        vertical-align: top;\n",
       "    }\n",
       "\n",
       "    .dataframe thead th {\n",
       "        text-align: right;\n",
       "    }\n",
       "</style>\n",
       "<table border=\"1\" class=\"dataframe\">\n",
       "  <thead>\n",
       "    <tr style=\"text-align: right;\">\n",
       "      <th></th>\n",
       "      <th>set_no</th>\n",
       "      <th>name</th>\n",
       "      <th>url</th>\n",
       "    </tr>\n",
       "  </thead>\n",
       "  <tbody>\n",
       "    <tr>\n",
       "      <th>0</th>\n",
       "      <td>722</td>\n",
       "      <td>Universal Building Set, 7+</td>\n",
       "      <td>/sets/722-1/Universal-Building-Set-7</td>\n",
       "    </tr>\n",
       "    <tr>\n",
       "      <th>1</th>\n",
       "      <td>733</td>\n",
       "      <td>Universal Building Set, 7+</td>\n",
       "      <td>/sets/733-1/Universal-Building-Set-7</td>\n",
       "    </tr>\n",
       "    <tr>\n",
       "      <th>2</th>\n",
       "      <td>744</td>\n",
       "      <td>Universal Building Set with Motor, 7+</td>\n",
       "      <td>/sets/744-1/Universal-Building-Set-with-Motor-7</td>\n",
       "    </tr>\n",
       "    <tr>\n",
       "      <th>3</th>\n",
       "      <td>820</td>\n",
       "      <td>Red Plates Parts Pack</td>\n",
       "      <td>/sets/820-1/Red-Plates-Parts-Pack</td>\n",
       "    </tr>\n",
       "    <tr>\n",
       "      <th>4</th>\n",
       "      <td>822</td>\n",
       "      <td>Blue Plates Parts Pack</td>\n",
       "      <td>/sets/822-1/Blue-Plates-Parts-Pack</td>\n",
       "    </tr>\n",
       "  </tbody>\n",
       "</table>\n",
       "</div>"
      ],
      "text/plain": [
       "  set_no                                   name  \\\n",
       "0  722    Universal Building Set, 7+              \n",
       "1  733    Universal Building Set, 7+              \n",
       "2  744    Universal Building Set with Motor, 7+   \n",
       "3  820    Red Plates Parts Pack                   \n",
       "4  822    Blue Plates Parts Pack                  \n",
       "\n",
       "                                               url  \n",
       "0  /sets/722-1/Universal-Building-Set-7             \n",
       "1  /sets/733-1/Universal-Building-Set-7             \n",
       "2  /sets/744-1/Universal-Building-Set-with-Motor-7  \n",
       "3  /sets/820-1/Red-Plates-Parts-Pack                \n",
       "4  /sets/822-1/Blue-Plates-Parts-Pack               "
      ]
     },
     "execution_count": 8,
     "metadata": {},
     "output_type": "execute_result"
    },
    {
     "name": "stdout",
     "output_type": "stream",
     "text": [
      "<class 'pandas.core.frame.DataFrame'>\n",
      "RangeIndex: 13899 entries, 0 to 13898\n",
      "Data columns (total 3 columns):\n",
      "set_no    13899 non-null object\n",
      "name      13899 non-null object\n",
      "url       13899 non-null object\n",
      "dtypes: object(3)\n",
      "memory usage: 325.8+ KB\n"
     ]
    }
   ],
   "source": [
    "set_df = pd.DataFrame(set_ls)\n",
    "set_df = set_df[['set_no', 'name', 'url']]\n",
    "set_df.head()\n",
    "set_df.info()"
   ]
  },
  {
   "cell_type": "code",
   "execution_count": 9,
   "metadata": {},
   "outputs": [
    {
     "data": {
      "text/plain": [
       "'0.8 mb'"
      ]
     },
     "execution_count": 9,
     "metadata": {},
     "output_type": "execute_result"
    }
   ],
   "source": [
    "save_path = r'data/brickset_set_url.csv'\n",
    "set_df.to_csv(save_path, index=False)\n",
    "f'{round(os.path.getsize(save_path) /1e6, 2)} mb'"
   ]
  }
 ],
 "metadata": {
  "kernelspec": {
   "display_name": "Python 3",
   "language": "python",
   "name": "python3"
  },
  "language_info": {
   "codemirror_mode": {
    "name": "ipython",
    "version": 3
   },
   "file_extension": ".py",
   "mimetype": "text/x-python",
   "name": "python",
   "nbconvert_exporter": "python",
   "pygments_lexer": "ipython3",
   "version": "3.7.5"
  }
 },
 "nbformat": 4,
 "nbformat_minor": 2
}
