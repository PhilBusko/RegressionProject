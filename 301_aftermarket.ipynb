{
 "cells": [
  {
   "cell_type": "markdown",
   "metadata": {},
   "source": [
    "# After-Market Feature Engineering\n",
    "\n",
    "Goal: Create an after-market price feature."
   ]
  },
  {
   "cell_type": "code",
   "execution_count": 1,
   "metadata": {},
   "outputs": [],
   "source": [
    "import os\n",
    "import pandas as pd\n",
    "import numpy as np\n",
    "import matplotlib.pyplot as plt\n",
    "%matplotlib inline\n",
    "import seaborn as sns"
   ]
  },
  {
   "cell_type": "code",
   "execution_count": 2,
   "metadata": {},
   "outputs": [],
   "source": [
    "from IPython.core.interactiveshell import InteractiveShell\n",
    "InteractiveShell.ast_node_interactivity = 'all'"
   ]
  },
  {
   "cell_type": "code",
   "execution_count": 3,
   "metadata": {},
   "outputs": [],
   "source": [
    "%load_ext autoreload\n",
    "%autoreload 2         # reload custom py file eveytime a new cell is run\n",
    "\n",
    "import lego_helper as lh"
   ]
  },
  {
   "cell_type": "markdown",
   "metadata": {},
   "source": [
    "## Import Data"
   ]
  },
  {
   "cell_type": "code",
   "execution_count": 4,
   "metadata": {},
   "outputs": [],
   "source": [
    "FINAL_FILE = 'data/brickset_final.csv'"
   ]
  },
  {
   "cell_type": "code",
   "execution_count": 5,
   "metadata": {
    "scrolled": false
   },
   "outputs": [
    {
     "data": {
      "text/html": [
       "<div>\n",
       "<style scoped>\n",
       "    .dataframe tbody tr th:only-of-type {\n",
       "        vertical-align: middle;\n",
       "    }\n",
       "\n",
       "    .dataframe tbody tr th {\n",
       "        vertical-align: top;\n",
       "    }\n",
       "\n",
       "    .dataframe thead th {\n",
       "        text-align: right;\n",
       "    }\n",
       "</style>\n",
       "<table border=\"1\" class=\"dataframe\">\n",
       "  <thead>\n",
       "    <tr style=\"text-align: right;\">\n",
       "      <th></th>\n",
       "      <th>set_no</th>\n",
       "      <th>name</th>\n",
       "      <th>theme_group</th>\n",
       "      <th>theme</th>\n",
       "      <th>subtheme</th>\n",
       "      <th>year</th>\n",
       "      <th>piece_cnt</th>\n",
       "      <th>minifig_cnt</th>\n",
       "      <th>price_store</th>\n",
       "      <th>price_new</th>\n",
       "      <th>price_used</th>\n",
       "      <th>rating_value</th>\n",
       "      <th>rating_votes</th>\n",
       "      <th>number_parts</th>\n",
       "      <th>total_parts</th>\n",
       "      <th>number_colors</th>\n",
       "      <th>1st_color</th>\n",
       "      <th>2nd_color</th>\n",
       "    </tr>\n",
       "  </thead>\n",
       "  <tbody>\n",
       "    <tr>\n",
       "      <th>0</th>\n",
       "      <td>1591-1</td>\n",
       "      <td>Danone Delivery Truck</td>\n",
       "      <td>Modern day</td>\n",
       "      <td>Town</td>\n",
       "      <td>Special</td>\n",
       "      <td>1980.0</td>\n",
       "      <td>40.0</td>\n",
       "      <td>0.0</td>\n",
       "      <td>NaN</td>\n",
       "      <td>129.0</td>\n",
       "      <td>28.0</td>\n",
       "      <td>NaN</td>\n",
       "      <td>NaN</td>\n",
       "      <td>19</td>\n",
       "      <td>40</td>\n",
       "      <td>4</td>\n",
       "      <td>White</td>\n",
       "      <td>Blue</td>\n",
       "    </tr>\n",
       "    <tr>\n",
       "      <th>1</th>\n",
       "      <td>1592-1</td>\n",
       "      <td>Town Square - Castle Scene</td>\n",
       "      <td>Modern day</td>\n",
       "      <td>Town</td>\n",
       "      <td>Classic</td>\n",
       "      <td>1980.0</td>\n",
       "      <td>471.0</td>\n",
       "      <td>11.0</td>\n",
       "      <td>NaN</td>\n",
       "      <td>1168.0</td>\n",
       "      <td>235.0</td>\n",
       "      <td>4.8</td>\n",
       "      <td>4.0</td>\n",
       "      <td>133</td>\n",
       "      <td>495</td>\n",
       "      <td>10</td>\n",
       "      <td>Black</td>\n",
       "      <td>Yellow</td>\n",
       "    </tr>\n",
       "    <tr>\n",
       "      <th>2</th>\n",
       "      <td>1651-2</td>\n",
       "      <td>Maersk Line Container Lorry</td>\n",
       "      <td>Modern day</td>\n",
       "      <td>Town</td>\n",
       "      <td>Special</td>\n",
       "      <td>1980.0</td>\n",
       "      <td>305.0</td>\n",
       "      <td>1.0</td>\n",
       "      <td>NaN</td>\n",
       "      <td>NaN</td>\n",
       "      <td>444.0</td>\n",
       "      <td>5.0</td>\n",
       "      <td>1.0</td>\n",
       "      <td>66</td>\n",
       "      <td>305</td>\n",
       "      <td>9</td>\n",
       "      <td>Maersk Blue</td>\n",
       "      <td>Light Gray</td>\n",
       "    </tr>\n",
       "    <tr>\n",
       "      <th>3</th>\n",
       "      <td>6305-1</td>\n",
       "      <td>Trees and Flowers</td>\n",
       "      <td>Modern day</td>\n",
       "      <td>Town</td>\n",
       "      <td>Accessories</td>\n",
       "      <td>1980.0</td>\n",
       "      <td>12.0</td>\n",
       "      <td>0.0</td>\n",
       "      <td>3.75</td>\n",
       "      <td>28.0</td>\n",
       "      <td>10.0</td>\n",
       "      <td>4.3</td>\n",
       "      <td>4.0</td>\n",
       "      <td>6</td>\n",
       "      <td>24</td>\n",
       "      <td>4</td>\n",
       "      <td>Green</td>\n",
       "      <td>Red</td>\n",
       "    </tr>\n",
       "    <tr>\n",
       "      <th>4</th>\n",
       "      <td>6306-1</td>\n",
       "      <td>Road Signs</td>\n",
       "      <td>Modern day</td>\n",
       "      <td>Town</td>\n",
       "      <td>Accessories</td>\n",
       "      <td>1980.0</td>\n",
       "      <td>12.0</td>\n",
       "      <td>0.0</td>\n",
       "      <td>2.50</td>\n",
       "      <td>49.0</td>\n",
       "      <td>13.0</td>\n",
       "      <td>4.0</td>\n",
       "      <td>3.0</td>\n",
       "      <td>10</td>\n",
       "      <td>12</td>\n",
       "      <td>1</td>\n",
       "      <td>White</td>\n",
       "      <td>White</td>\n",
       "    </tr>\n",
       "  </tbody>\n",
       "</table>\n",
       "</div>"
      ],
      "text/plain": [
       "   set_no                         name theme_group theme     subtheme    year  \\\n",
       "0  1591-1        Danone Delivery Truck  Modern day  Town      Special  1980.0   \n",
       "1  1592-1   Town Square - Castle Scene  Modern day  Town      Classic  1980.0   \n",
       "2  1651-2  Maersk Line Container Lorry  Modern day  Town      Special  1980.0   \n",
       "3  6305-1            Trees and Flowers  Modern day  Town  Accessories  1980.0   \n",
       "4  6306-1                   Road Signs  Modern day  Town  Accessories  1980.0   \n",
       "\n",
       "   piece_cnt  minifig_cnt  price_store  price_new  price_used  rating_value  \\\n",
       "0       40.0          0.0          NaN      129.0        28.0           NaN   \n",
       "1      471.0         11.0          NaN     1168.0       235.0           4.8   \n",
       "2      305.0          1.0          NaN        NaN       444.0           5.0   \n",
       "3       12.0          0.0         3.75       28.0        10.0           4.3   \n",
       "4       12.0          0.0         2.50       49.0        13.0           4.0   \n",
       "\n",
       "   rating_votes  number_parts  total_parts  number_colors    1st_color  \\\n",
       "0           NaN            19           40              4        White   \n",
       "1           4.0           133          495             10        Black   \n",
       "2           1.0            66          305              9  Maersk Blue   \n",
       "3           4.0             6           24              4        Green   \n",
       "4           3.0            10           12              1        White   \n",
       "\n",
       "    2nd_color  \n",
       "0        Blue  \n",
       "1      Yellow  \n",
       "2  Light Gray  \n",
       "3         Red  \n",
       "4       White  "
      ]
     },
     "execution_count": 5,
     "metadata": {},
     "output_type": "execute_result"
    },
    {
     "name": "stdout",
     "output_type": "stream",
     "text": [
      "<class 'pandas.core.frame.DataFrame'>\n",
      "RangeIndex: 3213 entries, 0 to 3212\n",
      "Data columns (total 18 columns):\n",
      "set_no           3213 non-null object\n",
      "name             3213 non-null object\n",
      "theme_group      3213 non-null object\n",
      "theme            3213 non-null object\n",
      "subtheme         2667 non-null object\n",
      "year             3213 non-null float64\n",
      "piece_cnt        3212 non-null float64\n",
      "minifig_cnt      3213 non-null float64\n",
      "price_store      2762 non-null float64\n",
      "price_new        3098 non-null float64\n",
      "price_used       3140 non-null float64\n",
      "rating_value     3001 non-null float64\n",
      "rating_votes     3001 non-null float64\n",
      "number_parts     3213 non-null int64\n",
      "total_parts      3213 non-null int64\n",
      "number_colors    3213 non-null int64\n",
      "1st_color        3213 non-null object\n",
      "2nd_color        3213 non-null object\n",
      "dtypes: float64(8), int64(3), object(7)\n",
      "memory usage: 451.9+ KB\n"
     ]
    }
   ],
   "source": [
    "set_df = pd.read_csv(FINAL_FILE)\n",
    "set_df.head()\n",
    "set_df.info()"
   ]
  },
  {
   "cell_type": "markdown",
   "metadata": {},
   "source": [
    "## Investigate Surviving Sets"
   ]
  },
  {
   "cell_type": "code",
   "execution_count": 6,
   "metadata": {
    "scrolled": true
   },
   "outputs": [
    {
     "data": {
      "text/plain": [
       "Modern day          1027\n",
       "Licensed             816\n",
       "Action/Adventure     594\n",
       "Historical           337\n",
       "Model making         279\n",
       "Racing               160\n",
       "Name: theme_group, dtype: int64"
      ]
     },
     "execution_count": 6,
     "metadata": {},
     "output_type": "execute_result"
    }
   ],
   "source": [
    "set_df['theme_group'].value_counts()"
   ]
  },
  {
   "cell_type": "code",
   "execution_count": 7,
   "metadata": {},
   "outputs": [
    {
     "data": {
      "text/plain": [
       "(70,)"
      ]
     },
     "execution_count": 7,
     "metadata": {},
     "output_type": "execute_result"
    }
   ],
   "source": [
    "# there are too many themes, use the groups instead\n",
    "\n",
    "set_df['theme'].value_counts().shape"
   ]
  },
  {
   "cell_type": "code",
   "execution_count": 8,
   "metadata": {},
   "outputs": [],
   "source": [
    "InteractiveShell.ast_node_interactivity = 'last'"
   ]
  },
  {
   "cell_type": "code",
   "execution_count": 9,
   "metadata": {},
   "outputs": [
    {
     "data": {
      "image/png": "[encoded data removed]",
      "text/plain": [
       "<Figure size 1008x432 with 1 Axes>"
      ]
     },
     "metadata": {
      "needs_background": "light"
     },
     "output_type": "display_data"
    }
   ],
   "source": [
    "# sets per year\n",
    "\n",
    "fig, axs = plt.subplots(1, 1, figsize=(14, 6))\n",
    "axs.hist(set_df['year'].values, bins=set_df['year'].unique().shape[0])\n",
    "axs.set(xlabel='Year', ylabel='No Sets')\n",
    "plt.show()"
   ]
  },
  {
   "cell_type": "code",
   "execution_count": 10,
   "metadata": {},
   "outputs": [
    {
     "data": {
      "image/png": "[encoded data removed]",
      "text/plain": [
       "<Figure size 1008x432 with 1 Axes>"
      ]
     },
     "metadata": {
      "needs_background": "light"
     },
     "output_type": "display_data"
    }
   ],
   "source": [
    "# piece count distribution brickset vs kaggle\n",
    "\n",
    "piece_df = set_df.loc[(set_df['piece_cnt']>=1) & (set_df['total_parts']>=1)]\n",
    "\n",
    "fig, axs = plt.subplots(1, 1, figsize=(14, 6))\n",
    "axs.set(xlabel='Number of Pieces', ylabel='Total of Sets', xlim=(0, 1500))\n",
    "\n",
    "axs.hist(piece_df['piece_cnt'].values, bins=1000, color='green', label='brickset', alpha=.5)\n",
    "axs.hist(piece_df['total_parts'].values, bins=1000, color='blue', label='kaggle', alpha=.4)\n",
    "\n",
    "plt.legend()\n",
    "plt.show()"
   ]
  },
  {
   "cell_type": "code",
   "execution_count": 11,
   "metadata": {
    "scrolled": false
   },
   "outputs": [
    {
     "data": {
      "image/png": "[encoded data removed]",
      "text/plain": [
       "<Figure size 720x432 with 1 Axes>"
      ]
     },
     "metadata": {},
     "output_type": "display_data"
    }
   ],
   "source": [
    "# store price and used price comparison\n",
    "\n",
    "price_df = set_df.loc[(set_df['price_store']>=1) & (set_df['price_used']>=1)]\n",
    "\n",
    "fig, axs = plt.subplots(1, 1, figsize=(10, 6), facecolor='white')\n",
    "axs.set(xlabel='Set Price', ylabel='Total of Sets', xlim=(0, 200))\n",
    "\n",
    "axs.hist(price_df['price_store'].values, bins=500, color='green', label='store price', alpha=.5)\n",
    "axs.hist(price_df['price_used'].values, bins=500, color='red', label='used price', alpha=.5)\n",
    "\n",
    "plt.legend()\n",
    "plt.show()"
   ]
  },
  {
   "cell_type": "code",
   "execution_count": 12,
   "metadata": {},
   "outputs": [
    {
     "data": {
      "image/png": "[encoded data removed]",
      "text/plain": [
       "<Figure size 1008x432 with 1 Axes>"
      ]
     },
     "metadata": {
      "needs_background": "light"
     },
     "output_type": "display_data"
    }
   ],
   "source": [
    "# since there aren't a lot of sets with high votes, the ratings aren't very reliable\n",
    "\n",
    "votes_df = set_df.loc[set_df['rating_votes'].isna()==False]\n",
    "\n",
    "fig, axs = plt.subplots(1, 1, figsize=(14, 6))\n",
    "axs.hist(votes_df['rating_votes'].values, bins=100)\n",
    "axs.set(xlabel='Number of Votes', ylabel='Total of Sets', xlim=(0, 30))  # most votes ~100\n",
    "\n",
    "plt.show()"
   ]
  },
  {
   "cell_type": "markdown",
   "metadata": {},
   "source": [
    "## Introduce New Features"
   ]
  },
  {
   "cell_type": "code",
   "execution_count": 13,
   "metadata": {
    "scrolled": true
   },
   "outputs": [
    {
     "data": {
      "text/plain": [
       "0     NaN\n",
       "1    19.2\n",
       "2     5.0\n",
       "3    17.2\n",
       "4    12.0\n",
       "Name: popularity, dtype: float64"
      ]
     },
     "execution_count": 13,
     "metadata": {},
     "output_type": "execute_result"
    }
   ],
   "source": [
    "# create a popularity column, new feature for ratings\n",
    "\n",
    "set_df['popularity'] = set_df['rating_value'] * set_df['rating_votes']\n",
    "set_df['popularity'].head()"
   ]
  },
  {
   "cell_type": "code",
   "execution_count": 14,
   "metadata": {},
   "outputs": [
    {
     "data": {
      "text/plain": [
       "(3001, 19)"
      ]
     },
     "execution_count": 14,
     "metadata": {},
     "output_type": "execute_result"
    }
   ],
   "source": [
    "# visualize the popularity\n",
    "\n",
    "popularity_df = set_df.loc[set_df['popularity'].isna()==False]\n",
    "popularity_df.shape"
   ]
  },
  {
   "cell_type": "code",
   "execution_count": 15,
   "metadata": {},
   "outputs": [
    {
     "data": {
      "image/png": "[encoded data removed]",
      "text/plain": [
       "<Figure size 1008x432 with 1 Axes>"
      ]
     },
     "metadata": {
      "needs_background": "light"
     },
     "output_type": "display_data"
    }
   ],
   "source": [
    "fig, axs = plt.subplots(1, 1, figsize=(14, 6))\n",
    "\n",
    "axs.hist(popularity_df['popularity'].values, bins=200, color='orange')\n",
    "axs.set(xlabel='Popularity', ylabel='Total of Sets', xlim=(0, 100))  \n",
    "\n",
    "plt.show()"
   ]
  },
  {
   "cell_type": "code",
   "execution_count": 16,
   "metadata": {},
   "outputs": [
    {
     "data": {
      "text/html": [
       "<div>\n",
       "<style scoped>\n",
       "    .dataframe tbody tr th:only-of-type {\n",
       "        vertical-align: middle;\n",
       "    }\n",
       "\n",
       "    .dataframe tbody tr th {\n",
       "        vertical-align: top;\n",
       "    }\n",
       "\n",
       "    .dataframe thead th {\n",
       "        text-align: right;\n",
       "    }\n",
       "</style>\n",
       "<table border=\"1\" class=\"dataframe\">\n",
       "  <thead>\n",
       "    <tr style=\"text-align: right;\">\n",
       "      <th></th>\n",
       "      <th>set_no</th>\n",
       "      <th>name</th>\n",
       "      <th>theme</th>\n",
       "      <th>1st_color</th>\n",
       "      <th>scolor_1st</th>\n",
       "      <th>2nd_color</th>\n",
       "      <th>scolor_2nd</th>\n",
       "    </tr>\n",
       "  </thead>\n",
       "  <tbody>\n",
       "    <tr>\n",
       "      <th>0</th>\n",
       "      <td>1591-1</td>\n",
       "      <td>Danone Delivery Truck</td>\n",
       "      <td>Town</td>\n",
       "      <td>White</td>\n",
       "      <td>White</td>\n",
       "      <td>Blue</td>\n",
       "      <td>Blue</td>\n",
       "    </tr>\n",
       "    <tr>\n",
       "      <th>1</th>\n",
       "      <td>1592-1</td>\n",
       "      <td>Town Square - Castle Scene</td>\n",
       "      <td>Town</td>\n",
       "      <td>Black</td>\n",
       "      <td>Black</td>\n",
       "      <td>Yellow</td>\n",
       "      <td>Yellow</td>\n",
       "    </tr>\n",
       "    <tr>\n",
       "      <th>2</th>\n",
       "      <td>1651-2</td>\n",
       "      <td>Maersk Line Container Lorry</td>\n",
       "      <td>Town</td>\n",
       "      <td>Maersk Blue</td>\n",
       "      <td>Blue</td>\n",
       "      <td>Light Gray</td>\n",
       "      <td>Gray</td>\n",
       "    </tr>\n",
       "    <tr>\n",
       "      <th>3</th>\n",
       "      <td>6305-1</td>\n",
       "      <td>Trees and Flowers</td>\n",
       "      <td>Town</td>\n",
       "      <td>Green</td>\n",
       "      <td>Green</td>\n",
       "      <td>Red</td>\n",
       "      <td>Red</td>\n",
       "    </tr>\n",
       "    <tr>\n",
       "      <th>4</th>\n",
       "      <td>6306-1</td>\n",
       "      <td>Road Signs</td>\n",
       "      <td>Town</td>\n",
       "      <td>White</td>\n",
       "      <td>White</td>\n",
       "      <td>White</td>\n",
       "      <td>White</td>\n",
       "    </tr>\n",
       "  </tbody>\n",
       "</table>\n",
       "</div>"
      ],
      "text/plain": [
       "   set_no                         name theme    1st_color scolor_1st  \\\n",
       "0  1591-1        Danone Delivery Truck  Town        White      White   \n",
       "1  1592-1   Town Square - Castle Scene  Town        Black      Black   \n",
       "2  1651-2  Maersk Line Container Lorry  Town  Maersk Blue       Blue   \n",
       "3  6305-1            Trees and Flowers  Town        Green      Green   \n",
       "4  6306-1                   Road Signs  Town        White      White   \n",
       "\n",
       "    2nd_color scolor_2nd  \n",
       "0        Blue       Blue  \n",
       "1      Yellow     Yellow  \n",
       "2  Light Gray       Gray  \n",
       "3         Red        Red  \n",
       "4       White      White  "
      ]
     },
     "execution_count": 16,
     "metadata": {},
     "output_type": "execute_result"
    }
   ],
   "source": [
    "# create new columns for super-colors \n",
    "\n",
    "set_df['scolor_1st'] = set_df['1st_color'].apply(lh.get_super_color)\n",
    "set_df['scolor_2nd'] = set_df['2nd_color'].apply(lh.get_super_color)\n",
    "set_df[['set_no', 'name', 'theme', '1st_color', 'scolor_1st', '2nd_color', 'scolor_2nd']].head()"
   ]
  },
  {
   "cell_type": "code",
   "execution_count": 17,
   "metadata": {
    "scrolled": false
   },
   "outputs": [
    {
     "data": {
      "text/html": [
       "<div>\n",
       "<style scoped>\n",
       "    .dataframe tbody tr th:only-of-type {\n",
       "        vertical-align: middle;\n",
       "    }\n",
       "\n",
       "    .dataframe tbody tr th {\n",
       "        vertical-align: top;\n",
       "    }\n",
       "\n",
       "    .dataframe thead th {\n",
       "        text-align: right;\n",
       "    }\n",
       "</style>\n",
       "<table border=\"1\" class=\"dataframe\">\n",
       "  <thead>\n",
       "    <tr style=\"text-align: right;\">\n",
       "      <th></th>\n",
       "      <th>set_no</th>\n",
       "      <th>name</th>\n",
       "      <th>theme</th>\n",
       "      <th>1st_color</th>\n",
       "      <th>scolor_1st</th>\n",
       "      <th>2nd_color</th>\n",
       "      <th>scolor_2nd</th>\n",
       "    </tr>\n",
       "  </thead>\n",
       "  <tbody>\n",
       "    <tr>\n",
       "      <th>1304</th>\n",
       "      <td>3560-1</td>\n",
       "      <td>NBA Collectors # 1</td>\n",
       "      <td>Sports</td>\n",
       "      <td>Tan</td>\n",
       "      <td>Tan</td>\n",
       "      <td>[No Color]</td>\n",
       "      <td>None</td>\n",
       "    </tr>\n",
       "    <tr>\n",
       "      <th>1306</th>\n",
       "      <td>3562-1</td>\n",
       "      <td>NBA Collectors # 3</td>\n",
       "      <td>Sports</td>\n",
       "      <td>Tan</td>\n",
       "      <td>Tan</td>\n",
       "      <td>[No Color]</td>\n",
       "      <td>None</td>\n",
       "    </tr>\n",
       "    <tr>\n",
       "      <th>1309</th>\n",
       "      <td>3565-1</td>\n",
       "      <td>NBA Collectors # 6</td>\n",
       "      <td>Sports</td>\n",
       "      <td>Tan</td>\n",
       "      <td>Tan</td>\n",
       "      <td>[No Color]</td>\n",
       "      <td>None</td>\n",
       "    </tr>\n",
       "    <tr>\n",
       "      <th>1310</th>\n",
       "      <td>3566-1</td>\n",
       "      <td>NBA Collectors # 7</td>\n",
       "      <td>Sports</td>\n",
       "      <td>Tan</td>\n",
       "      <td>Tan</td>\n",
       "      <td>[No Color]</td>\n",
       "      <td>None</td>\n",
       "    </tr>\n",
       "  </tbody>\n",
       "</table>\n",
       "</div>"
      ],
      "text/plain": [
       "      set_no                name   theme 1st_color scolor_1st   2nd_color  \\\n",
       "1304  3560-1  NBA Collectors # 1  Sports       Tan        Tan  [No Color]   \n",
       "1306  3562-1  NBA Collectors # 3  Sports       Tan        Tan  [No Color]   \n",
       "1309  3565-1  NBA Collectors # 6  Sports       Tan        Tan  [No Color]   \n",
       "1310  3566-1  NBA Collectors # 7  Sports       Tan        Tan  [No Color]   \n",
       "\n",
       "     scolor_2nd  \n",
       "1304       None  \n",
       "1306       None  \n",
       "1309       None  \n",
       "1310       None  "
      ]
     },
     "execution_count": 17,
     "metadata": {},
     "output_type": "execute_result"
    }
   ],
   "source": [
    "# check for any remaining gaps\n",
    "\n",
    "set_df.loc[ (set_df['scolor_1st'].isna()) | (set_df['scolor_2nd'].isna()), \n",
    "            ['set_no', 'name', 'theme', '1st_color', 'scolor_1st', '2nd_color', 'scolor_2nd'] ]"
   ]
  },
  {
   "cell_type": "code",
   "execution_count": 18,
   "metadata": {},
   "outputs": [
    {
     "data": {
      "text/html": [
       "<div>\n",
       "<style scoped>\n",
       "    .dataframe tbody tr th:only-of-type {\n",
       "        vertical-align: middle;\n",
       "    }\n",
       "\n",
       "    .dataframe tbody tr th {\n",
       "        vertical-align: top;\n",
       "    }\n",
       "\n",
       "    .dataframe thead th {\n",
       "        text-align: right;\n",
       "    }\n",
       "</style>\n",
       "<table border=\"1\" class=\"dataframe\">\n",
       "  <thead>\n",
       "    <tr style=\"text-align: right;\">\n",
       "      <th></th>\n",
       "      <th>set_no</th>\n",
       "      <th>name</th>\n",
       "      <th>theme_group</th>\n",
       "      <th>theme</th>\n",
       "      <th>subtheme</th>\n",
       "      <th>year</th>\n",
       "      <th>piece_cnt</th>\n",
       "      <th>minifig_cnt</th>\n",
       "      <th>price_store</th>\n",
       "      <th>price_new</th>\n",
       "      <th>...</th>\n",
       "      <th>rating_value</th>\n",
       "      <th>rating_votes</th>\n",
       "      <th>number_parts</th>\n",
       "      <th>total_parts</th>\n",
       "      <th>number_colors</th>\n",
       "      <th>1st_color</th>\n",
       "      <th>2nd_color</th>\n",
       "      <th>popularity</th>\n",
       "      <th>scolor_1st</th>\n",
       "      <th>scolor_2nd</th>\n",
       "    </tr>\n",
       "  </thead>\n",
       "  <tbody>\n",
       "  </tbody>\n",
       "</table>\n",
       "<p>0 rows × 21 columns</p>\n",
       "</div>"
      ],
      "text/plain": [
       "Empty DataFrame\n",
       "Columns: [set_no, name, theme_group, theme, subtheme, year, piece_cnt, minifig_cnt, price_store, price_new, price_used, rating_value, rating_votes, number_parts, total_parts, number_colors, 1st_color, 2nd_color, popularity, scolor_1st, scolor_2nd]\n",
       "Index: []\n",
       "\n",
       "[0 rows x 21 columns]"
      ]
     },
     "execution_count": 18,
     "metadata": {},
     "output_type": "execute_result"
    }
   ],
   "source": [
    "# fix secondary colors by assigning primary color\n",
    "\n",
    "set_df['scolor_2nd'] = set_df['scolor_2nd'].fillna(set_df['scolor_1st'])\n",
    "set_df.loc[(set_df['scolor_2nd'].isna())]"
   ]
  },
  {
   "cell_type": "code",
   "execution_count": 19,
   "metadata": {
    "scrolled": true
   },
   "outputs": [
    {
     "data": {
      "text/plain": [
       "Black          1219\n",
       "Gray            720\n",
       "White           569\n",
       "Red             203\n",
       "Yellow          158\n",
       "Blue            116\n",
       "Brown           101\n",
       "Tan              75\n",
       "Green            46\n",
       "Transparent       6\n",
       "Name: scolor_1st, dtype: int64"
      ]
     },
     "execution_count": 19,
     "metadata": {},
     "output_type": "execute_result"
    }
   ],
   "source": [
    "set_df['scolor_1st'].value_counts()"
   ]
  },
  {
   "cell_type": "code",
   "execution_count": 20,
   "metadata": {},
   "outputs": [
    {
     "name": "stdout",
     "output_type": "stream",
     "text": [
      "<class 'pandas.core.frame.DataFrame'>\n",
      "Int64Index: 2723 entries, 3 to 3212\n",
      "Data columns (total 21 columns):\n",
      "set_no           2723 non-null object\n",
      "name             2723 non-null object\n",
      "theme_group      2723 non-null object\n",
      "theme            2723 non-null object\n",
      "subtheme         2222 non-null object\n",
      "year             2723 non-null float64\n",
      "piece_cnt        2723 non-null float64\n",
      "minifig_cnt      2723 non-null float64\n",
      "price_store      2723 non-null float64\n",
      "price_new        2700 non-null float64\n",
      "price_used       2723 non-null float64\n",
      "rating_value     2601 non-null float64\n",
      "rating_votes     2601 non-null float64\n",
      "number_parts     2723 non-null int64\n",
      "total_parts      2723 non-null int64\n",
      "number_colors    2723 non-null int64\n",
      "1st_color        2723 non-null object\n",
      "2nd_color        2723 non-null object\n",
      "popularity       2601 non-null float64\n",
      "scolor_1st       2723 non-null object\n",
      "scolor_2nd       2723 non-null object\n",
      "dtypes: float64(9), int64(3), object(9)\n",
      "memory usage: 468.0+ KB\n"
     ]
    }
   ],
   "source": [
    "# for after-market analysis, filter by store price and used price\n",
    "\n",
    "set_df = set_df.loc[(set_df['price_store']>=1) & (set_df['price_used']>=1)]\n",
    "set_df.head()\n",
    "set_df.info()"
   ]
  },
  {
   "cell_type": "code",
   "execution_count": 21,
   "metadata": {},
   "outputs": [
    {
     "data": {
      "text/html": [
       "<div>\n",
       "<style scoped>\n",
       "    .dataframe tbody tr th:only-of-type {\n",
       "        vertical-align: middle;\n",
       "    }\n",
       "\n",
       "    .dataframe tbody tr th {\n",
       "        vertical-align: top;\n",
       "    }\n",
       "\n",
       "    .dataframe thead th {\n",
       "        text-align: right;\n",
       "    }\n",
       "</style>\n",
       "<table border=\"1\" class=\"dataframe\">\n",
       "  <thead>\n",
       "    <tr style=\"text-align: right;\">\n",
       "      <th></th>\n",
       "      <th>set_no</th>\n",
       "      <th>name</th>\n",
       "      <th>theme_group</th>\n",
       "      <th>theme</th>\n",
       "      <th>subtheme</th>\n",
       "      <th>year</th>\n",
       "      <th>piece_cnt</th>\n",
       "      <th>minifig_cnt</th>\n",
       "      <th>price_store</th>\n",
       "      <th>price_new</th>\n",
       "      <th>...</th>\n",
       "      <th>rating_votes</th>\n",
       "      <th>number_parts</th>\n",
       "      <th>total_parts</th>\n",
       "      <th>number_colors</th>\n",
       "      <th>1st_color</th>\n",
       "      <th>2nd_color</th>\n",
       "      <th>popularity</th>\n",
       "      <th>scolor_1st</th>\n",
       "      <th>scolor_2nd</th>\n",
       "      <th>aftermarket</th>\n",
       "    </tr>\n",
       "  </thead>\n",
       "  <tbody>\n",
       "    <tr>\n",
       "      <th>3</th>\n",
       "      <td>6305-1</td>\n",
       "      <td>Trees and Flowers</td>\n",
       "      <td>Modern day</td>\n",
       "      <td>Town</td>\n",
       "      <td>Accessories</td>\n",
       "      <td>1980.0</td>\n",
       "      <td>12.0</td>\n",
       "      <td>0.0</td>\n",
       "      <td>3.75</td>\n",
       "      <td>28.0</td>\n",
       "      <td>...</td>\n",
       "      <td>4.0</td>\n",
       "      <td>6</td>\n",
       "      <td>24</td>\n",
       "      <td>4</td>\n",
       "      <td>Green</td>\n",
       "      <td>Red</td>\n",
       "      <td>17.2</td>\n",
       "      <td>Green</td>\n",
       "      <td>Red</td>\n",
       "      <td>6.25</td>\n",
       "    </tr>\n",
       "    <tr>\n",
       "      <th>4</th>\n",
       "      <td>6306-1</td>\n",
       "      <td>Road Signs</td>\n",
       "      <td>Modern day</td>\n",
       "      <td>Town</td>\n",
       "      <td>Accessories</td>\n",
       "      <td>1980.0</td>\n",
       "      <td>12.0</td>\n",
       "      <td>0.0</td>\n",
       "      <td>2.50</td>\n",
       "      <td>49.0</td>\n",
       "      <td>...</td>\n",
       "      <td>3.0</td>\n",
       "      <td>10</td>\n",
       "      <td>12</td>\n",
       "      <td>1</td>\n",
       "      <td>White</td>\n",
       "      <td>White</td>\n",
       "      <td>12.0</td>\n",
       "      <td>White</td>\n",
       "      <td>White</td>\n",
       "      <td>10.50</td>\n",
       "    </tr>\n",
       "    <tr>\n",
       "      <th>7</th>\n",
       "      <td>6375-2</td>\n",
       "      <td>Exxon Gas Station</td>\n",
       "      <td>Modern day</td>\n",
       "      <td>Town</td>\n",
       "      <td>Shops and Services</td>\n",
       "      <td>1980.0</td>\n",
       "      <td>267.0</td>\n",
       "      <td>3.0</td>\n",
       "      <td>20.00</td>\n",
       "      <td>NaN</td>\n",
       "      <td>...</td>\n",
       "      <td>5.0</td>\n",
       "      <td>95</td>\n",
       "      <td>272</td>\n",
       "      <td>12</td>\n",
       "      <td>White</td>\n",
       "      <td>Red</td>\n",
       "      <td>24.0</td>\n",
       "      <td>White</td>\n",
       "      <td>Red</td>\n",
       "      <td>53.00</td>\n",
       "    </tr>\n",
       "    <tr>\n",
       "      <th>8</th>\n",
       "      <td>6390-1</td>\n",
       "      <td>Main Street</td>\n",
       "      <td>Modern day</td>\n",
       "      <td>Town</td>\n",
       "      <td>Shops and Services</td>\n",
       "      <td>1980.0</td>\n",
       "      <td>591.0</td>\n",
       "      <td>8.0</td>\n",
       "      <td>40.00</td>\n",
       "      <td>NaN</td>\n",
       "      <td>...</td>\n",
       "      <td>5.0</td>\n",
       "      <td>156</td>\n",
       "      <td>614</td>\n",
       "      <td>11</td>\n",
       "      <td>Red</td>\n",
       "      <td>White</td>\n",
       "      <td>23.0</td>\n",
       "      <td>Red</td>\n",
       "      <td>White</td>\n",
       "      <td>210.00</td>\n",
       "    </tr>\n",
       "    <tr>\n",
       "      <th>17</th>\n",
       "      <td>6077-1</td>\n",
       "      <td>Knight's Procession</td>\n",
       "      <td>Historical</td>\n",
       "      <td>Castle</td>\n",
       "      <td>Classic</td>\n",
       "      <td>1981.0</td>\n",
       "      <td>48.0</td>\n",
       "      <td>6.0</td>\n",
       "      <td>5.00</td>\n",
       "      <td>NaN</td>\n",
       "      <td>...</td>\n",
       "      <td>1.0</td>\n",
       "      <td>21</td>\n",
       "      <td>49</td>\n",
       "      <td>6</td>\n",
       "      <td>Light Gray</td>\n",
       "      <td>Black</td>\n",
       "      <td>4.0</td>\n",
       "      <td>Gray</td>\n",
       "      <td>Black</td>\n",
       "      <td>38.00</td>\n",
       "    </tr>\n",
       "  </tbody>\n",
       "</table>\n",
       "<p>5 rows × 22 columns</p>\n",
       "</div>"
      ],
      "text/plain": [
       "    set_no                 name theme_group   theme            subtheme  \\\n",
       "3   6305-1    Trees and Flowers  Modern day    Town         Accessories   \n",
       "4   6306-1           Road Signs  Modern day    Town         Accessories   \n",
       "7   6375-2    Exxon Gas Station  Modern day    Town  Shops and Services   \n",
       "8   6390-1          Main Street  Modern day    Town  Shops and Services   \n",
       "17  6077-1  Knight's Procession  Historical  Castle             Classic   \n",
       "\n",
       "      year  piece_cnt  minifig_cnt  price_store  price_new  ...  rating_votes  \\\n",
       "3   1980.0       12.0          0.0         3.75       28.0  ...           4.0   \n",
       "4   1980.0       12.0          0.0         2.50       49.0  ...           3.0   \n",
       "7   1980.0      267.0          3.0        20.00        NaN  ...           5.0   \n",
       "8   1980.0      591.0          8.0        40.00        NaN  ...           5.0   \n",
       "17  1981.0       48.0          6.0         5.00        NaN  ...           1.0   \n",
       "\n",
       "    number_parts  total_parts  number_colors   1st_color  2nd_color  \\\n",
       "3              6           24              4       Green        Red   \n",
       "4             10           12              1       White      White   \n",
       "7             95          272             12       White        Red   \n",
       "8            156          614             11         Red      White   \n",
       "17            21           49              6  Light Gray      Black   \n",
       "\n",
       "   popularity scolor_1st  scolor_2nd aftermarket  \n",
       "3        17.2      Green         Red        6.25  \n",
       "4        12.0      White       White       10.50  \n",
       "7        24.0      White         Red       53.00  \n",
       "8        23.0        Red       White      210.00  \n",
       "17        4.0       Gray       Black       38.00  \n",
       "\n",
       "[5 rows x 22 columns]"
      ]
     },
     "execution_count": 21,
     "metadata": {},
     "output_type": "execute_result"
    }
   ],
   "source": [
    "set_df['aftermarket'] = set_df['price_used'] - set_df['price_store']\n",
    "set_df.head()"
   ]
  },
  {
   "cell_type": "code",
   "execution_count": 22,
   "metadata": {
    "scrolled": false
   },
   "outputs": [
    {
     "data": {
      "image/png": "[encoded data removed]",
      "text/plain": [
       "<Figure size 720x432 with 1 Axes>"
      ]
     },
     "metadata": {},
     "output_type": "display_data"
    }
   ],
   "source": [
    "fig, axs = plt.subplots(1, 1, figsize=(10, 6), facecolor='white')\n",
    "\n",
    "axs.hist(set_df['aftermarket'].values, bins=200, color='green')\n",
    "axs.set(xlabel='After-Market Value $', ylabel='Total of Sets', xlim=(-200, 200))  \n",
    "\n",
    "plt.show()"
   ]
  },
  {
   "cell_type": "code",
   "execution_count": 23,
   "metadata": {
    "scrolled": false
   },
   "outputs": [
    {
     "data": {
      "text/plain": [
       "(1362, 22)"
      ]
     },
     "execution_count": 23,
     "metadata": {},
     "output_type": "execute_result"
    }
   ],
   "source": [
    "set_df.loc[ set_df['aftermarket']>0 ].shape"
   ]
  },
  {
   "cell_type": "code",
   "execution_count": 24,
   "metadata": {
    "scrolled": true
   },
   "outputs": [
    {
     "data": {
      "text/plain": [
       "(53, 22)"
      ]
     },
     "execution_count": 24,
     "metadata": {},
     "output_type": "execute_result"
    }
   ],
   "source": [
    "set_df.loc[ set_df['aftermarket']==0 ].shape"
   ]
  },
  {
   "cell_type": "code",
   "execution_count": 25,
   "metadata": {},
   "outputs": [
    {
     "data": {
      "text/plain": [
       "(1308, 22)"
      ]
     },
     "execution_count": 25,
     "metadata": {},
     "output_type": "execute_result"
    }
   ],
   "source": [
    "set_df.loc[ set_df['aftermarket']<0 ].shape"
   ]
  },
  {
   "cell_type": "code",
   "execution_count": 26,
   "metadata": {
    "scrolled": true
   },
   "outputs": [
    {
     "data": {
      "text/html": [
       "<div>\n",
       "<style scoped>\n",
       "    .dataframe tbody tr th:only-of-type {\n",
       "        vertical-align: middle;\n",
       "    }\n",
       "\n",
       "    .dataframe tbody tr th {\n",
       "        vertical-align: top;\n",
       "    }\n",
       "\n",
       "    .dataframe thead th {\n",
       "        text-align: right;\n",
       "    }\n",
       "</style>\n",
       "<table border=\"1\" class=\"dataframe\">\n",
       "  <thead>\n",
       "    <tr style=\"text-align: right;\">\n",
       "      <th></th>\n",
       "      <th>set_no</th>\n",
       "      <th>name</th>\n",
       "      <th>price_used</th>\n",
       "      <th>price_store</th>\n",
       "      <th>aftermarket</th>\n",
       "    </tr>\n",
       "  </thead>\n",
       "  <tbody>\n",
       "    <tr>\n",
       "      <th>198</th>\n",
       "      <td>6381-1</td>\n",
       "      <td>Motor Speedway</td>\n",
       "      <td>19.0</td>\n",
       "      <td>23.0</td>\n",
       "      <td>-4.0</td>\n",
       "    </tr>\n",
       "    <tr>\n",
       "      <th>205</th>\n",
       "      <td>6641-1</td>\n",
       "      <td>4-Wheelin' Truck</td>\n",
       "      <td>5.0</td>\n",
       "      <td>6.5</td>\n",
       "      <td>-1.5</td>\n",
       "    </tr>\n",
       "    <tr>\n",
       "      <th>238</th>\n",
       "      <td>6357-1</td>\n",
       "      <td>Stunt 'Copter N' Truck</td>\n",
       "      <td>13.0</td>\n",
       "      <td>17.0</td>\n",
       "      <td>-4.0</td>\n",
       "    </tr>\n",
       "    <tr>\n",
       "      <th>246</th>\n",
       "      <td>6642-1</td>\n",
       "      <td>Police Helicopter</td>\n",
       "      <td>7.0</td>\n",
       "      <td>15.0</td>\n",
       "      <td>-8.0</td>\n",
       "    </tr>\n",
       "    <tr>\n",
       "      <th>290</th>\n",
       "      <td>6526-1</td>\n",
       "      <td>Red Line Racer</td>\n",
       "      <td>4.0</td>\n",
       "      <td>4.0</td>\n",
       "      <td>0.0</td>\n",
       "    </tr>\n",
       "  </tbody>\n",
       "</table>\n",
       "</div>"
      ],
      "text/plain": [
       "     set_no                    name  price_used  price_store  aftermarket\n",
       "198  6381-1          Motor Speedway        19.0         23.0         -4.0\n",
       "205  6641-1        4-Wheelin' Truck         5.0          6.5         -1.5\n",
       "238  6357-1  Stunt 'Copter N' Truck        13.0         17.0         -4.0\n",
       "246  6642-1       Police Helicopter         7.0         15.0         -8.0\n",
       "290  6526-1          Red Line Racer         4.0          4.0          0.0"
      ]
     },
     "execution_count": 26,
     "metadata": {},
     "output_type": "execute_result"
    }
   ],
   "source": [
    "set_df.loc[ set_df['aftermarket']<=0 ][['set_no', 'name', 'price_used', 'price_store', 'aftermarket']].head()"
   ]
  },
  {
   "cell_type": "code",
   "execution_count": 31,
   "metadata": {},
   "outputs": [
    {
     "data": {
      "text/plain": [
       "year\n",
       "1980.0      4\n",
       "1981.0      4\n",
       "1982.0      1\n",
       "1983.0      1\n",
       "1984.0     11\n",
       "1985.0     10\n",
       "1986.0     13\n",
       "1987.0     16\n",
       "1988.0     17\n",
       "1989.0     30\n",
       "1990.0     24\n",
       "1991.0     33\n",
       "1992.0     32\n",
       "1993.0     44\n",
       "1994.0     36\n",
       "1995.0     34\n",
       "1996.0     63\n",
       "1997.0     67\n",
       "1998.0     80\n",
       "1999.0     81\n",
       "2000.0     81\n",
       "2001.0     88\n",
       "2002.0    105\n",
       "2003.0    113\n",
       "2004.0     69\n",
       "2005.0     58\n",
       "2006.0     81\n",
       "2007.0     92\n",
       "2008.0    112\n",
       "2009.0    103\n",
       "2010.0    122\n",
       "2011.0    127\n",
       "2012.0    139\n",
       "2013.0    136\n",
       "2014.0    164\n",
       "2015.0    193\n",
       "2016.0    183\n",
       "2017.0    156\n",
       "Name: set_no, dtype: int64"
      ]
     },
     "execution_count": 31,
     "metadata": {},
     "output_type": "execute_result"
    }
   ],
   "source": [
    "set_df.groupby(['year']).count()['set_no']"
   ]
  },
  {
   "cell_type": "code",
   "execution_count": 34,
   "metadata": {},
   "outputs": [
    {
     "data": {
      "text/plain": [
       "(1362, 22)"
      ]
     },
     "execution_count": 34,
     "metadata": {},
     "output_type": "execute_result"
    }
   ],
   "source": [
    "increase_df = set_df.loc[set_df['aftermarket']>0]\n",
    "\n",
    "increase_df.shape"
   ]
  },
  {
   "cell_type": "code",
   "execution_count": 35,
   "metadata": {},
   "outputs": [
    {
     "data": {
      "text/plain": [
       "(1361, 22)"
      ]
     },
     "execution_count": 35,
     "metadata": {},
     "output_type": "execute_result"
    }
   ],
   "source": [
    "decrease_df = set_df.loc[set_df['aftermarket']<=0]\n",
    "\n",
    "decrease_df.shape"
   ]
  },
  {
   "cell_type": "code",
   "execution_count": 45,
   "metadata": {},
   "outputs": [
    {
     "data": {
      "image/png": "[encoded data removed]",
      "text/plain": [
       "<Figure size 864x576 with 2 Axes>"
      ]
     },
     "metadata": {
      "needs_background": "light"
     },
     "output_type": "display_data"
    }
   ],
   "source": [
    "fig, axs = plt.subplots(2, 1, figsize=(12, 8))\n",
    "\n",
    "axs[0].hist(increase_df['year'].values, bins=increase_df['year'].unique().shape[0])\n",
    "axs[0].set(xlabel='Year', ylabel='No Sets', xlim=(1980, 2018), ylim=(0, 180))\n",
    "\n",
    "axs[1].hist(decrease_df['year'].values, bins=decrease_df['year'].unique().shape[0])\n",
    "axs[1].set(xlabel='Year', ylabel='No Sets', xlim=(1980, 2018), ylim=(0, 180))\n",
    "axs[1].set_ylim(axs[1].get_ylim()[::-1])\n",
    "\n",
    "plt.show()"
   ]
  },
  {
   "cell_type": "code",
   "execution_count": 39,
   "metadata": {},
   "outputs": [
    {
     "data": {
      "image/png": "[encoded data removed]",
      "text/plain": [
       "<Figure size 1008x432 with 1 Axes>"
      ]
     },
     "metadata": {
      "needs_background": "light"
     },
     "output_type": "display_data"
    }
   ],
   "source": [
    "fig, axs = plt.subplots(1, 1, figsize=(14, 6))\n",
    "axs.hist(decrease_df['year'].values, bins=decrease_df['year'].unique().shape[0])\n",
    "axs.set(xlabel='Year', ylabel='No Sets')\n",
    "axs.set_ylim(axs.get_ylim()[::-1])\n",
    "plt.show()"
   ]
  },
  {
   "cell_type": "code",
   "execution_count": null,
   "metadata": {},
   "outputs": [],
   "source": []
  },
  {
   "cell_type": "markdown",
   "metadata": {},
   "source": [
    "## Clean Features Dataset"
   ]
  },
  {
   "cell_type": "code",
   "execution_count": 27,
   "metadata": {
    "scrolled": true
   },
   "outputs": [
    {
     "data": {
      "text/html": [
       "<div>\n",
       "<style scoped>\n",
       "    .dataframe tbody tr th:only-of-type {\n",
       "        vertical-align: middle;\n",
       "    }\n",
       "\n",
       "    .dataframe tbody tr th {\n",
       "        vertical-align: top;\n",
       "    }\n",
       "\n",
       "    .dataframe thead th {\n",
       "        text-align: right;\n",
       "    }\n",
       "</style>\n",
       "<table border=\"1\" class=\"dataframe\">\n",
       "  <thead>\n",
       "    <tr style=\"text-align: right;\">\n",
       "      <th></th>\n",
       "      <th>set_no</th>\n",
       "      <th>name</th>\n",
       "      <th>price_store</th>\n",
       "      <th>price_used</th>\n",
       "      <th>popularity</th>\n",
       "      <th>aftermarket</th>\n",
       "      <th>theme_group</th>\n",
       "      <th>theme</th>\n",
       "      <th>year</th>\n",
       "      <th>total_parts</th>\n",
       "      <th>number_parts</th>\n",
       "      <th>number_colors</th>\n",
       "      <th>scolor_1st</th>\n",
       "      <th>scolor_2nd</th>\n",
       "    </tr>\n",
       "  </thead>\n",
       "  <tbody>\n",
       "    <tr>\n",
       "      <th>3</th>\n",
       "      <td>6305-1</td>\n",
       "      <td>Trees and Flowers</td>\n",
       "      <td>3.75</td>\n",
       "      <td>10.0</td>\n",
       "      <td>17.2</td>\n",
       "      <td>6.25</td>\n",
       "      <td>Modern day</td>\n",
       "      <td>Town</td>\n",
       "      <td>1980.0</td>\n",
       "      <td>24</td>\n",
       "      <td>6</td>\n",
       "      <td>4</td>\n",
       "      <td>Green</td>\n",
       "      <td>Red</td>\n",
       "    </tr>\n",
       "    <tr>\n",
       "      <th>4</th>\n",
       "      <td>6306-1</td>\n",
       "      <td>Road Signs</td>\n",
       "      <td>2.50</td>\n",
       "      <td>13.0</td>\n",
       "      <td>12.0</td>\n",
       "      <td>10.50</td>\n",
       "      <td>Modern day</td>\n",
       "      <td>Town</td>\n",
       "      <td>1980.0</td>\n",
       "      <td>12</td>\n",
       "      <td>10</td>\n",
       "      <td>1</td>\n",
       "      <td>White</td>\n",
       "      <td>White</td>\n",
       "    </tr>\n",
       "    <tr>\n",
       "      <th>7</th>\n",
       "      <td>6375-2</td>\n",
       "      <td>Exxon Gas Station</td>\n",
       "      <td>20.00</td>\n",
       "      <td>73.0</td>\n",
       "      <td>24.0</td>\n",
       "      <td>53.00</td>\n",
       "      <td>Modern day</td>\n",
       "      <td>Town</td>\n",
       "      <td>1980.0</td>\n",
       "      <td>272</td>\n",
       "      <td>95</td>\n",
       "      <td>12</td>\n",
       "      <td>White</td>\n",
       "      <td>Red</td>\n",
       "    </tr>\n",
       "    <tr>\n",
       "      <th>8</th>\n",
       "      <td>6390-1</td>\n",
       "      <td>Main Street</td>\n",
       "      <td>40.00</td>\n",
       "      <td>250.0</td>\n",
       "      <td>23.0</td>\n",
       "      <td>210.00</td>\n",
       "      <td>Modern day</td>\n",
       "      <td>Town</td>\n",
       "      <td>1980.0</td>\n",
       "      <td>614</td>\n",
       "      <td>156</td>\n",
       "      <td>11</td>\n",
       "      <td>Red</td>\n",
       "      <td>White</td>\n",
       "    </tr>\n",
       "    <tr>\n",
       "      <th>17</th>\n",
       "      <td>6077-1</td>\n",
       "      <td>Knight's Procession</td>\n",
       "      <td>5.00</td>\n",
       "      <td>43.0</td>\n",
       "      <td>4.0</td>\n",
       "      <td>38.00</td>\n",
       "      <td>Historical</td>\n",
       "      <td>Castle</td>\n",
       "      <td>1981.0</td>\n",
       "      <td>49</td>\n",
       "      <td>21</td>\n",
       "      <td>6</td>\n",
       "      <td>Gray</td>\n",
       "      <td>Black</td>\n",
       "    </tr>\n",
       "  </tbody>\n",
       "</table>\n",
       "</div>"
      ],
      "text/plain": [
       "    set_no                 name  price_store  price_used  popularity  \\\n",
       "3   6305-1    Trees and Flowers         3.75        10.0        17.2   \n",
       "4   6306-1           Road Signs         2.50        13.0        12.0   \n",
       "7   6375-2    Exxon Gas Station        20.00        73.0        24.0   \n",
       "8   6390-1          Main Street        40.00       250.0        23.0   \n",
       "17  6077-1  Knight's Procession         5.00        43.0         4.0   \n",
       "\n",
       "    aftermarket theme_group   theme    year  total_parts  number_parts  \\\n",
       "3          6.25  Modern day    Town  1980.0           24             6   \n",
       "4         10.50  Modern day    Town  1980.0           12            10   \n",
       "7         53.00  Modern day    Town  1980.0          272            95   \n",
       "8        210.00  Modern day    Town  1980.0          614           156   \n",
       "17        38.00  Historical  Castle  1981.0           49            21   \n",
       "\n",
       "    number_colors scolor_1st scolor_2nd  \n",
       "3               4      Green        Red  \n",
       "4               1      White      White  \n",
       "7              12      White        Red  \n",
       "8              11        Red      White  \n",
       "17              6       Gray      Black  "
      ]
     },
     "execution_count": 27,
     "metadata": {},
     "output_type": "execute_result"
    }
   ],
   "source": [
    "set_clean_df = set_df[['set_no', 'name', \n",
    "                       'price_store', 'price_used', 'popularity', 'aftermarket', \n",
    "                       'theme_group', 'theme', 'year', 'total_parts', 'number_parts', \n",
    "                       'number_colors', 'scolor_1st', 'scolor_2nd']]\n",
    "set_clean_df.head()"
   ]
  },
  {
   "cell_type": "code",
   "execution_count": 28,
   "metadata": {
    "scrolled": true
   },
   "outputs": [
    {
     "name": "stdout",
     "output_type": "stream",
     "text": [
      "<class 'pandas.core.frame.DataFrame'>\n",
      "Int64Index: 2723 entries, 3 to 3212\n",
      "Data columns (total 14 columns):\n",
      "set_no           2723 non-null object\n",
      "name             2723 non-null object\n",
      "price_store      2723 non-null float64\n",
      "price_used       2723 non-null float64\n",
      "popularity       2601 non-null float64\n",
      "aftermarket      2723 non-null float64\n",
      "theme_group      2723 non-null object\n",
      "theme            2723 non-null object\n",
      "year             2723 non-null float64\n",
      "total_parts      2723 non-null int64\n",
      "number_parts     2723 non-null int64\n",
      "number_colors    2723 non-null int64\n",
      "scolor_1st       2723 non-null object\n",
      "scolor_2nd       2723 non-null object\n",
      "dtypes: float64(5), int64(3), object(6)\n",
      "memory usage: 319.1+ KB\n"
     ]
    }
   ],
   "source": [
    "set_clean_df.info()"
   ]
  },
  {
   "cell_type": "code",
   "execution_count": 29,
   "metadata": {},
   "outputs": [
    {
     "data": {
      "text/plain": [
       "'0.28 mb'"
      ]
     },
     "execution_count": 29,
     "metadata": {},
     "output_type": "execute_result"
    }
   ],
   "source": [
    "save_path = r'data/brickset_aftermarket.csv'\n",
    "set_clean_df.to_csv(save_path, index=False)\n",
    "f'{round(os.path.getsize(save_path) /1e6, 2)} mb'"
   ]
  }
 ],
 "metadata": {
  "kernelspec": {
   "display_name": "Python 3",
   "language": "python",
   "name": "python3"
  },
  "language_info": {
   "codemirror_mode": {
    "name": "ipython",
    "version": 3
   },
   "file_extension": ".py",
   "mimetype": "text/x-python",
   "name": "python",
   "nbconvert_exporter": "python",
   "pygments_lexer": "ipython3",
   "version": "3.7.3"
  }
 },
 "nbformat": 4,
 "nbformat_minor": 2
}
