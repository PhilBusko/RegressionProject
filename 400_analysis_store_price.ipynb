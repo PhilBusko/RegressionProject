{
 "cells": [
  {
   "cell_type": "markdown",
   "metadata": {},
   "source": [
    "# Analysis: Store Price\n",
    "\n",
    "Goal: Run linear regression on all features for target variable store-price."
   ]
  },
  {
   "cell_type": "code",
   "execution_count": 1,
   "metadata": {},
   "outputs": [],
   "source": [
    "import os\n",
    "import pandas as pd\n",
    "import numpy as np\n",
    "import sklearn.model_selection as ms\n",
    "\n",
    "import matplotlib.pyplot as plt\n",
    "%matplotlib inline\n",
    "import seaborn as sns"
   ]
  },
  {
   "cell_type": "code",
   "execution_count": 2,
   "metadata": {},
   "outputs": [],
   "source": [
    "from IPython.core.interactiveshell import InteractiveShell\n",
    "InteractiveShell.ast_node_interactivity = 'all'"
   ]
  },
  {
   "cell_type": "code",
   "execution_count": 3,
   "metadata": {},
   "outputs": [],
   "source": [
    "%load_ext autoreload\n",
    "%autoreload 2         # reload custom py file eveytime a new cell is run\n",
    "\n",
    "#import helper "
   ]
  },
  {
   "cell_type": "markdown",
   "metadata": {},
   "source": [
    "## Prepare Target & Features"
   ]
  },
  {
   "cell_type": "code",
   "execution_count": 4,
   "metadata": {},
   "outputs": [
    {
     "data": {
      "text/html": [
       "<div>\n",
       "<style scoped>\n",
       "    .dataframe tbody tr th:only-of-type {\n",
       "        vertical-align: middle;\n",
       "    }\n",
       "\n",
       "    .dataframe tbody tr th {\n",
       "        vertical-align: top;\n",
       "    }\n",
       "\n",
       "    .dataframe thead th {\n",
       "        text-align: right;\n",
       "    }\n",
       "</style>\n",
       "<table border=\"1\" class=\"dataframe\">\n",
       "  <thead>\n",
       "    <tr style=\"text-align: right;\">\n",
       "      <th></th>\n",
       "      <th>set_no</th>\n",
       "      <th>name</th>\n",
       "      <th>price_store</th>\n",
       "      <th>price_used</th>\n",
       "      <th>popularity</th>\n",
       "      <th>group</th>\n",
       "      <th>year</th>\n",
       "      <th>total_parts</th>\n",
       "      <th>number_parts</th>\n",
       "      <th>number_colors</th>\n",
       "      <th>scolor_1st</th>\n",
       "      <th>scolor_2nd</th>\n",
       "    </tr>\n",
       "  </thead>\n",
       "  <tbody>\n",
       "    <tr>\n",
       "      <th>0</th>\n",
       "      <td>1591-1</td>\n",
       "      <td>Danone Delivery Truck</td>\n",
       "      <td>NaN</td>\n",
       "      <td>28.0</td>\n",
       "      <td>NaN</td>\n",
       "      <td>Modern day</td>\n",
       "      <td>1980.0</td>\n",
       "      <td>40</td>\n",
       "      <td>19</td>\n",
       "      <td>4</td>\n",
       "      <td>White</td>\n",
       "      <td>Blue</td>\n",
       "    </tr>\n",
       "    <tr>\n",
       "      <th>1</th>\n",
       "      <td>1592-1</td>\n",
       "      <td>Town Square - Castle Scene</td>\n",
       "      <td>NaN</td>\n",
       "      <td>235.0</td>\n",
       "      <td>19.2</td>\n",
       "      <td>Modern day</td>\n",
       "      <td>1980.0</td>\n",
       "      <td>495</td>\n",
       "      <td>133</td>\n",
       "      <td>10</td>\n",
       "      <td>Black</td>\n",
       "      <td>Yellow</td>\n",
       "    </tr>\n",
       "    <tr>\n",
       "      <th>2</th>\n",
       "      <td>1651-2</td>\n",
       "      <td>Maersk Line Container Lorry</td>\n",
       "      <td>NaN</td>\n",
       "      <td>444.0</td>\n",
       "      <td>5.0</td>\n",
       "      <td>Modern day</td>\n",
       "      <td>1980.0</td>\n",
       "      <td>305</td>\n",
       "      <td>66</td>\n",
       "      <td>9</td>\n",
       "      <td>Blue</td>\n",
       "      <td>Gray</td>\n",
       "    </tr>\n",
       "    <tr>\n",
       "      <th>3</th>\n",
       "      <td>6305-1</td>\n",
       "      <td>Trees and Flowers</td>\n",
       "      <td>3.75</td>\n",
       "      <td>10.0</td>\n",
       "      <td>17.2</td>\n",
       "      <td>Modern day</td>\n",
       "      <td>1980.0</td>\n",
       "      <td>24</td>\n",
       "      <td>6</td>\n",
       "      <td>4</td>\n",
       "      <td>Green</td>\n",
       "      <td>Red</td>\n",
       "    </tr>\n",
       "    <tr>\n",
       "      <th>4</th>\n",
       "      <td>6306-1</td>\n",
       "      <td>Road Signs</td>\n",
       "      <td>2.50</td>\n",
       "      <td>13.0</td>\n",
       "      <td>12.0</td>\n",
       "      <td>Modern day</td>\n",
       "      <td>1980.0</td>\n",
       "      <td>12</td>\n",
       "      <td>10</td>\n",
       "      <td>1</td>\n",
       "      <td>White</td>\n",
       "      <td>White</td>\n",
       "    </tr>\n",
       "  </tbody>\n",
       "</table>\n",
       "</div>"
      ],
      "text/plain": [
       "   set_no                         name  price_store  price_used  popularity  \\\n",
       "0  1591-1        Danone Delivery Truck          NaN        28.0         NaN   \n",
       "1  1592-1   Town Square - Castle Scene          NaN       235.0        19.2   \n",
       "2  1651-2  Maersk Line Container Lorry          NaN       444.0         5.0   \n",
       "3  6305-1            Trees and Flowers         3.75        10.0        17.2   \n",
       "4  6306-1                   Road Signs         2.50        13.0        12.0   \n",
       "\n",
       "        group    year  total_parts  number_parts  number_colors scolor_1st  \\\n",
       "0  Modern day  1980.0           40            19              4      White   \n",
       "1  Modern day  1980.0          495           133             10      Black   \n",
       "2  Modern day  1980.0          305            66              9       Blue   \n",
       "3  Modern day  1980.0           24             6              4      Green   \n",
       "4  Modern day  1980.0           12            10              1      White   \n",
       "\n",
       "  scolor_2nd  \n",
       "0       Blue  \n",
       "1     Yellow  \n",
       "2       Gray  \n",
       "3        Red  \n",
       "4      White  "
      ]
     },
     "execution_count": 4,
     "metadata": {},
     "output_type": "execute_result"
    },
    {
     "name": "stdout",
     "output_type": "stream",
     "text": [
      "<class 'pandas.core.frame.DataFrame'>\n",
      "RangeIndex: 3213 entries, 0 to 3212\n",
      "Data columns (total 12 columns):\n",
      "set_no           3213 non-null object\n",
      "name             3213 non-null object\n",
      "price_store      2762 non-null float64\n",
      "price_used       3140 non-null float64\n",
      "popularity       3001 non-null float64\n",
      "group            3213 non-null object\n",
      "year             3213 non-null float64\n",
      "total_parts      3213 non-null int64\n",
      "number_parts     3213 non-null int64\n",
      "number_colors    3213 non-null int64\n",
      "scolor_1st       3213 non-null object\n",
      "scolor_2nd       3213 non-null object\n",
      "dtypes: float64(4), int64(3), object(5)\n",
      "memory usage: 301.3+ KB\n"
     ]
    }
   ],
   "source": [
    "FULL_FILE = 'data/brickset_features.csv'\n",
    "full_df = pd.read_csv(FULL_FILE)\n",
    "full_df.head()\n",
    "full_df.info()"
   ]
  },
  {
   "cell_type": "code",
   "execution_count": 5,
   "metadata": {},
   "outputs": [
    {
     "data": {
      "text/plain": [
       "(2762, 12)"
      ]
     },
     "execution_count": 5,
     "metadata": {},
     "output_type": "execute_result"
    }
   ],
   "source": [
    "# filter out sets without store-price\n",
    "\n",
    "full_df = full_df.loc[full_df['price_store'].isna()==False]\n",
    "full_df.shape"
   ]
  },
  {
   "cell_type": "code",
   "execution_count": 6,
   "metadata": {},
   "outputs": [
    {
     "data": {
      "text/plain": [
       "(2762,)"
      ]
     },
     "execution_count": 6,
     "metadata": {},
     "output_type": "execute_result"
    }
   ],
   "source": [
    "# target series\n",
    "\n",
    "target_sr = full_df['price_store']\n",
    "target_sr.shape"
   ]
  },
  {
   "cell_type": "code",
   "execution_count": 7,
   "metadata": {},
   "outputs": [
    {
     "data": {
      "text/plain": [
       "(2762, 27)"
      ]
     },
     "execution_count": 7,
     "metadata": {},
     "output_type": "execute_result"
    }
   ],
   "source": [
    "# feature dataframe with one-hot encoding\n",
    "\n",
    "feature_ls = ['group', 'year', 'total_parts', 'number_parts', 'number_colors', 'scolor_1st', 'scolor_2nd']\n",
    "feature_cat_df = full_df[feature_ls]\n",
    "\n",
    "feature_df = pd.get_dummies(feature_cat_df, \n",
    "               columns = ['group', 'scolor_1st', 'scolor_2nd'], \n",
    "               drop_first= True)\n",
    "feature_df.shape"
   ]
  },
  {
   "cell_type": "markdown",
   "metadata": {},
   "source": [
    "## Split Out Test"
   ]
  },
  {
   "cell_type": "code",
   "execution_count": 8,
   "metadata": {},
   "outputs": [
    {
     "data": {
      "text/plain": [
       "19.99    210\n",
       "29.99    165\n",
       "9.99     145\n",
       "39.99    142\n",
       "49.99    140\n",
       "Name: price_store, dtype: int64"
      ]
     },
     "execution_count": 8,
     "metadata": {},
     "output_type": "execute_result"
    },
    {
     "data": {
      "text/plain": [
       "(129,)"
      ]
     },
     "execution_count": 8,
     "metadata": {},
     "output_type": "execute_result"
    }
   ],
   "source": [
    "# not able to stratify the subsets \n",
    "\n",
    "stratify_sr = target_sr.value_counts()\n",
    "stratify_sr = stratify_sr[stratify_sr > 1]\n",
    "stratify_sr.head()\n",
    "stratify_sr.shape"
   ]
  },
  {
   "cell_type": "code",
   "execution_count": 11,
   "metadata": {},
   "outputs": [
    {
     "data": {
      "text/plain": [
       "(2209,)"
      ]
     },
     "execution_count": 11,
     "metadata": {},
     "output_type": "execute_result"
    },
    {
     "data": {
      "text/plain": [
       "(553,)"
      ]
     },
     "execution_count": 11,
     "metadata": {},
     "output_type": "execute_result"
    },
    {
     "data": {
      "text/plain": [
       "(2209, 7)"
      ]
     },
     "execution_count": 11,
     "metadata": {},
     "output_type": "execute_result"
    },
    {
     "data": {
      "text/plain": [
       "(553, 7)"
      ]
     },
     "execution_count": 11,
     "metadata": {},
     "output_type": "execute_result"
    }
   ],
   "source": [
    "X_train, X_test, y_train, y_test = ms.train_test_split(target_sr, feature_cat_df, test_size=0.2, \n",
    "                                                       random_state=1)\n",
    "X_train.shape\n",
    "X_test.shape\n",
    "y_train.shape\n",
    "y_test.shape "
   ]
  },
  {
   "cell_type": "code",
   "execution_count": null,
   "metadata": {},
   "outputs": [],
   "source": []
  },
  {
   "cell_type": "code",
   "execution_count": null,
   "metadata": {},
   "outputs": [],
   "source": []
  },
  {
   "cell_type": "code",
   "execution_count": null,
   "metadata": {},
   "outputs": [],
   "source": []
  },
  {
   "cell_type": "code",
   "execution_count": null,
   "metadata": {},
   "outputs": [],
   "source": []
  },
  {
   "cell_type": "code",
   "execution_count": null,
   "metadata": {},
   "outputs": [],
   "source": []
  }
 ],
 "metadata": {
  "kernelspec": {
   "display_name": "Python 3",
   "language": "python",
   "name": "python3"
  },
  "language_info": {
   "codemirror_mode": {
    "name": "ipython",
    "version": 3
   },
   "file_extension": ".py",
   "mimetype": "text/x-python",
   "name": "python",
   "nbconvert_exporter": "python",
   "pygments_lexer": "ipython3",
   "version": "3.7.4"
  }
 },
 "nbformat": 4,
 "nbformat_minor": 2
}
